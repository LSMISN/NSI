{
  "nbformat": 4,
  "nbformat_minor": 0,
  "metadata": {
    "colab": {
      "name": "Les arbres.ipynb",
      "provenance": [],
      "collapsed_sections": [
        "YYlKBBWH1SyR",
        "WMOVLlyW4M98",
        "565MyIUvl6rT",
        "MJ6I14BstNwk",
        "FdITkIwYZumM",
        "_m8qOJXser5m",
        "1pQeTAXlzDuk"
      ],
      "include_colab_link": true
    },
    "kernelspec": {
      "name": "python3",
      "display_name": "Python 3"
    }
  },
  "cells": [
    {
      "cell_type": "markdown",
      "metadata": {
        "id": "view-in-github",
        "colab_type": "text"
      },
      "source": [
        "<a href=\"https://colab.research.google.com/github/LSMISN/NSI/blob/master/Les_arbres.ipynb\" target=\"_parent\"><img src=\"https://colab.research.google.com/assets/colab-badge.svg\" alt=\"Open In Colab\"/></a>"
      ]
    },
    {
      "cell_type": "markdown",
      "metadata": {
        "id": "YYlKBBWH1SyR"
      },
      "source": [
        "# Introduction\n",
        "\n",
        "Contrairement aux structures de données de type séquentielles (listes, files, piles), les arbres sont des structures de données : \n",
        "- hiérarchiques,\n",
        "- naturellement récursives.\n",
        "\n",
        "Ils sont \n",
        "\n",
        "- utilisés essentiellement pour représenter et structurer des ensembles de données :\n",
        "  - système de fichiers (répertoires et fichiers),\n",
        "  - base de données,\n",
        "  - documents structurées comme les pages HTML par exemple.\n",
        "\n",
        "- utilisés dans les algorithmes :\n",
        "  - arbres de décision,\n",
        "  - compression de texte (Huffman)"
      ]
    },
    {
      "cell_type": "markdown",
      "metadata": {
        "id": "WMOVLlyW4M98"
      },
      "source": [
        "### Quelques exemples de structures arborescentes\n",
        "\n",
        "![alt text](https://upload.wikimedia.org/wikipedia/commons/2/2c/Arbre_phylog%C3%A9n%C3%A9tique_simplifi%C3%A9-_FR.svg \"arbre phylogénétique\")\n",
        "\n",
        "Dans cette exemple issu du domaine de la biologie, l'arbre est utilisé pour représenter les relations de parenté entre des groupes d'êtres vivants : il s'agit d'un arbre simplifié des êtres vivants sur Terre.\n",
        "\n",
        "A partir de la racine, on constate que l'arbre se divise en 2 sous-grandes catégories regroupant d'une part les bactéries, puis d'autre part les archées et les eucaryottes. Chaque sous-catégories se divisent elles-même en d'autres sous-catégories ...\n",
        "\n",
        "L'arbre établie un lien entre les différents groupes d'espèces. Quelle est la nature de ce lien ? \n",
        "\n",
        "Cela dépend du sens que l'on veut donner à la structure hierarchique :\n",
        "\n",
        "- du plus générique au plus spécifique,\n",
        "- du plus ancien au plus récent,\n",
        "- du plus complexe au plus simple ...\n",
        "\n",
        "... cette sémantique va dépendre de ce que l'on va vouloir modéliser dans le problème avec un arbre.\n",
        "\n"
      ]
    },
    {
      "cell_type": "markdown",
      "metadata": {
        "id": "565MyIUvl6rT"
      },
      "source": [
        "### Exemple système de fichier\n",
        "\n",
        "![alt text](https://upload.wikimedia.org/wikipedia/commons/f/f3/Standard-unix-filesystem-hierarchy.svg \"file system\")"
      ]
    },
    {
      "cell_type": "markdown",
      "metadata": {
        "id": "efhIKjXDnnov"
      },
      "source": [
        "Cette arbre représente l'arborescence de rangement des fichiers dans le système de fichier Unix.\n",
        "\n",
        "A partir de l'origine tout en haut, nommée root, on divise la distributions des fichiers en plusieurs sous-dossiers (en bleu) principaux qui eux-mêmes sont subdivisés en sous-dossier plus spécialisés."
      ]
    },
    {
      "cell_type": "markdown",
      "metadata": {
        "id": "MJ6I14BstNwk"
      },
      "source": [
        "## Terminologie\n",
        "\n",
        "- un **nœud** est caractérisé par une donnée (ou étiquette)\n",
        "- une **arête** (ou lien) relie deux nœuds\n",
        "\n",
        "- les **fils** sont l'ensemble des nœuds reliés à un même nœud par des arêtes entrantes\n",
        "- le **père** (ou parent) est le nœud relié à ses nœuds fils par une arête sortante.\n",
        "- un **sous-arbre** est l'ensemble des nœuds et arêtes d'un nœud parent et de ses fils.\n",
        "\n",
        "- la **racine** est le seul nœud sans père\n",
        "- une **feuille** est un nœud sans fils\n",
        "- un **nœud interne** est un nœud qui n'est pas une feuille\n",
        "- un **chemin** est une liste de nœuds reliés par des arêtes\n",
        "- une **branche** est le chemin le plus court reliant un nœud à la racine.\n",
        "\n",
        "## Quelques mesures\n",
        "\n",
        "- La **taille** : le nombre de noeuds sur l'arbre\n",
        "- la **profondeur** d'un noeud : le nombre d'arêtes sur la branche qui le relie à la racine.\n",
        "- la **hauteur d'un arbre** est :\n",
        "    - 0 si c'est l'arbre vide\n",
        "    - 1 si l'arbre est limité à un seul noeud racine\n",
        "    - la profondeur maximale de l'ensemble des nœuds de l'arbre + 1 dans tous les autres cas\n",
        "\n",
        "- **arité d'un noeud** : nombre de fils d'un noeud\n",
        "- **arité d'un arbre** : arité maximale des noeuds d'un arbre\n"
      ]
    },
    {
      "cell_type": "markdown",
      "metadata": {
        "id": "GRz7QCIYvNWl"
      },
      "source": [
        "# Les arbres binaires\n",
        "\n",
        "L'arité de l'arbre est 2 : chaque noeud ne peut avoir au plus que 2 enfants.\n",
        "\n",
        "### exemples d'applications\n",
        "\n",
        "- arbres binaire de recherche\n",
        "![](https://upload.wikimedia.org/wikipedia/commons/6/66/Red-black_tree_example.svg)\n",
        "\n",
        "[arbres bicolores sur Wikipedia](https://fr.wikipedia.org/wiki/Arbre_bicolore)\n",
        "\n",
        "- arbres de décision\n",
        "\n",
        "![illustration d'un arbre de décision pour prédire la probalité d'engagement de paris sportifs en fonction des conditions climatiques](https://upload.wikimedia.org/wikipedia/commons/b/b7/Arbre_de_decision.jpg)\n",
        "\n",
        "[Introduction aux arbres de décision (Stéphane Caron)](https://scaron.info/doc/intro-arbres-decision/)\n",
        "\n",
        "## DÉFINITION RÉCURSIVE DU TAD ARBRE BINAIRE\n",
        "\n",
        "Un arbre binaire c'est :\n",
        "\n",
        "- soit un arbre vide, noté ∆ ;\n",
        "- soit un triplet (e, g, d), appelé nœud, avec :\n",
        "  - e son étiquette,\n",
        "  - g son sous-arbre binaire gauche,\n",
        "  - d son sous-arbre binaire droit.\n"
      ]
    },
    {
      "cell_type": "markdown",
      "metadata": {
        "id": "zTAqBqwpwH22"
      },
      "source": [
        "## Implémentation en paradigme fonctionnel"
      ]
    },
    {
      "cell_type": "code",
      "metadata": {
        "id": "IlNoHJbL3aFv"
      },
      "source": [
        "# implémentation fonctionnelle du TAD arbre\n",
        "\n",
        "def arbre_vide():\n",
        "  \"\"\"\n",
        "  construit l'arbre vide\n",
        "  \"\"\"\n",
        "  return []\n",
        "\n",
        "def noeud(etiquette, gauche, droit):\n",
        "  \"\"\"\n",
        "  à partir d'une etiquette et d'un arbre binaire gauche,\n",
        "  et d'un arbre binaire droit, produit l'arbre binaire\n",
        "  (etiquette, gauche, droit)\n",
        "  \"\"\"\n",
        "  return [etiquette, gauche, droit]\n",
        "\n",
        "# Les accesseurs\n",
        "def etiquette(arbre):\n",
        "  \"\"\"\n",
        "  renvoie l'etiquette de l'arbre passé en argument\n",
        "  \"\"\"\n",
        "  return arbre[0]\n",
        "\n",
        "def gauche(arbre):\n",
        "  \"\"\"\n",
        "  renvoie l'arbre gauche de l'arbre passé en argument\n",
        "  \"\"\"\n",
        "  return arbre[1]\n",
        "\n",
        "def droit(arbre):\n",
        "  \"\"\"\n",
        "  renvoie l'arbre droit de l'arbre passé en argument\n",
        "  \"\"\"\n",
        "  return arbre[2]\n",
        "\n",
        "# prédicat\n",
        "def est_vide(arbre):\n",
        "  \"\"\"\n",
        "  à partir de l'arbre passé en argument produit\n",
        "  un booléen indiquant si ce dernier est \n",
        "  l'arbre vide\n",
        "  \"\"\"\n",
        "  return arbre == arbre_vide()\n",
        "\n",
        "  if __name__ == \"__main__\": # Exemple d'utilisation du code\n",
        "    a = noeud(1,arbre_vide(), arbre())\n",
        "    print(a)"
      ],
      "execution_count": 39,
      "outputs": []
    },
    {
      "cell_type": "markdown",
      "metadata": {
        "id": "CPmCSkrnD21Q"
      },
      "source": [
        "#### Exercice\n",
        "\n",
        "Écrire le code permettant d'implémenter l'arbre suivant"
      ]
    },
    {
      "cell_type": "markdown",
      "metadata": {
        "id": "rvVKBobMZghc"
      },
      "source": [
        "![image.png](data:image/png;base64,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)"
      ]
    },
    {
      "cell_type": "code",
      "metadata": {
        "id": "li7wzZL7Z5lt",
        "colab": {
          "base_uri": "https://localhost:8080/"
        },
        "outputId": "bc41215e-0012-4237-981c-ec9057fb2968"
      },
      "source": [
        "# un arbre filiforme \n",
        "f1 = noeud(5, arbre_vide(), arbre_vide())\n",
        "n1 = noeud(1, arbre_vide(), f1)\n",
        "n2 = noeud(4, n1, arbre_vide())\n",
        "n3 = noeud(1, arbre_vide(), n2)\n",
        "A1 = noeud(3, n3, arbre_vide())\n",
        "print(A1)"
      ],
      "execution_count": 40,
      "outputs": [
        {
          "output_type": "stream",
          "text": [
            "[3, [1, [], [4, [1, [], [5, [], []]], []]], []]\n"
          ],
          "name": "stdout"
        }
      ]
    },
    {
      "cell_type": "markdown",
      "metadata": {
        "id": "FdITkIwYZumM"
      },
      "source": [
        "#### Exercice\n",
        "\n",
        "Écrire le code permettant d'implémenter l'arbre suivant\n",
        "\n"
      ]
    },
    {
      "cell_type": "markdown",
      "metadata": {
        "id": "OMa6WXfJaiwQ"
      },
      "source": [
        "![image.png](data:image/png;base64,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)"
      ]
    },
    {
      "cell_type": "code",
      "metadata": {
        "colab": {
          "base_uri": "https://localhost:8080/"
        },
        "id": "dpHu2gMl8gaL",
        "outputId": "88b0388b-0ee7-4cdf-edba-dd3f138338c2"
      },
      "source": [
        "# un autre plus complexe\n",
        "f1 = noeud(1, arbre_vide(), arbre_vide())\n",
        "f2 = noeud(5, arbre_vide(), arbre_vide())\n",
        "f3 = noeud(9, arbre_vide(), arbre_vide())\n",
        "f4 = noeud(2, arbre_vide(), arbre_vide())\n",
        "\n",
        "n1 = noeud(1, f1, f2)\n",
        "n2 = noeud(4, f3, f4)\n",
        "\n",
        "A2 = noeud(3, n1, n2)\n",
        "print(A2)"
      ],
      "execution_count": 41,
      "outputs": [
        {
          "output_type": "stream",
          "text": [
            "[3, [1, [1, [], []], [5, [], []]], [4, [9, [], []], [2, [], []]]]\n"
          ],
          "name": "stdout"
        }
      ]
    },
    {
      "cell_type": "markdown",
      "metadata": {
        "id": "Upsx35Aka7bP"
      },
      "source": [
        "## implémentation objet du TAD arbre binaire"
      ]
    },
    {
      "cell_type": "code",
      "metadata": {
        "id": "H2ldHF-peW7T"
      },
      "source": [
        "\"\"\"\n",
        "implémentation objet du TAD Arbre binaire\n",
        "\"\"\"\n",
        "class Noeud:\n",
        "# definition de l'arbre vide\n",
        "  arbre_vide = None\n",
        "# le constructeur\n",
        "  def __init__(self, etiquette, gauche, droit):\n",
        "    self._etiquette = etiquette\n",
        "    self._gauche = gauche\n",
        "    self._droit = droit\n",
        "# les accesseurs\n",
        "  def etiquette(self):\n",
        "    return self._etiquette\n",
        "\n",
        "  def gauche(self):\n",
        "    return self._gauche\n",
        "\n",
        "  def droit(self):\n",
        "    return self._droit\n",
        "# un prédicat\n",
        "  def est_vide(arbre):\n",
        "    return arbre is Noeud.arbre_vide"
      ],
      "execution_count": 42,
      "outputs": []
    },
    {
      "cell_type": "markdown",
      "metadata": {
        "id": "_m8qOJXser5m"
      },
      "source": [
        "#### Exercice : utiliser la classe pour implémenter l'arbre suivant"
      ]
    },
    {
      "cell_type": "markdown",
      "metadata": {
        "id": "5TuNg59Ruhnl"
      },
      "source": [
        "![image.png](data:image/png;base64,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)"
      ]
    },
    {
      "cell_type": "code",
      "metadata": {
        "colab": {
          "base_uri": "https://localhost:8080/"
        },
        "id": "Qrr271N9gbtx",
        "outputId": "b31c95b2-f364-4980-e68d-bc0f85b4a4e9"
      },
      "source": [
        "# exemple pour l'arbre A1\n",
        "A1 = Noeud('K', Noeud.arbre_vide, Noeud.arbre_vide)\n",
        "print(A1)\n",
        "print(A1.etiquette())"
      ],
      "execution_count": 43,
      "outputs": [
        {
          "output_type": "stream",
          "text": [
            "<__main__.Noeud object at 0x7fabbfff10f0>\n",
            "K\n"
          ],
          "name": "stdout"
        }
      ]
    },
    {
      "cell_type": "markdown",
      "metadata": {
        "id": "1pQeTAXlzDuk"
      },
      "source": [
        "#### Exercice : utiliser la classe pour implémenter l'arbre suivant"
      ]
    },
    {
      "cell_type": "markdown",
      "metadata": {
        "id": "qhrEuG__zJPa"
      },
      "source": [
        "![image.png](data:image/png;base64,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)"
      ]
    },
    {
      "cell_type": "code",
      "metadata": {
        "colab": {
          "base_uri": "https://localhost:8080/"
        },
        "id": "LJ9URidHzJxc",
        "outputId": "250e6601-867d-4588-df33-24528d1ea166"
      },
      "source": [
        "# On peut écrire si on le souhaite le code d'une seule traite ...\n",
        "A2 = Noeud('H', Noeud('E', Noeud('L', Noeud.arbre_vide, Noeud.arbre_vide), Noeud.arbre_vide), Noeud('A', Noeud('L', Noeud.arbre_vide, Noeud.arbre_vide), Noeud('R', Noeud.arbre_vide, Noeud.arbre_vide)))\n",
        "\n",
        "# ... Où bien progressivement, ce qui est plus simple et moins vecteur d'erreurs\n",
        "# On commence par construire les feuilles de gauche à droite\n",
        "f1 = Noeud('M', Noeud.arbre_vide, Noeud.arbre_vide)\n",
        "f2 = Noeud('L', Noeud.arbre_vide, Noeud.arbre_vide)\n",
        "f3 = Noeud('R', Noeud.arbre_vide, Noeud.arbre_vide)\n",
        "# puis les noeuds internes n1 et n2 toujours de gauche à droite\n",
        "# auxquelles on accroche les feuilles correspondantes\n",
        "n1 = Noeud('E', f1, Noeud.arbre_vide)\n",
        "n2 = Noeud('A', f2, f3)\n",
        "## On accroche enfin n1 et n2 à la racine ce qui constitue notre arbre\n",
        "A3 = Noeud('H', n1, n2)\n",
        "\n",
        "# afficher l'etiquette de la feuille la plus à droite\n",
        "print(A3.droit().droit().etiquette())\n",
        "# afficher l'etiquette du fils gauche de la racine\n",
        "print(A3.gauche().etiquette())"
      ],
      "execution_count": 44,
      "outputs": [
        {
          "output_type": "stream",
          "text": [
            "R\n",
            "E\n"
          ],
          "name": "stdout"
        }
      ]
    },
    {
      "cell_type": "markdown",
      "metadata": {
        "id": "cbBMXu9z52jX"
      },
      "source": [
        "# Algorithmes sur les arbres\n",
        "\n",
        "## Définitions\n",
        "\n",
        "Pour traiter les informations présentes dans les arbres, il est nécessaire de les parcourir noeud par noeud, branche par branche ... plusieurs stratégies sont possibles pour effectuer ce parcours. Pour afficher tous les noeuds d'un arbre par exemple, on distingue les parcours suivants :\n",
        "\n",
        "- Préfixe :\n",
        "  - On affiche la racine, puis le sous-arbre gauche, puis le sous-arbre droit\n",
        "- Infixe :\n",
        "  - On affiche le sous-arbre gauche, puis la racine, puis le sous-arbre droit\n",
        "- Suffixe :\n",
        "  - On affiche le sous-arbre gauche, puis le\n",
        "sous-arbre droit, puis la racine"
      ]
    },
    {
      "cell_type": "markdown",
      "metadata": {
        "id": "9ugA0qdmQtu2"
      },
      "source": [
        "### Parcours préfix (racine, gauche, droit)\n",
        "\n",
        "```\n",
        "T : arbre\n",
        "x : noeud\n",
        "\n",
        "DEBUT\n",
        "\n",
        "AFFICHE_PREFIX(T) :\n",
        "  SI T pas arbre_vide :\n",
        "    x ← T.racine\n",
        "    affiche x.etiquette\n",
        "    AFFICHE_PREFIX(x.gauche)    \n",
        "    AFFICHE_PREIXE(x.droit)\n",
        "  FIN_SI\n",
        "\n",
        "FIN\n",
        "```\n",
        "\n"
      ]
    },
    {
      "cell_type": "markdown",
      "metadata": {
        "id": "u4yzW8lz7Q7b"
      },
      "source": [
        "Exercice  : Donner le résultat de l'affichage des étiquettes de l'arbre suivant par parcours préfixe\n",
        "\n"
      ]
    },
    {
      "cell_type": "markdown",
      "metadata": {
        "id": "uv6-eNUARJ1g"
      },
      "source": [
        "![image.png](data:image/png;base64,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)"
      ]
    },
    {
      "cell_type": "markdown",
      "metadata": {
        "id": "WtNQCCTgRe30"
      },
      "source": [
        "le parcours préfixe indique racine, sous-arbre gauche, sous-arbre droit, cela donne donc :\n",
        "\n",
        "racine : **H**\n",
        "- sous-arbre gauche : **E**\n",
        "    \n",
        "    - sous-arbre gauche : **M**\n",
        "        - sous-arbre gauche : vide\n",
        "        - sous-arbre droit : vide\n",
        "    - sous-arbre gauche : vide\n",
        "\n",
        "- sous-arbre droit : **A**\n",
        "    - sous-arbre gauche : **L**\n",
        "        - sous-arbre gauche : vide\n",
        "        - sous-arbre droit : vide\n",
        "    - sous-arbre droit : **R**\n",
        "        - sous-arbre gauche : vide\n",
        "        - sous-arbre droit :  vide\n",
        "\n",
        "Le résultat du parcours préfixe donnera donc la séquence :\n",
        "H, E, M, A, L, R.\n",
        "\n",
        "On constate sans l'avoir explicitement écrit que l'algorithme de parcours sera plus facilement écrit de manière **RECURSIVE**  étant donnée que partant d'un noeud, on visite le sous-arbre droit, qui contient lui-même potentiellement un sous-arbre droit, et gauche, qui contiennent eux-mêmes des sous-arbre droit, et gauche ..."
      ]
    },
    {
      "cell_type": "markdown",
      "metadata": {
        "id": "nWsDc1UqxOc8"
      },
      "source": [
        "#### Exercice\n",
        "\n",
        "Implémenter l'algorithme affiche_prefixe(arbre) et l'appliquer sur l'arbre A3 précédent implémenté en POO. "
      ]
    },
    {
      "cell_type": "code",
      "metadata": {
        "colab": {
          "base_uri": "https://localhost:8080/"
        },
        "id": "VW7dFmhwyH9n",
        "outputId": "d6d6dc15-d285-4db8-c034-4fb2ccc138b5"
      },
      "source": [
        "# Executer la cellule plus haut pour récupérer A3\n",
        "# si cette cellule est exécutée en premier\n",
        "\n",
        "def affiche_prefixe(unArbre):\n",
        "  \"\"\"\n",
        "  affiche les etiquettes de l'arbre unArbre en \n",
        "  parcourant l'arbre dans l'ordre prefixe\n",
        "  \"\"\"\n",
        "  if not Noeud.est_vide(unArbre):\n",
        "        print(unArbre.etiquette())\n",
        "        affiche_prefixe(unArbre.gauche())\n",
        "        affiche_prefixe(unArbre.droit())\n",
        "\n",
        "affiche_prefixe(A3)"
      ],
      "execution_count": 45,
      "outputs": [
        {
          "output_type": "stream",
          "text": [
            "H\n",
            "E\n",
            "M\n",
            "A\n",
            "L\n",
            "R\n"
          ],
          "name": "stdout"
        }
      ]
    },
    {
      "cell_type": "markdown",
      "metadata": {
        "id": "VSgfzL_-UNZW"
      },
      "source": [
        "### Parcours infixe (gauche, racine, droit)\n",
        "\n",
        "l'algorithme est le suivant\n",
        "\n",
        "```\n",
        "T : arbre\n",
        "x : noeud\n",
        "\n",
        "DEBUT\n",
        "AFFICHE_INFIXE(T) :\n",
        "  si T ≠ arbre_vide :\n",
        "    x ← T.racine\n",
        "    AFFICHE_INFIXE(x.gauche)\n",
        "    affiche x.etiquette\n",
        "    AFFICHE_INFIXE(x.droit)\n",
        "  FIN_SI\n",
        "FIN\n",
        "```\n",
        "\n"
      ]
    },
    {
      "cell_type": "markdown",
      "metadata": {
        "id": "2Z8RmuKWs4n5"
      },
      "source": [
        "Exercice  : Donner le résultat de l'affichage des étiquettes de l'arbre suivant par parcours préfixe\n",
        "\n"
      ]
    },
    {
      "cell_type": "markdown",
      "metadata": {
        "id": "kH9XLmjNtGR3"
      },
      "source": [
        "![image.png](data:image/png;base64,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)"
      ]
    },
    {
      "cell_type": "markdown",
      "metadata": {
        "id": "V8Cmwg8UtLBv"
      },
      "source": [
        "A, B, C, E, D, F, G, I, H, J"
      ]
    },
    {
      "cell_type": "markdown",
      "metadata": {
        "id": "JaC59abK0Jo9"
      },
      "source": [
        "#### Exercice\n",
        "\n",
        "Implémenter l'algorithme affiche_infixe(arbre) et l'appliquer sur l'arbre A3 précédent implémenté en POO. "
      ]
    },
    {
      "cell_type": "code",
      "metadata": {
        "colab": {
          "base_uri": "https://localhost:8080/"
        },
        "id": "_QilYs_s0RXp",
        "outputId": "e4af38b4-e726-428d-a7b2-b29253dca2cb"
      },
      "source": [
        "def affiche_infixe(unArbre):\n",
        "  \"\"\"\n",
        "  affiche les etiquettes de l'arbre unArbre en \n",
        "  parcourant l'arbre dans l'ordre infixe\n",
        "  \"\"\"\n",
        "  if not Noeud.est_vide(unArbre):\n",
        "        affiche_infixe(unArbre.gauche())\n",
        "        print(unArbre.etiquette())\n",
        "        affiche_infixe(unArbre.droit())\n",
        "\n",
        "affiche_infixe(A3)"
      ],
      "execution_count": 46,
      "outputs": [
        {
          "output_type": "stream",
          "text": [
            "M\n",
            "E\n",
            "H\n",
            "L\n",
            "A\n",
            "R\n"
          ],
          "name": "stdout"
        }
      ]
    },
    {
      "cell_type": "markdown",
      "metadata": {
        "id": "zbp9sU8NtXXU"
      },
      "source": [
        "### Parcours suffixe (gauche, droit,racine)\n",
        "\n",
        "```\n",
        "T : arbre\n",
        "x : noeud\n",
        "\n",
        "DEBUT\n",
        "AFFICHE_SUFFIXE(T) :\n",
        "  si T ≠ arbre_vide :\n",
        "    x ← T.racine\n",
        "    AFFICHE_SUFFIXE(x.gauche)\n",
        "    AFFICHE_SUFFIXE(x.droit)\n",
        "    affiche x.etiquette\n",
        "  FIN_SI\n",
        "FIN\n",
        "```\n",
        "\n"
      ]
    },
    {
      "cell_type": "markdown",
      "metadata": {
        "id": "AdmVyh3Gt4js"
      },
      "source": [
        "Exercice  : Donner le résultat de l'affichage des étiquettes de l'arbre suivant par parcours suffixe\n",
        "\n"
      ]
    },
    {
      "cell_type": "markdown",
      "metadata": {
        "id": "32YG_W3Ot9ya"
      },
      "source": [
        "![image.png](data:image/png;base64,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)"
      ]
    },
    {
      "cell_type": "markdown",
      "metadata": {
        "id": "dCpFRiMft-4g"
      },
      "source": [
        "![Affichage_suffixe.png](data:image/png;base64,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)"
      ]
    },
    {
      "cell_type": "markdown",
      "metadata": {
        "id": "opq9OiF_w2l4"
      },
      "source": [
        "L'affichage sera donc E, C, D, B, I, G, J, H, F, A"
      ]
    },
    {
      "cell_type": "markdown",
      "metadata": {
        "id": "IREyI2h70fdF"
      },
      "source": [
        "#### Exercice\n",
        "\n",
        "Implémenter l'algorithme affiche_suffixe(arbre) et l'appliquer sur l'arbre A3 précédent implémenté en POO. "
      ]
    },
    {
      "cell_type": "code",
      "metadata": {
        "colab": {
          "base_uri": "https://localhost:8080/"
        },
        "id": "0FZMjqTo0maE",
        "outputId": "34ca5424-d742-461e-eb9b-03e67b4daa9b"
      },
      "source": [
        "def affiche_suffixe(unArbre):\n",
        "  \"\"\"\n",
        "  affiche les etiquettes de l'arbre unArbre en \n",
        "  parcourant l'arbre dans l'ordre infixe\n",
        "  \"\"\"\n",
        "  if not Noeud.est_vide(unArbre):\n",
        "        affiche_suffixe(unArbre.gauche())\n",
        "        affiche_suffixe(unArbre.droit())\n",
        "        print(unArbre.etiquette())\n",
        "\n",
        "affiche_suffixe(A3)"
      ],
      "execution_count": 47,
      "outputs": [
        {
          "output_type": "stream",
          "text": [
            "M\n",
            "E\n",
            "L\n",
            "R\n",
            "A\n",
            "H\n"
          ],
          "name": "stdout"
        }
      ]
    },
    {
      "cell_type": "markdown",
      "metadata": {
        "id": "fR_a4cIXvgvg"
      },
      "source": [
        "## Calcul de la hauteur d'un arbre\n",
        "\n",
        "**Rappel** \n",
        "\n",
        "la hauteur d'un arbre est égale à :\n",
        "\n",
        "- 0 si c'est l'arbre vide\n",
        "- 1 si l'arbre est limité à un seul noeud racine\n",
        "- la profondeur maximale de l'ensemble des nœuds de l'arbre + 1 dans tous les autres cas\n",
        "\n"
      ]
    },
    {
      "cell_type": "markdown",
      "metadata": {
        "id": "No7mWpLgxfPN"
      },
      "source": [
        "L'algorithme de calcul de la la hauteur est donc\n",
        "\n",
        "\n",
        "```\n",
        "T : arbre\n",
        "x : noeud\n",
        "\n",
        "DEBUT\n",
        "HAUTEUR(T) :\n",
        "  SI T ≠ arbre_vide :\n",
        "    x ← T.racine\n",
        "    renvoyer 1 + max(HAUTEUR(x.gauche), HAUTEUR(x.droit))\n",
        "  SINON :\n",
        "    renvoyer 0\n",
        "  FIN_SI\n",
        "FIN\n",
        "```\n",
        "\n"
      ]
    },
    {
      "cell_type": "markdown",
      "metadata": {
        "id": "SDeLK2dXx6nh"
      },
      "source": [
        "### Exercice\n",
        "\n",
        "Implémenter cette algorithme et l'appliquer à l'arbre A3"
      ]
    },
    {
      "cell_type": "code",
      "metadata": {
        "id": "jXdOghmeyCRI"
      },
      "source": [
        "def hauteur(unArbre):\n",
        "  \"\"\"\n",
        "  calcul et renvoie la hauteur de l'arbre unArbre\n",
        "  \"\"\"\n",
        "  if not Noeud.est_vide(unArbre):\n",
        "    return 1 + max( hauteur(unArbre.gauche()), hauteur(unArbre.droit()))\n",
        "  else:\n",
        "    return 0\n",
        "\n",
        "assert hauteur(A3) == 3"
      ],
      "execution_count": 48,
      "outputs": []
    },
    {
      "cell_type": "markdown",
      "metadata": {
        "id": "wpaodKApyvVf"
      },
      "source": [
        "## Calcul de la taille d'un arbre\n",
        "\n",
        "**Rappel** \n",
        "\n",
        "la taille est le nombre de noeuds sur l'arbre\n",
        "\n"
      ]
    },
    {
      "cell_type": "markdown",
      "metadata": {
        "id": "yWlGsXojzBjg"
      },
      "source": [
        "L'algorithme de calcul de la taille est donc\n",
        "\n",
        "\n",
        "```\n",
        "T : arbre\n",
        "x : noeud\n",
        "\n",
        "DEBUT\n",
        "TAILLE(T) :\n",
        "  SI T ≠ arbre_vide :\n",
        "    x ← T.racine\n",
        "    renvoyer 1 + TAILLE(x.gauche) + TAILLE(x.droit)\n",
        "  SINON :\n",
        "    renvoyer 0\n",
        "  FIN_SI\n",
        "FIN\n",
        "```\n",
        "\n"
      ]
    },
    {
      "cell_type": "markdown",
      "metadata": {
        "id": "ESw3JiNfzdEb"
      },
      "source": [
        "### Exercice\n",
        "\n",
        "Implémenter cette algorithme et l'appliquer à l'arbre A3"
      ]
    },
    {
      "cell_type": "code",
      "metadata": {
        "id": "IZNJGWq4zdq3"
      },
      "source": [
        "def taille(unArbre):\n",
        "  \"\"\"\n",
        "  calcul et renvoie la taille de l'arbre unArbre\n",
        "  \"\"\"\n",
        "  if not Noeud.est_vide(unArbre):\n",
        "    return 1 + taille(unArbre.gauche()) + taille(unArbre.droit())\n",
        "  else:\n",
        "    return 0\n",
        "\n",
        "assert taille(A3) == 6"
      ],
      "execution_count": 49,
      "outputs": []
    },
    {
      "cell_type": "markdown",
      "metadata": {
        "id": "99jNSYEs1Syc"
      },
      "source": [
        "### Exercice\r\n",
        "\r\n",
        "Ecrire une fonction est_feuille(monArbre) qui renvoie un booleen indiquant si un noeud est une feuille."
      ]
    },
    {
      "cell_type": "code",
      "metadata": {
        "id": "tVnvHuc64ZM4"
      },
      "source": [
        "def est_feuille(monArbre):\r\n",
        "  \"\"\"\r\n",
        "  renvoie une booléen indiquant \r\n",
        "  si le noeud de l'arbre passé en argument\r\n",
        "  est une feuille\r\n",
        "  \"\"\"\r\n",
        "  return Noeud.est_vide(gauche(arbre)) and Noeud.est_vide(droit(arbre))"
      ],
      "execution_count": 50,
      "outputs": []
    },
    {
      "cell_type": "markdown",
      "metadata": {
        "id": "Q26nBKyb43ml"
      },
      "source": [
        "### Exercice\r\n",
        "\r\n",
        "Ecrire une fonction compte_feuille(monArbre) qui compte le nombre de feuilles de l'arbre passé en argument."
      ]
    },
    {
      "cell_type": "code",
      "metadata": {
        "id": "BK8CDziu5H7L"
      },
      "source": [
        "def compte_feuilles (arbre):\r\n",
        "  if Noeud.est_vide(arbre):\r\n",
        "    return 0\r\n",
        "  if est_feuille(arbre):\r\n",
        "    return 1 \r\n",
        "  return compte_feuille(gauche(arbre)) + compte_feuille(droit(arbre))"
      ],
      "execution_count": 51,
      "outputs": []
    },
    {
      "cell_type": "markdown",
      "metadata": {
        "id": "QSN1GA-qv7FI"
      },
      "source": [
        "## Remarque sur la complexité de ces algorithmes\n",
        "\n",
        "On constate que le nombre de recursion est proportionnelle aux nombre n de noeuds présents dans l'arbre à parcourir. On a donc une complexité en O(n)."
      ]
    },
    {
      "cell_type": "markdown",
      "metadata": {
        "id": "mKowH_H045yK"
      },
      "source": [
        "### Exercice de synthèse \n",
        "\n",
        "- Implémenter l'arbre A4 ci-dessous en utilisant la classe Noeud.\n",
        "- écrire une fonction est_présent(unArbre, uneValeur) qui renvoie le booléen True lorsque l'étiquette uneValeur est présente dans l'arbre unArbre et False dans le cas contraire."
      ]
    },
    {
      "cell_type": "markdown",
      "metadata": {
        "id": "XuWJomLF5jvB"
      },
      "source": [
        "![image.png](data:image/png;base64,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)"
      ]
    },
    {
      "cell_type": "code",
      "metadata": {
        "id": "M-0SL3kV5kv3"
      },
      "source": [
        "def est_present(unArbre, uneValeur):\n",
        "  \"\"\"\n",
        "  retourne True si l'étiquette uneValeur est présente dans\n",
        "  l'arbre unArbre\n",
        "  \"\"\"\n",
        "  if not Noeud.est_vide(unArbre):\n",
        "    if unArbre.etiquette() == uneValeur:\n",
        "      return True\n",
        "    if est_present(unArbre.gauche(), uneValeur):\n",
        "      return True\n",
        "    if est_present(unArbre.droit(), uneValeur):\n",
        "      return True\n",
        "  return False\n",
        "\n",
        "# Construction de l'arbre A4\n",
        "f1 = Noeud('E', Noeud.arbre_vide, Noeud.arbre_vide)\n",
        "f2 = Noeud('I', Noeud.arbre_vide, Noeud.arbre_vide)\n",
        "f3 = Noeud('J', Noeud.arbre_vide, Noeud.arbre_vide)\n",
        "# noeuds internes de niveau 2\n",
        "n1 = Noeud('C', Noeud.arbre_vide, f1)\n",
        "n2 = Noeud('D', Noeud.arbre_vide, Noeud.arbre_vide)\n",
        "n3 = Noeud('G', f2, Noeud.arbre_vide)\n",
        "n4 = Noeud('H', Noeud.arbre_vide, f3)\n",
        "# noeuds internes de niveau 1\n",
        "n5 = Noeud('B', n1, n2)\n",
        "n6 = Noeud('F', n3, n4)\n",
        "# racine\n",
        "A4 = Noeud('A', n5, n6)\n",
        "\n",
        "assert est_present(A4, 'D') == True\n",
        "assert est_present(A4, 'Z') == False"
      ],
      "execution_count": 52,
      "outputs": []
    },
    {
      "cell_type": "markdown",
      "metadata": {
        "id": "-tpB8QP4srm2"
      },
      "source": [
        "## Rechercher un élément dans un arbre\n",
        "\n",
        "Afin de trouver un élément dans un arbre, on peut le parcourir\n",
        "\n",
        "- soit dans en ***profondeur (DFS : Depth First Search)***, c'est-à-dire qu'on descend dans les profondeur de l'arbre autant que l'on peut. Partant d'un noeud on traite tous ses descendants, puis on remonte pour traiter le père et les autres fils. Les parcours prefix, infixe et suffixe rentrent dans cette catégorie. \n",
        "- soit dans sa ***largeur (BFS : Breadth First Search)***, on recherche dans tous les noeuds à distance 1 du noeud de départ, puis on recherche dans tous les noeuds à distance 2 ... et ainsi de suite.\n",
        "\n"
      ]
    },
    {
      "cell_type": "markdown",
      "metadata": {
        "id": "RtmxiFBIw_92"
      },
      "source": [
        "## Parcours en largeur (BFS)\r\n",
        "\r\n",
        "Comme dit précédemment, on va parcourir l'arbre niveau par niveau en partant de la racine. Pour une recherche, on va donc regarder les noeuds à distance1 de la racine. Si l'élément recherché n'est pas présent, on va poursuivre la recherche dans les noeuds à distance 2 de la racine ... et ainsi de suite.\r\n",
        "\r\n",
        "On constate dans cette première description des tâches à accomplir que :\r\n",
        "\r\n",
        "- le traitement semble plutôt itératif,\r\n",
        "- on ne peut pas passer d'un noeud de niveau p, à un noeud de niveau p+1,\r\n",
        "- il faut donc se souvenir pour chaque niveau des noeuds à traiter.\r\n",
        "\r\n",
        "Les deux dernières remarques induisent de s'orienter pour le stockage des noeuds à traiter d'un étage à une structure de type File.\r\n",
        "\r\n",
        "Voici l'algorithme proposé pour faire le parcours en largeur:\r\n",
        "\r\n",
        "\r\n",
        "\r\n",
        "```\r\n",
        "Au début, la file contient l’arbre principal\r\n",
        "Si la valeur n’est pas à la racine du premier\r\n",
        "arbre de la file : \r\n",
        "    On supprime l’arbre de la file\r\n",
        "    On ajoute ses deux sous-arbre en fin de file s’ils\r\n",
        "ne sont pas vides\r\n",
        "• Et on explore l’arbre suivant, qui est le premier de la file\r\n",
        "On s’arrête quand on a trouvé ou que la file\r\n",
        "est vide\r\n",
        "```\r\n",
        "\r\n",
        "Plus formellement, cela peut donne :\r\n",
        "\r\n",
        "\r\n",
        "\r\n",
        "```\r\n",
        "Parcours_en_largeur(a : arbre):\r\n",
        "DEBUT\r\n",
        "  SI a <> arbre_vide:\r\n",
        "    F = File()\r\n",
        "    F.enfiler(a)\r\n",
        "\r\n",
        "    TANT QUE F.est_vide() == False:\r\n",
        "      arbre_traite = F.defiler()\r\n",
        "      afficher(arbre_traite.etiquette)\r\n",
        "\r\n",
        "      SI arbre_traite.gauche() <> arbre_vide:\r\n",
        "        F.enfile(arbre_traite.gauche())\r\n",
        "      FIN_SI\r\n",
        "\r\n",
        "      SI arbre_traite.droit() <> arbre_vide:\r\n",
        "        F.enfile(arbre_traite.droit())\r\n",
        "      FIN_SI\r\n",
        "FIN\r\n",
        "```\r\n",
        "\r\n",
        "\r\n",
        "\r\n",
        "\r\n",
        "\r\n"
      ]
    },
    {
      "cell_type": "markdown",
      "metadata": {
        "id": "f_9_YhWLrTNc"
      },
      "source": [
        "### Implémentation du parcours BFS\r\n",
        "\r\n",
        "On utilise une implémentation de File  sous forme de list, vue précédement"
      ]
    },
    {
      "cell_type": "code",
      "metadata": {
        "id": "hpft8qqptPZ6"
      },
      "source": [
        "\"\"\" Implémentation fonctionnelle utilisant les fonctions\r\n",
        "Python pop et append \"\"\"\r\n",
        "\r\n",
        "# constructeur\r\n",
        "def file_vide():\r\n",
        "  \"\"\" renvoie la file vide \"\"\"\r\n",
        "  return []\r\n",
        "\r\n",
        "# les fonctions\r\n",
        "def push(valeur, file):\r\n",
        "  \"\"\"\r\n",
        "  renvoie une file qui est la file\r\n",
        "  passée en argument dans laquelle\r\n",
        "  on a enfilé la valeur\r\n",
        "  \"\"\"\r\n",
        "  file.append(valeur)\r\n",
        "  return file\r\n",
        "\r\n",
        "def pop(file):\r\n",
        "  \"\"\"\r\n",
        "  renvoie la valeur présente en tête\r\n",
        "  de file et le reste de la file sans\r\n",
        "  cette valeur.\r\n",
        "  \"\"\"\r\n",
        "  val = file.pop(0)\r\n",
        "  return (val, file)\r\n",
        "\r\n",
        "# predicat\r\n",
        "def est_vide(file):\r\n",
        "  \"\"\"\r\n",
        "  renvoie un booléen qui indique\r\n",
        "  si la file passée en argument\r\n",
        "  est vide ou pas\r\n",
        "  \"\"\"\r\n",
        "  return file == file_vide()"
      ],
      "execution_count": 58,
      "outputs": []
    },
    {
      "cell_type": "code",
      "metadata": {
        "id": "oOFrQflRtU_2",
        "colab": {
          "base_uri": "https://localhost:8080/"
        },
        "outputId": "d9dc2a4e-090b-44fd-c23c-186efa19f174"
      },
      "source": [
        "def parcours_en_largeur(monArbre):\r\n",
        "  \"\"\"\"\r\n",
        "    parcours en largeur de monArbre\r\n",
        "    renvoie une liste des etiquettes\r\n",
        "  \"\"\"\r\n",
        "  maListe = []\r\n",
        "\r\n",
        "  # Si monArbre n'est pas l'arbre vide\r\n",
        "  # on crée une file et on y enfile la racine de monArbre\r\n",
        "  if not Noeud.est_vide(monArbre):\r\n",
        "      maFile = file_vide()\r\n",
        "      push(monArbre, maFile)\r\n",
        "\r\n",
        "      # TANTQUE maFile n'est pas vide\r\n",
        "      # on traite le noeud placé en tête\r\n",
        "      while not est_vide(maFile):\r\n",
        "          arbre_traite = pop(maFile)[0]\r\n",
        "          # on place l'etiquette de l'arbre_traite\r\n",
        "          # dans maListe\r\n",
        "          maListe.append(arbre_traite.etiquette())\r\n",
        "          # on memorise dans maFile les éventuelles\r\n",
        "          # fils gauche et droit de l'arbre_traite\r\n",
        "          if not Noeud.est_vide(arbre_traite.gauche()):\r\n",
        "              # on enfile le fils gauche dans maFile\r\n",
        "              push(arbre_traite.gauche(), maFile)\r\n",
        "          if not Noeud.est_vide(arbre_traite.droit()):\r\n",
        "              push(arbre_traite.droit(), maFile)\r\n",
        "  # on renvoie la liste avec les noeuds obtenues à l'issu du parcours en largeur\r\n",
        "  return maListe\r\n",
        "\r\n",
        "parcours_en_largeur(A4)\r\n"
      ],
      "execution_count": 59,
      "outputs": [
        {
          "output_type": "execute_result",
          "data": {
            "text/plain": [
              "['A', 'B', 'F', 'C', 'D', 'G', 'H', 'E', 'I', 'J']"
            ]
          },
          "metadata": {
            "tags": []
          },
          "execution_count": 59
        }
      ]
    },
    {
      "cell_type": "markdown",
      "metadata": {
        "id": "gF1fE-MrzD_R"
      },
      "source": [
        "### Comparaison BFS vs DFS"
      ]
    },
    {
      "cell_type": "markdown",
      "metadata": {
        "id": "v9aFWgtPzL3K"
      },
      "source": [
        ""
      ]
    },
    {
      "cell_type": "markdown",
      "metadata": {
        "id": "8Z5epaVAzXYC"
      },
      "source": [
        "# Arbre binaire de recherche ABR (Binary Search Tree)\n",
        "\n",
        "## Définitions\n",
        "\n",
        "Un arbre binaire de recherche (ABR)\n",
        "est un arbre binaire dans lequel chaque\n",
        "nœud possède une clé telle que :\n",
        "\n",
        "- chaque nœud du sous-arbre gauche\n",
        "possède une clé inférieure ou égale à celle\n",
        "du nœud considéré\n",
        "- chaque nœud du sous-arbre droit possède\n",
        "une clé supérieure ou égale à celle-ci\n",
        "- (on pourra interdire ou non des clés de\n",
        "valeur égale)\n",
        "\n",
        "- Préfixe :\n",
        "  - On affiche la racine, puis le sous-arbre gauche, puis le sous-arbre droit\n",
        "- Infixe :\n",
        "  - On affiche le sous-arbre gauche, puis la racine, puis le sous-arbre droit\n",
        "- Suffixe :\n",
        "  - On affiche le sous-arbre gauche, puis le\n",
        "sous-arbre droit, puis la racine"
      ]
    },
    {
      "cell_type": "markdown",
      "metadata": {
        "id": "NRBrGfEkzlxH"
      },
      "source": [
        "![Binary_search_tree.svg](https://upload.wikimedia.org/wikipedia/commons/d/da/Binary_search_tree.svg)"
      ]
    },
    {
      "cell_type": "markdown",
      "metadata": {
        "id": "UjKarwfC7KrJ"
      },
      "source": [
        "## Algorithme de recherche d'une clé\r\n",
        "\r\n",
        "\r\n",
        "La fonction renvoie un booléen qui indique si la clé fournie en argument est présente dans l'arbre également fournie en argument\r\n",
        "\r\n",
        "```\r\n",
        "fonction rechercheCle(monArbre, cle):\r\n",
        "DEBUT\r\n",
        "  SI monArbre == est_vide :\r\n",
        "    renvoyer Faux\r\n",
        "  SINON :\r\n",
        "    SI cle < monArbre.etiquette:\r\n",
        "      renvoyer rechercheCle(monArbre.gauche, cle)\r\n",
        "    SINON:\r\n",
        "      renvoyer rechercheCle(monArbre.droit, cle)\r\n",
        "    FIN_SI\r\n",
        "  FIN_SI\r\n",
        "FIN\r\n",
        "```\r\n",
        "\r\n",
        "#### Complexité asymptotique\r\n",
        "\r\n",
        "On a un parcours qui se divise en deux à chaque\r\n",
        "itération. On est très proche d'un algorithme\r\n",
        "dichotomique, on a donc une compléxité en O(log2(n))).\r\n",
        "\r\n"
      ]
    },
    {
      "cell_type": "markdown",
      "metadata": {
        "id": "YTfHAmhv_mB5"
      },
      "source": [
        "## Algorithme d'insertion d'une clé\r\n",
        "\r\n",
        "---\r\n",
        "\r\n",
        "Lorsqu'on veut insérer une nouvelle clé, on insère une feuille. On va chercher une valeur de clé par comparaison à la racine jusqu'à atteindre une feuille. Dès qu'on a trouvé la feuille, la valeur est ajoutée dans un noeud enfant de la feuille.\r\n",
        "\r\n",
        "```\r\n",
        "fonction insererNoeud(monArbre, cle):\r\n",
        "DEBUT\r\n",
        "  TANT_QUE monArbre != est_vide:\r\n",
        "    arbre_courant = monArbre\r\n",
        "    SI cle <= arbre_courant.etiquette:\r\n",
        "      arbre_courant = monArbre.gauche\r\n",
        "    SINON : \r\n",
        "      arbre_courant = monArbre.droit\r\n",
        "    FIN_SI\r\n",
        "  FIN_TANT_QUE\r\n",
        "  # On a trouvé une feuille pour insérer la nouvelle clé\r\n",
        "  SI cle <= arbre_courant.etiquette:\r\n",
        "    arbre_courant.gauche = Noeud(cle, arbre_vide)\r\n",
        "  SINON:\r\n",
        "    arbre_courant.droit = Noeud(cle, arbre_vide)\r\n",
        "  FIN_SI\r\n",
        "FIN\r\n",
        "```\r\n",
        "\r\n"
      ]
    },
    {
      "cell_type": "markdown",
      "metadata": {
        "id": "eK8s1_TCFPpo"
      },
      "source": [
        "### Exercice\r\n",
        "\r\n",
        "Donner l'algorithme de max_abr(monArbre) permettant de rechercher la valeur maximale stockée dans un ABR.\r\n",
        "\r\n",
        "Implémenter l'algorithme et le tester sur l'ABR suivant :"
      ]
    },
    {
      "cell_type": "markdown",
      "metadata": {
        "id": "_SBBwo9oF0A0"
      },
      "source": [
        "![Binary_search_tree.svg](https://upload.wikimedia.org/wikipedia/commons/d/da/Binary_search_tree.svg)"
      ]
    },
    {
      "cell_type": "markdown",
      "metadata": {
        "id": "j3_eTJRyIk17"
      },
      "source": [
        "\r\n",
        "\r\n",
        "```\r\n",
        "fonction max_abr(monArbre):\r\n",
        "  SI monArbre != est_vide:\r\n",
        "    arbre_courant = monArbre\r\n",
        "    TANT_QUE arbre_courant.droit != est_vide:\r\n",
        "      arbre_courant = arbre_courant.droit\r\n",
        "    FIN_TANT_QUE\r\n",
        "    retourne arbre_courant.etiquette\r\n",
        "  FIN_SI\r\n",
        "```\r\n",
        "\r\n"
      ]
    },
    {
      "cell_type": "code",
      "metadata": {
        "id": "HpW1xqdSJQct",
        "colab": {
          "base_uri": "https://localhost:8080/"
        },
        "outputId": "9c2f92ef-ad8a-4a56-9652-11b5c7c2c160"
      },
      "source": [
        "def max_abr(monArbre):\r\n",
        "  if not Noeud.est_vide(monArbre):\r\n",
        "    arbre_courant = monArbre\r\n",
        "    while not Noeud.est_vide(arbre_courant.droit()):\r\n",
        "      arbre_courant = arbre_courant.droit()\r\n",
        "    return arbre_courant.etiquette()\r\n",
        "\r\n",
        "# implémentation de l'ABR de test\r\n",
        "f1 = Noeud(4, Noeud.arbre_vide, Noeud.arbre_vide)\r\n",
        "f2 = Noeud(7, Noeud.arbre_vide, Noeud.arbre_vide)\r\n",
        "f3 = Noeud(13, Noeud.arbre_vide, Noeud.arbre_vide)\r\n",
        "# noeuds internes de niveau 2\r\n",
        "n1 = Noeud(1, Noeud.arbre_vide, Noeud.arbre_vide)\r\n",
        "n2 = Noeud(6, f1, f2)\r\n",
        "n3 = Noeud(14, f3, Noeud.arbre_vide)\r\n",
        "# noeuds internes de niveau 1\r\n",
        "n4 = Noeud(3, n1, n2)\r\n",
        "n5 = Noeud(10, Noeud.arbre_vide, n3)\r\n",
        "# racine\r\n",
        "A5 = Noeud(8, n4, n5)\r\n",
        "\r\n",
        "print(max_abr(A5))\r\n"
      ],
      "execution_count": 60,
      "outputs": [
        {
          "output_type": "stream",
          "text": [
            "14\n"
          ],
          "name": "stdout"
        }
      ]
    },
    {
      "cell_type": "markdown",
      "metadata": {
        "id": "A_bLP8NLG0Qa"
      },
      "source": [
        "### Exercice\r\n",
        "\r\n",
        "Construire un ABR à partir de la liste maListe = [8, 6, 19, 5, 2, 1, 22, 20, 24, 10, 30]"
      ]
    },
    {
      "cell_type": "markdown",
      "metadata": {
        "id": "PzMnndJN3kDZ"
      },
      "source": [
        "![image.png](data:image/png;base64,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)"
      ]
    }
  ]
}