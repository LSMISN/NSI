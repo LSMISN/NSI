{
  "nbformat": 4,
  "nbformat_minor": 0,
  "metadata": {
    "colab": {
      "name": "Les_arbres.ipynb",
      "provenance": [],
      "collapsed_sections": [],
      "include_colab_link": true
    },
    "kernelspec": {
      "name": "python3",
      "display_name": "Python 3"
    }
  },
  "cells": [
    {
      "cell_type": "markdown",
      "metadata": {
        "id": "view-in-github",
        "colab_type": "text"
      },
      "source": [
        "<a href=\"https://colab.research.google.com/github/LSMISN/NSI/blob/master/Les_arbres.ipynb\" target=\"_parent\"><img src=\"https://colab.research.google.com/assets/colab-badge.svg\" alt=\"Open In Colab\"/></a>"
      ]
    },
    {
      "cell_type": "markdown",
      "metadata": {
        "id": "YYlKBBWH1SyR"
      },
      "source": [
        "# Introduction\n",
        "\n",
        "Contrairement aux structures de données de type séquentielles (listes, files, piles), les arbres sont des structures de données : \n",
        "- hiérarchiques,\n",
        "- naturellement récursives.\n",
        "\n",
        "Ils sont \n",
        "\n",
        "- utilisés essentiellement pour représenter et structurer des ensembles de données :\n",
        "  - système de fichiers (répertoires et fichiers),\n",
        "  - base de données,\n",
        "  - documents structurées comme les pages HTML par exemple.\n",
        "\n",
        "- utilisés dans les algorithmes :\n",
        "  - arbres de décision,\n",
        "  - compression de texte (Huffman)"
      ]
    },
    {
      "cell_type": "markdown",
      "metadata": {
        "id": "WMOVLlyW4M98"
      },
      "source": [
        "### Quelques exemples de structures arborescentes\n",
        "\n",
        "![alt text](https://upload.wikimedia.org/wikipedia/commons/2/2c/Arbre_phylog%C3%A9n%C3%A9tique_simplifi%C3%A9-_FR.svg \"arbre phylogénétique\")\n",
        "\n",
        "Dans cette exemple issu du domaine de la biologie, l'arbre est utilisé pour représenter les relations de parenté entre des groupes d'êtres vivants : il s'agit d'un arbre simplifié des êtres vivants sur Terre.\n",
        "\n",
        "A partir de la racine, on constate que l'arbre se divise en 2 sous-grandes catégories regroupant d'une part les bactéries, puis d'autre part les archées et les eucaryottes. Chaque sous-catégories se divisent elles-même en d'autres sous-catégories ...\n",
        "\n",
        "L'arbre établie un lien entre les différents groupes d'espèces. Quelle est la nature de ce lien ? \n",
        "\n",
        "Cela dépend du sens que l'on veut donner à la structure hierarchique :\n",
        "\n",
        "- du plus générique au plus spécifique,\n",
        "- du plus ancien au plus récent,\n",
        "- du plus complexe au plus simple ...\n",
        "\n",
        "... cette sémantique va dépendre de ce que l'on va vouloir modéliser dans le problème avec un arbre.\n",
        "\n"
      ]
    },
    {
      "cell_type": "markdown",
      "metadata": {
        "id": "565MyIUvl6rT"
      },
      "source": [
        "### Exemple système de fichier\n",
        "\n",
        "![alt text](https://upload.wikimedia.org/wikipedia/commons/f/f3/Standard-unix-filesystem-hierarchy.svg \"file system\")"
      ]
    },
    {
      "cell_type": "markdown",
      "metadata": {
        "id": "efhIKjXDnnov"
      },
      "source": [
        "Cette arbre représente l'arborescence de rangement des fichiers dans le système de fichier Unix.\n",
        "\n",
        "A partir de l'origine tout en haut, nommée root, on divise la distributions des fichiers en plusieurs sous-dossiers (en bleu) principaux qui eux-mêmes sont subdivisés en sous-dossier plus spécialisés."
      ]
    },
    {
      "cell_type": "markdown",
      "metadata": {
        "id": "MJ6I14BstNwk"
      },
      "source": [
        "# Terminologie\n",
        "\n",
        "- Noeuds\n",
        "- Arètes\n",
        "\n",
        "- les fils\n",
        "- le père\n",
        "- sous-arbre\n",
        "\n",
        "- la racine\n",
        "- une feuille\n",
        "- un noeud interne\n",
        "- un chemin\n",
        "- une branche\n",
        "\n",
        "## Quelques mesures\n",
        "\n",
        "- La taille : le nombre de noeuds sur l'arbre\n",
        "- la profondeur d'un noeud : le nombre d'arêtes sur la branche qui le relie à la racine.\n",
        "- la hauteur d'un arbre\n",
        "\n",
        "- arité d'un noeud : nombre de fils d'un noeud\n",
        "- arité d'un arbre : arité maximale des noeuds d'un arbre\n"
      ]
    },
    {
      "cell_type": "markdown",
      "metadata": {
        "id": "GRz7QCIYvNWl"
      },
      "source": [
        "# Les arbres binaires\n",
        "\n",
        "L'arité de l'arbre est 2 : chaque noeud ne peut avoir au plus que 2 enfants.\n",
        "\n",
        "### exemples d'applications\n",
        "\n",
        "- arbres binaire de recherche\n",
        "![](https://upload.wikimedia.org/wikipedia/commons/6/66/Red-black_tree_example.svg)\n",
        "\n",
        "[arbres bicolores sur Wikipedia](https://fr.wikipedia.org/wiki/Arbre_bicolore)\n",
        "\n",
        "- arbres de décision\n",
        "\n",
        "![illustration d'un arbre de décision pour prédire la probalité d'engagement de paris sportifs en fonction des conditions climatiques](https://upload.wikimedia.org/wikipedia/commons/b/b7/Arbre_de_decision.jpg)\n",
        "\n",
        "[Introduction aux arbres de décision (Stéphane Caron)](https://scaron.info/doc/intro-arbres-decision/)\n",
        "\n",
        "## DÉFINITION RÉCURSIVE DU TAD ARBRE BINAIRE\n",
        "\n",
        "Un arbre binaire c'est :\n",
        "\n",
        "- soit un arbre vide, noté ∆ ;\n",
        "- soit un triplet (e, g, d), appelé nœud, avec :\n",
        "  - e son étiquette,\n",
        "  - g son sous-arbre binaire gauche,\n",
        "  - d son sous-arbre binaire droit.\n"
      ]
    },
    {
      "cell_type": "markdown",
      "metadata": {
        "id": "zTAqBqwpwH22"
      },
      "source": [
        "## Implémentation en paradigme fonctionnel"
      ]
    },
    {
      "cell_type": "code",
      "metadata": {
        "id": "IlNoHJbL3aFv"
      },
      "source": [
        "# implémentation fonctionnelle du TAD arbre\n",
        "\n",
        "def arbre_vide():\n",
        "  \"\"\"\n",
        "  construit l'arbre vide\n",
        "  \"\"\"\n",
        "  return []\n",
        "\n",
        "def noeud(etiquette, gauche, droit):\n",
        "  \"\"\"\n",
        "  à partir d'une etiquette et d'un arbre binaire gauche,\n",
        "  et d'un arbre binaire droit, produit l'arbre binaire\n",
        "  (etiquette, gauche, droit)\n",
        "  \"\"\"\n",
        "  return [etiquette, gauche, droit]\n",
        "\n",
        "# Les accesseurs\n",
        "def etiquette(arbre):\n",
        "  \"\"\"\n",
        "  renvoie l'etiquette de l'arbre passé en argument\n",
        "  \"\"\"\n",
        "  return arbre[0]\n",
        "\n",
        "def gauche(arbre):\n",
        "  \"\"\"\n",
        "  renvoie l'arbre gauche de l'arbre passé en argument\n",
        "  \"\"\"\n",
        "  return arbre[1]\n",
        "\n",
        "def droit(arbre):\n",
        "  \"\"\"\n",
        "  renvoie l'arbre droit de l'arbre passé en argument\n",
        "  \"\"\"\n",
        "  return arbre[2]\n",
        "\n",
        "# prédicat\n",
        "def est_vide(arbre):\n",
        "  \"\"\"\n",
        "  à partir de l'arbre passé en argument produit\n",
        "  un booléen indiquant si ce dernier est \n",
        "  l'arbre vide\n",
        "  \"\"\"\n",
        "  return arbre == arbre_vide()\n",
        "\n",
        "  if __name__ == \"__main__\": # Exemple d'utilisation du code\n",
        "    a = noeud(1,arbre_vide(), arbre())\n",
        "    print(a)"
      ],
      "execution_count": null,
      "outputs": []
    },
    {
      "cell_type": "markdown",
      "metadata": {
        "id": "CPmCSkrnD21Q"
      },
      "source": [
        "#### Exercice\n",
        "\n",
        "Écrire le code permettant d'implémenter l'arbre suivant"
      ]
    },
    {
      "cell_type": "markdown",
      "metadata": {
        "id": "rvVKBobMZghc"
      },
      "source": [
        "![image.png](data:image/png;base64,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)"
      ]
    },
    {
      "cell_type": "code",
      "metadata": {
        "id": "li7wzZL7Z5lt"
      },
      "source": [
        "# un arbre filiforme \n",
        "f1 = noeud(5, arbre_vide(), arbre_vide())\n",
        "n1 = noeud(1, arbre_vide(), f1)\n",
        "n2 = noeud(4, n1, arbre_vide())\n",
        "n3 = noeud(1, arbre_vide(), n2)\n",
        "A1 = noeud(3, n3, arbre_vide())\n",
        "print(A1)"
      ],
      "execution_count": null,
      "outputs": []
    },
    {
      "cell_type": "markdown",
      "metadata": {
        "id": "FdITkIwYZumM"
      },
      "source": [
        "#### Exercice\n",
        "\n",
        "Écrire le code permettant d'implémenter l'arbre suivant\n",
        "\n"
      ]
    },
    {
      "cell_type": "markdown",
      "metadata": {
        "id": "OMa6WXfJaiwQ"
      },
      "source": [
        "![image.png](data:image/png;base64,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)"
      ]
    },
    {
      "cell_type": "code",
      "metadata": {
        "colab": {
          "base_uri": "https://localhost:8080/"
        },
        "id": "dpHu2gMl8gaL",
        "outputId": "50ea33e5-f036-45fa-f716-f8f177b74b4d"
      },
      "source": [
        "# un autre plus complexe\n",
        "f1 = noeud(1, arbre_vide(), arbre_vide())\n",
        "f2 = noeud(5, arbre_vide(), arbre_vide())\n",
        "f3 = noeud(9, arbre_vide(), arbre_vide())\n",
        "f4 = noeud(2, arbre_vide(), arbre_vide())\n",
        "\n",
        "n1 = noeud(1, f1, f2)\n",
        "n2 = noeud(4, f3, f4)\n",
        "\n",
        "A2 = noeud(3, n1, n2)\n",
        "print(A2)"
      ],
      "execution_count": null,
      "outputs": [
        {
          "output_type": "stream",
          "text": [
            "[1, [], []]\n",
            "[3, [1, [], [4, [1, [], [5, [], []]], []]], []]\n",
            "[3, [1, [1, [], []], [5, [], []]], [4, [9, [], []], [2, [], []]]]\n"
          ],
          "name": "stdout"
        }
      ]
    },
    {
      "cell_type": "markdown",
      "metadata": {
        "id": "Upsx35Aka7bP"
      },
      "source": [
        "## implémentation objet du TAD arbre binaire"
      ]
    },
    {
      "cell_type": "code",
      "metadata": {
        "id": "H2ldHF-peW7T"
      },
      "source": [
        "\"\"\"\n",
        "implémentation objet du TAD Arbre binaire\n",
        "\"\"\"\n",
        "class Noeud:\n",
        "# definition de l'arbre vide\n",
        "  arbre_vide = None\n",
        "# le constructeur\n",
        "  def __init__(self, etiquette, gauche, droit):\n",
        "    self._etiquette = etiquette\n",
        "    self._gauche = gauche\n",
        "    self._droit = droit\n",
        "# les accesseurs\n",
        "  def etiquette(self):\n",
        "    return self._etiquette\n",
        "\n",
        "  def gauche(self):\n",
        "    return self._gauche\n",
        "\n",
        "  def droit(self):\n",
        "    return self._droit\n",
        "# un prédicat\n",
        "  def est_vide(arbre):\n",
        "    return arbre is Noeud.arbre_vide"
      ],
      "execution_count": null,
      "outputs": []
    },
    {
      "cell_type": "markdown",
      "metadata": {
        "id": "_m8qOJXser5m"
      },
      "source": [
        "#### Exercice : utiliser la classe pour implémenter l'arbre suivant"
      ]
    },
    {
      "cell_type": "markdown",
      "metadata": {
        "id": "5TuNg59Ruhnl"
      },
      "source": [
        "![image.png](data:image/png;base64,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)"
      ]
    },
    {
      "cell_type": "code",
      "metadata": {
        "colab": {
          "base_uri": "https://localhost:8080/"
        },
        "id": "Qrr271N9gbtx",
        "outputId": "e643be17-d16e-4991-e73f-a9ac54c9e6e8"
      },
      "source": [
        "# exemple pour l'arbre A1\n",
        "A1 = Noeud('K', Noeud.arbre_vide, Noeud.arbre_vide)\n",
        "print(A1)\n",
        "print(A1.etiquette())"
      ],
      "execution_count": null,
      "outputs": [
        {
          "output_type": "stream",
          "text": [
            "<__main__.Noeud object at 0x7f62e5997b38>\n",
            "K\n"
          ],
          "name": "stdout"
        }
      ]
    },
    {
      "cell_type": "markdown",
      "metadata": {
        "id": "1pQeTAXlzDuk"
      },
      "source": [
        "#### Exercice : utiliser la classe pour implémenter l'arbre suivant"
      ]
    },
    {
      "cell_type": "markdown",
      "metadata": {
        "id": "qhrEuG__zJPa"
      },
      "source": [
        "![image.png](data:image/png;base64,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)"
      ]
    },
    {
      "cell_type": "code",
      "metadata": {
        "colab": {
          "base_uri": "https://localhost:8080/"
        },
        "id": "LJ9URidHzJxc",
        "outputId": "bc0d1664-865b-4bac-fde2-8cc6904c3c87"
      },
      "source": [
        "# On peut écrire si on le souhaite le code d'une seule traite ...\n",
        "A2 = Noeud('H', Noeud('E', Noeud('L', Noeud.arbre_vide, Noeud.arbre_vide), Noeud.arbre_vide), Noeud('A', Noeud('L', Noeud.arbre_vide, Noeud.arbre_vide), Noeud('R', Noeud.arbre_vide, Noeud.arbre_vide)))\n",
        "\n",
        "# ... Où bien progressivement, ce qui est plus simple et moins vecteur d'erreurs\n",
        "# On commence par construire les feuilles de gauche à droite\n",
        "f1 = Noeud('L', Noeud.arbre_vide, Noeud.arbre_vide)\n",
        "f2 = Noeud('L', Noeud.arbre_vide, Noeud.arbre_vide)\n",
        "f3 = Noeud('R', Noeud.arbre_vide, Noeud.arbre_vide)\n",
        "# puis les noeuds internes n1 et n2 toujours de gauche à droite\n",
        "# auxquelles on accroche les feuilles correspondantes\n",
        "n1 = Noeud('E', f1, Noeud.arbre_vide)\n",
        "n2 = Noeud('A', f2, f3)\n",
        "## On accroche enfin n1 et n2 à la racine ce qui constitue notre arbre\n",
        "A3 = Noeud('H', n1, n2)\n",
        "\n",
        "# afficher l'etiquette de la feuille la plus à droite\n",
        "print(A3.droit().droit().etiquette())\n",
        "# afficher l'etiquette du fils gauche de la racine\n",
        "print(A3.gauche().etiquette())"
      ],
      "execution_count": null,
      "outputs": [
        {
          "output_type": "stream",
          "text": [
            "R\n",
            "E\n"
          ],
          "name": "stdout"
        }
      ]
    },
    {
      "cell_type": "markdown",
      "metadata": {
        "id": "cbBMXu9z52jX"
      },
      "source": [
        "# Algorithmes sur les arbres\n",
        "\n",
        "## Définitions\n",
        "\n",
        "Pour traiter les informations présentes dans les arbres, il est nécessaire de les parcourir noeud par noeud, branche par branche ... plusieurs stratégies sont possibles pour effectuer ce parcours. Pour afficher tous les noeuds d'un arbre par exemple, on distingue les parcours suivants :\n",
        "\n",
        "- Préfixe :\n",
        "  - On affiche la racine, puis le sous-arbre gauche, puis le sous-arbre droit\n",
        "- Infixe :\n",
        "  - On affiche le sous-arbre gauche, puis la racine, puis le sous-arbre droit\n",
        "- Postfixe :\n",
        "  - On affiche le sous-arbre gauche, puis le\n",
        "sous-arbre droit, puis la racine"
      ]
    },
    {
      "cell_type": "markdown",
      "metadata": {
        "id": "u4yzW8lz7Q7b"
      },
      "source": [
        "Exercice  : Donner le résultat de l'affichage des étiquettes de l'arbre suivant par parcours préfixe, infixe, et suffixe\n",
        "\n"
      ]
    },
    {
      "cell_type": "markdown",
      "metadata": {
        "id": "uv6-eNUARJ1g"
      },
      "source": [
        "![image.png](data:image/png;base64,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)"
      ]
    },
    {
      "cell_type": "code",
      "metadata": {
        "id": "9OxJ40dpJyP2"
      },
      "source": [
        ""
      ],
      "execution_count": null,
      "outputs": []
    },
    {
      "cell_type": "markdown",
      "metadata": {
        "id": "WtNQCCTgRe30"
      },
      "source": [
        "le parcours préfixe indique racine, sous-arbre gauche, sous-arbre droit, cela donne donc :\n",
        "\n",
        "racine : **H**\n",
        "- sous-arbre gauche : **E**\n",
        "    \n",
        "    - sous-arbre gauche : **M**\n",
        "        - sous-arbre gauche : vide\n",
        "        - sous-arbre droit : vide\n",
        "    - sous-arbre gauche : vide\n",
        "\n",
        "- sous-arbre droit : **A**\n",
        "    - sous-arbre gauche : **L**\n",
        "        - sous-arbre gauche : vide\n",
        "        - sous-arbre droit : vide\n",
        "    - sous-arbre droit : **R**\n",
        "        - sous-arbre gauche : vide\n",
        "        - sous-arbre droit :  vide\n",
        "\n",
        "Le résultat du parcours préfixe donnera donc la séquence :\n",
        "H, E, M, A, L, R.\n",
        "\n",
        "On constate sans l'avoir explicitement écrit que l'algorithme de parcours sera plus facilement écrit de manière **RECURSIVE**  étant donnée que partant d'un noeud, on visite le sous-arbre droit, qui contient lui-même potentiellement un sous-arbre droit, et gauche, qui contiennent eux-mêmes des sous-arbre droit, et gauche ..."
      ]
    },
    {
      "cell_type": "markdown",
      "metadata": {
        "id": "VSgfzL_-UNZW"
      },
      "source": [
        "Le parcours infixe (gauche, racine, droit)"
      ]
    },
    {
      "cell_type": "markdown",
      "metadata": {
        "id": "9ugA0qdmQtu2"
      },
      "source": [
        "T : arbre\n",
        "x : noeud\n",
        "\n",
        "DEBUT\n",
        "AFFICHE_(T) :\n",
        "  SI T pas arbre_vide :\n",
        "    x ← T.racine\n",
        "    PARCOURS-INFIXE(x.gauche)\n",
        "    affiche x.clé\n",
        "    PARCOURS-INFIXE(x.droit)\n",
        "  fin si\n",
        "FIN"
      ]
    }
  ]
}