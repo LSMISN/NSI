{
 "cells": [
  {
   "cell_type": "markdown",
   "metadata": {},
   "source": [
    "# Les Fichiers en Python #"
   ]
  },
  {
   "cell_type": "markdown",
   "metadata": {},
   "source": [
    "## Connaitre le dossier (repertoire) de travail courant ##"
   ]
  },
  {
   "cell_type": "code",
   "execution_count": 2,
   "metadata": {},
   "outputs": [
    {
     "name": "stdout",
     "output_type": "stream",
     "text": [
      "/home/prof\n"
     ]
    }
   ],
   "source": [
    "from os import getcwd\n",
    "\n",
    "repertoire_courant = getcwd()\n",
    "print(repertoire_courant)"
   ]
  },
  {
   "cell_type": "markdown",
   "metadata": {},
   "source": [
    "## Changer de répertoire de travail"
   ]
  },
  {
   "cell_type": "code",
   "execution_count": null,
   "metadata": {},
   "outputs": [],
   "source": [
    "from os import chdir\n",
    "\n",
    "chdir(\"T:/NSI\")"
   ]
  },
  {
   "cell_type": "markdown",
   "metadata": {},
   "source": [
    "## Créer un fichier texte en écriture"
   ]
  },
  {
   "cell_type": "markdown",
   "metadata": {},
   "source": [
    "la fonction **open()** permet de désigner le fichier, on rajoute comme argument l'option **\"w\"** (comme write) pour indiquer que le fichier doit être ouvert en écriture."
   ]
  },
  {
   "cell_type": "code",
   "execution_count": 3,
   "metadata": {},
   "outputs": [],
   "source": [
    "ma_sauvegarde = open(\"NSI27_11.txt\",\"w\")\n",
    "ma_sauvegarde.write(\"Comment allez vous ?\")\n",
    "ma_sauvegarde.write(\"Moi aussi, ça peut aller\")\n",
    "ma_sauvegarde.close()\n"
   ]
  },
  {
   "cell_type": "markdown",
   "metadata": {},
   "source": [
    "<h3 style=\"color:red;\">Remarque1</h3>\n",
    "\n",
    "Il est très important de faire appel à la méthode **close()** après la dernière instruction d'écriture afin de valider l'inscription du fichier sur le support physique (disque dur, clé usb...). En effet, toutes les opérations d'écriture s'exécute en mémoire vive RAM, sans cet appel, les informations restent en mémoire et disparaissent après l'éxecution du code.\n",
    "\n",
    "<h3 style=\"color:red;\">Remarque2</h3>\n",
    "    \n",
    "Il est tout à fait possible d'indiquer le chemin absolu du fichier dans la fonction **open()**.\n",
    "    \n",
    "```python\n",
    "ma_sauvegarde = open(\"T:\\Mes Documents\\NSI\\testNSI.txt\")\n",
    "```"
   ]
  },
  {
   "cell_type": "markdown",
   "metadata": {},
   "source": [
    "<h2 style=\"color:green;\">\n",
    "Après l'éxecution de ce code, observez le contenu du fichier généré à l'aide d'un éditeur de texte (notepad++ par exemple sous windows).\n",
    "</h2>"
   ]
  },
  {
   "cell_type": "markdown",
   "metadata": {},
   "source": [
    "<h2 style=\"color:green;\">\n",
    "Modifier les phrases à écrire et exécuter de nouveau le code. Ouvrir le fichier avec l'éditeur. Qu'est-il arrivé aux précédentes sauvegardes ?--à compléter--<h2 style=\"color:green;\">"
   ]
  },
  {
   "cell_type": "markdown",
   "metadata": {},
   "source": [
    "<h2 style=\"color:green;\">\n",
    "Rajouter le caractère d'échappement \\n à la fin de chaque phrase. Quel effet se caractère a-t-il sur les données enregistrées ? --à compléter--\n",
    "<h2 style=\"color:green;\">"
   ]
  },
  {
   "cell_type": "markdown",
   "metadata": {},
   "source": [
    "## Rajout d'information en fin de fichier ##"
   ]
  },
  {
   "cell_type": "markdown",
   "metadata": {},
   "source": [
    "<h2 style=\"color:green;\">\n",
    "Essayer le code précédent avec l'option \"a\" à la place de \"w\"\n",
    "</h2>"
   ]
  },
  {
   "cell_type": "markdown",
   "metadata": {},
   "source": [
    "<h2 style=\"color:green;\">\n",
    "Conclusion : --à compléter par vous même --\n",
    "</h2>"
   ]
  },
  {
   "cell_type": "markdown",
   "metadata": {},
   "source": [
    "### Exercice\n",
    "\n",
    "Ecrire un code qui permet créé un fichier texte d'extension .csv contenant 100 séries de 50 nombres entiers aléatoires compris entre 0 et 100, chaque nombre doit être séparé par une virgule."
   ]
  },
  {
   "cell_type": "code",
   "execution_count": 4,
   "metadata": {},
   "outputs": [],
   "source": [
    "from random import randint\n",
    "#rappel pour tirer un nombre entier entre 0 et 100 un_nombre = randint(0,101)\n",
    "\n",
    "# On crée le fichier de sauvegarde au format csv\n",
    "mon_fichier = open(\"nombres_aleatoires.csv\",\"w\")\n",
    "\n",
    "# On boucle 100 fois pour 100 lignes:\n",
    "for nombre_ligne in range(100):\n",
    "    # On boucle 50 fois pour les valeurs:\n",
    "    for nombre_tirage in range(50):\n",
    "        # On tire un nombre aléatoire\n",
    "        tirage = randint(0,101)\n",
    "        # On l'écrit dans le fichier\n",
    "        mon_fichier.write(str(tirage))\n",
    "        # SI ce n'est pas le dernier\n",
    "        if nombre_tirage < 50:\n",
    "            # ALORS on rajoute une virgule\n",
    "            mon_fichier.write(\",\")\n",
    "    # On insère un saut de ligne en fin de ligne\n",
    "    mon_fichier.write(\"\\n\")\n",
    "            \n",
    "# On cloture le fichier pour enregistrer les résultats.\n",
    "mon_fichier.close()\n",
    "#rappel pour tirer un nombre entier entre 0 et 100 un_nombre = randint(0,101)"
   ]
  },
  {
   "cell_type": "code",
   "execution_count": 7,
   "metadata": {},
   "outputs": [],
   "source": [
    "\"\"\"\n",
    "        Exercice  : Traitement de données GPS\n",
    "        Application sur les fichiers et les listes\n",
    "        Mercredi 4 décembre 2019\n",
    "        \n",
    "        On ouvre un fichier d'acquisition de trame GPS\n",
    "        au format NMEA.\n",
    "        \n",
    "        On s'interesse uniquement aux trames GPRMC afin de\n",
    "        récupérer les données latitude, et longitude.\n",
    "        \n",
    "        On recopie les valeurs des données dans le fichier de sauvegarde\n",
    "        au format CSV (une ligne par jeu de données. Chaque données séparées par une virgule)\n",
    "\"\"\"\n",
    "\n",
    "# On crée le fichier de sauvegarde avec l'extension csv, en mode écriture\n",
    "fichier_sauvegarde = open(\"donnees_GPS_filtres.csv\",\"w\")\n",
    "\n",
    "fichierGPS = open(\"trameGps\",\"r\") # On ouvre le fichier à traiter en lecture\n",
    "data_GPS = fichierGPS.readlines() # data_GPS est une liste des trames\n",
    "fichierGPS.close() # On cloture le fichier puisqu'on a récupéré les données\n",
    "\n",
    "# Parcourir les données GPS\n",
    "for trame in data_GPS:    \n",
    "    \n",
    "    # SI la trame commence par \"GPRMC\"\n",
    "    if trame[0:6] == \"$GPRMC\": # on compare les 6 premiers caractères de la chaine de caractere à $GPRMC\n",
    "        # On sépare les données de la trame dans une liste pour faciliter le traitement\n",
    "        donnees_trame = trame.split(\",\")\n",
    "        # SI le champ correspondant à la latitude n'est pas vide position\n",
    "        if donnees_trame[3] != \"\":\n",
    "            # copier les données latitude,N,longitude,W dans un fichier de sauvegarde au format CSV           \n",
    "            fichier_sauvegarde.write(donnees_trame[3]+\",\" # latitude, virgule de séparation\n",
    "                                     +donnees_trame[4]+\",\" # hemisphere, virgule de séparation\n",
    "                                     +donnees_trame[5]+\",\" # longitude, virgule de séparation\n",
    "                                     +donnees_trame[6]+\"\\n\") # EST/WEST, fin de ligne donc saut de ligne\n",
    "# On cloture le fichier de sauvegarde\n",
    "fichier_sauvegarde.close()"
   ]
  },
  {
   "cell_type": "code",
   "execution_count": 14,
   "metadata": {},
   "outputs": [
    {
     "name": "stdout",
     "output_type": "stream",
     "text": [
      "['GPRSM', ' 12', ' 14', ' N']\n"
     ]
    }
   ],
   "source": [
    "# Effet de la fonction split() sur une chaine de caracteres\n",
    "maChaine = \"GPRSM, 12, 14, N\"\n",
    "liste_des_elements = maChaine.split(\",\") # elle donne en sortie une liste des éléments\n",
    "print(liste_des_elements) # qui étaient initialement séparés par une virgule"
   ]
  }
 ],
 "metadata": {
  "kernelspec": {
   "display_name": "Python 3",
   "language": "python",
   "name": "python3"
  },
  "language_info": {
   "codemirror_mode": {
    "name": "ipython",
    "version": 3
   },
   "file_extension": ".py",
   "mimetype": "text/x-python",
   "name": "python",
   "nbconvert_exporter": "python",
   "pygments_lexer": "ipython3",
   "version": "3.7.3"
  }
 },
 "nbformat": 4,
 "nbformat_minor": 4
}
