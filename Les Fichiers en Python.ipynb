{
 "cells": [
  {
   "cell_type": "markdown",
   "metadata": {},
   "source": [
    "# Les Fichiers en Python #"
   ]
  },
  {
   "cell_type": "markdown",
   "metadata": {},
   "source": [
    "## Connaitre le dossier (repertoire) de travail courant ##"
   ]
  },
  {
   "cell_type": "code",
   "execution_count": 2,
   "metadata": {},
   "outputs": [
    {
     "name": "stdout",
     "output_type": "stream",
     "text": [
      "/home/prof\n"
     ]
    }
   ],
   "source": [
    "from os import getcwd\n",
    "\n",
    "repertoire_courant = getcwd()\n",
    "print(repertoire_courant)"
   ]
  },
  {
   "cell_type": "markdown",
   "metadata": {},
   "source": [
    "## Changer de répertoire de travail"
   ]
  },
  {
   "cell_type": "code",
   "execution_count": null,
   "metadata": {},
   "outputs": [],
   "source": [
    "from os import chdir\n",
    "\n",
    "chdir(\"T:/NSI\")"
   ]
  },
  {
   "cell_type": "markdown",
   "metadata": {},
   "source": [
    "## Créer un fichier texte en écriture"
   ]
  },
  {
   "cell_type": "markdown",
   "metadata": {},
   "source": [
    "la fonction **open()** permet de désigner le fichier, on rajoute comme argument l'option **\"w\"** (comme write) pour indiquer que le fichier doit être ouvert en écriture."
   ]
  },
  {
   "cell_type": "code",
   "execution_count": 3,
   "metadata": {},
   "outputs": [],
   "source": [
    "ma_sauvegarde = open(\"NSI27_11.txt\",\"w\")\n",
    "ma_sauvegarde.write(\"Comment allez vous ?\")\n",
    "ma_sauvegarde.write(\"Moi aussi, ça peut aller\")\n",
    "ma_sauvegarde.close()\n"
   ]
  },
  {
   "cell_type": "markdown",
   "metadata": {},
   "source": [
    "<h3 style=\"color:red;\">Remarque1</h3>\n",
    "\n",
    "Il est très important de faire appel à la méthode **close()** après la dernière instruction d'écriture afin de valider l'inscription du fichier sur le support physique (disque dur, clé usb...). En effet, toutes les opérations d'écriture s'exécute en mémoire vive RAM, sans cet appel, les informations restent en mémoire et disparaissent après l'éxecution du code.\n",
    "\n",
    "<h3 style=\"color:red;\">Remarque2</h3>\n",
    "    \n",
    "Il est tout à fait possible d'indiquer le chemin absolu du fichier dans la fonction **open()**.\n",
    "    \n",
    "```python\n",
    "ma_sauvegarde = open(\"T:\\Mes Documents\\NSI\\testNSI.txt\")\n",
    "```"
   ]
  },
  {
   "cell_type": "markdown",
   "metadata": {},
   "source": [
    "<h2 style=\"color:green;\">\n",
    "Après l'éxecution de ce code, observez le contenu du fichier généré à l'aide d'un éditeur de texte (notepad++ par exemple sous windows).\n",
    "</h2>"
   ]
  },
  {
   "cell_type": "markdown",
   "metadata": {},
   "source": [
    "<h2 style=\"color:green;\">\n",
    "Modifier les phrases à écrire et exécuter de nouveau le code. Ouvrir le fichier avec l'éditeur. Qu'est-il arrivé aux précédentes sauvegardes ?--à compléter--<h2 style=\"color:green;\">"
   ]
  },
  {
   "cell_type": "markdown",
   "metadata": {},
   "source": [
    "<h2 style=\"color:green;\">\n",
    "Rajouter le caractère d'échappement \\n à la fin de chaque phrase. Quel effet se caractère a-t-il sur les données enregistrées ? --à compléter--\n",
    "<h2 style=\"color:green;\">"
   ]
  },
  {
   "cell_type": "markdown",
   "metadata": {},
   "source": [
    "## Rajout d'information en fin de fichier ##"
   ]
  },
  {
   "cell_type": "markdown",
   "metadata": {},
   "source": [
    "<h2 style=\"color:green;\">\n",
    "Essayer le code précédent avec l'option \"a\" à la place de \"w\"\n",
    "</h2>"
   ]
  },
  {
   "cell_type": "markdown",
   "metadata": {},
   "source": [
    "<h2 style=\"color:green;\">\n",
    "Conclusion : --à compléter par vous même --\n",
    "</h2>"
   ]
  }
 ],
 "metadata": {
  "kernelspec": {
   "display_name": "Python 3",
   "language": "python",
   "name": "python3"
  },
  "language_info": {
   "codemirror_mode": {
    "name": "ipython",
    "version": 3
   },
   "file_extension": ".py",
   "mimetype": "text/x-python",
   "name": "python",
   "nbconvert_exporter": "python",
   "pygments_lexer": "ipython3",
   "version": "3.7.3"
  }
 },
 "nbformat": 4,
 "nbformat_minor": 4
}
