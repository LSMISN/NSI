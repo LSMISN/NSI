{
 "cells": [
  {
   "cell_type": "markdown",
   "metadata": {},
   "source": [
    "## Chapitre 2  : Travail sur les listes\n",
    "\n",
    "Les listes en Python permettent d'implémenter la structure de donnée de type **tableau**. Les tableaux (Array) sont présents dans la plupart des langages de programmation, mais Python permet de par sa capacité à typer dynamiquement les variables, des souplesses dans le traitement des tableaux que l'on trouve pas par ailleurs.\n",
    "\n",
    "Un tableau permet au sein d'une seule et unique variable, de stocker **une séquence de valeurs** de manière contigue dans la mémoire de la machine. L'accès aux différentes valeurs se fera d'ailleurs de manière **séquentielle**, c'est-à-dire un élément après l'autre.\n",
    "\n",
    "Les listes Python permettent en particulier de stocker des valeurs de **types différents**\n",
    "\n",
    "On utilisera donc les listes, chaque fois que l'on veut rassembler (collectionner) des données au sein d'une même structure.\n",
    "\n",
    "Par exemple, si on veut mémoriser une liste des courses :\n",
    "* lessive\n",
    "* bananes\n",
    "* huile\n",
    "* rasoirs\n",
    "* carottes\n",
    "\n",
    "notes trimestrielles : 20, 15, 0, 12, 14\n",
    "\n",
    "des températures relevées au cours du temps : 18.5, 21.2, 15.8, 12.7\n",
    "\n",
    "Python utilise des crochets [] pour délimiter les éléments. On sépare les éléments par une virgule.\n",
    "\n",
    "**remarque** PEP8 recommande pour augmenter la lisibilité des listes de placer un seul espace vide entre la virgule et l'élément suivant.\n"
   ]
  },
  {
   "cell_type": "code",
   "execution_count": 2,
   "metadata": {},
   "outputs": [],
   "source": [
    "# Exemple de listes (tableaux)\n",
    "\n",
    "# liste des courses \n",
    "\n",
    "lst_courses = [\"lessive\", \"bananes\", \"huile\", \"rasoirs\", \"carottes\"]\n",
    "lst_notes_trimestriel = [20, 15, 0, 12, 14]\n",
    "temperatures_relevees = [18.5, 21.2, 15.8, 12.7]"
   ]
  },
  {
   "cell_type": "code",
   "execution_count": 3,
   "metadata": {},
   "outputs": [
    {
     "name": "stdout",
     "output_type": "stream",
     "text": [
      "['lessive', 'bananes', 'huile', 'rasoirs', 'carottes']\n"
     ]
    }
   ],
   "source": [
    "print(lst_courses)"
   ]
  },
  {
   "cell_type": "markdown",
   "metadata": {},
   "source": [
    "## Comment connaitre la taille d'un tableau ?"
   ]
  },
  {
   "cell_type": "code",
   "execution_count": 4,
   "metadata": {},
   "outputs": [
    {
     "data": {
      "text/plain": [
       "5"
      ]
     },
     "execution_count": 4,
     "metadata": {},
     "output_type": "execute_result"
    }
   ],
   "source": [
    "len(lst_courses)"
   ]
  },
  {
   "cell_type": "code",
   "execution_count": 5,
   "metadata": {},
   "outputs": [
    {
     "data": {
      "text/plain": [
       "5"
      ]
     },
     "execution_count": 5,
     "metadata": {},
     "output_type": "execute_result"
    }
   ],
   "source": [
    "len(lst_notes_trimestriel)"
   ]
  },
  {
   "cell_type": "code",
   "execution_count": 6,
   "metadata": {},
   "outputs": [
    {
     "data": {
      "text/plain": [
       "4"
      ]
     },
     "execution_count": 6,
     "metadata": {},
     "output_type": "execute_result"
    }
   ],
   "source": [
    "len(temperatures_relevees)"
   ]
  },
  {
   "cell_type": "markdown",
   "metadata": {},
   "source": [
    "## Rajouter un élément dans le tableau"
   ]
  },
  {
   "cell_type": "code",
   "execution_count": 7,
   "metadata": {},
   "outputs": [
    {
     "name": "stdout",
     "output_type": "stream",
     "text": [
      "['lessive', 'bananes', 'huile', 'rasoirs', 'carottes', 'Tomates']\n"
     ]
    }
   ],
   "source": [
    "lst_courses.append(\"Tomates\")\n",
    "print(lst_courses)"
   ]
  },
  {
   "cell_type": "code",
   "execution_count": 8,
   "metadata": {},
   "outputs": [],
   "source": [
    "lst_notes_trimestriel.append(16)"
   ]
  },
  {
   "cell_type": "code",
   "execution_count": 9,
   "metadata": {},
   "outputs": [
    {
     "name": "stdout",
     "output_type": "stream",
     "text": [
      "[20, 15, 0, 12, 14, 16]\n"
     ]
    }
   ],
   "source": [
    "print(lst_notes_trimestriel)"
   ]
  },
  {
   "cell_type": "markdown",
   "metadata": {},
   "source": [
    "## EXERCICE\n",
    "\n",
    "### Ecrire le code qui :\n",
    "* demande le nombre de notes à mémoriser\n",
    "* demande les notes une par une, et les stocke dans un tableau **mes_notes**"
   ]
  },
  {
   "cell_type": "code",
   "execution_count": 11,
   "metadata": {},
   "outputs": [
    {
     "name": "stdin",
     "output_type": "stream",
     "text": [
      "entrer le nombre de notes 3\n",
      "entrer une note 12\n",
      "entrer une note 15\n",
      "entrer une note 13\n"
     ]
    },
    {
     "name": "stdout",
     "output_type": "stream",
     "text": [
      "[12, 15, 13]\n"
     ]
    }
   ],
   "source": [
    "mes_notes = []\n",
    "nb_notes = int(input(\"entrer le nombre de notes\"))\n",
    "\n",
    "# on crée une boucle pour demander les notes à l'utilisateur et les mémoriser dans le tableau\n",
    "for i in range(nb_notes):\n",
    "    note = int(input(\"entrer une note\")) # On récupère la note\n",
    "    # on rajoute la note dans le tableau\n",
    "    mes_notes.append(note)\n",
    "print(mes_notes)\n"
   ]
  },
  {
   "cell_type": "code",
   "execution_count": 12,
   "metadata": {},
   "outputs": [
    {
     "data": {
      "text/plain": [
       "[12, 15, 13]"
      ]
     },
     "execution_count": 12,
     "metadata": {},
     "output_type": "execute_result"
    }
   ],
   "source": [
    "mes_notes"
   ]
  },
  {
   "cell_type": "markdown",
   "metadata": {},
   "source": [
    "## on a fait une erreur, on a eu 18 au lieu de 15\n",
    "## il faut modifier la deuxième note"
   ]
  },
  {
   "cell_type": "code",
   "execution_count": 13,
   "metadata": {},
   "outputs": [
    {
     "name": "stdout",
     "output_type": "stream",
     "text": [
      "[12, 18, 13]\n"
     ]
    }
   ],
   "source": [
    "mes_notes[1]=18\n",
    "print(mes_notes)"
   ]
  },
  {
   "cell_type": "markdown",
   "metadata": {},
   "source": [
    "## On veut extraire le dernier élément, et le récupérer dans une autre variable (pop)"
   ]
  },
  {
   "cell_type": "code",
   "execution_count": 14,
   "metadata": {},
   "outputs": [
    {
     "name": "stdout",
     "output_type": "stream",
     "text": [
      "13\n",
      "[12, 18]\n"
     ]
    }
   ],
   "source": [
    "ma_dernière_note = mes_notes.pop()\n",
    "print(ma_dernière_note)\n",
    "print(mes_notes)"
   ]
  },
  {
   "cell_type": "markdown",
   "metadata": {},
   "source": [
    "## Exercice : faire la moyenne des éléments de la liste"
   ]
  },
  {
   "cell_type": "code",
   "execution_count": 15,
   "metadata": {},
   "outputs": [
    {
     "name": "stdout",
     "output_type": "stream",
     "text": [
      "15.0\n"
     ]
    }
   ],
   "source": [
    "moyenne = sum(mes_notes)/len(mes_notes)\n",
    "print(moyenne)"
   ]
  },
  {
   "cell_type": "markdown",
   "metadata": {},
   "source": [
    "## Tester si un élément est présent dans une liste "
   ]
  },
  {
   "cell_type": "code",
   "execution_count": 16,
   "metadata": {},
   "outputs": [
    {
     "data": {
      "text/plain": [
       "False"
      ]
     },
     "execution_count": 16,
     "metadata": {},
     "output_type": "execute_result"
    }
   ],
   "source": [
    "\"sopalin\" in lst_courses"
   ]
  },
  {
   "cell_type": "code",
   "execution_count": 17,
   "metadata": {},
   "outputs": [
    {
     "data": {
      "text/plain": [
       "True"
      ]
     },
     "execution_count": 17,
     "metadata": {},
     "output_type": "execute_result"
    }
   ],
   "source": [
    "\"carottes\" in lst_courses"
   ]
  },
  {
   "cell_type": "code",
   "execution_count": 18,
   "metadata": {},
   "outputs": [
    {
     "data": {
      "text/plain": [
       "False"
      ]
     },
     "execution_count": 18,
     "metadata": {},
     "output_type": "execute_result"
    }
   ],
   "source": [
    "\"Carottes\" in lst_courses"
   ]
  },
  {
   "cell_type": "code",
   "execution_count": 19,
   "metadata": {},
   "outputs": [
    {
     "name": "stdout",
     "output_type": "stream",
     "text": [
      "On va faire une purée de carottes\n"
     ]
    }
   ],
   "source": [
    "# On peut s'en servir pour faire un test dans un IF\n",
    "if \"carottes\" in lst_courses:\n",
    "    print(\"On va faire une purée de carottes\")\n",
    "else:\n",
    "    print(\"Il va falloir se contenter des Pdt\")"
   ]
  },
  {
   "cell_type": "markdown",
   "metadata": {},
   "source": [
    "### La liste est \"mutable\" (on peut modifier les valeurs)\n",
    "### La liste est un élément **itérable**"
   ]
  },
  {
   "cell_type": "code",
   "execution_count": 23,
   "metadata": {},
   "outputs": [
    {
     "name": "stdout",
     "output_type": "stream",
     "text": [
      "jaime les  lessive\n",
      "jaime les  bananes\n",
      "jaime les  huile\n",
      "jaime les  rasoirs\n",
      "jaime les  carottes\n",
      "jaime les  Tomates\n"
     ]
    }
   ],
   "source": [
    "for article in lst_courses:\n",
    "    print(\"jaime les\", article)"
   ]
  },
  {
   "cell_type": "markdown",
   "metadata": {},
   "source": [
    "## Exercice : Parcourir la liste mes_notes et afficher un SMILEY lorsque la note est supérieur à 13, et autre chose dans le cas contraire."
   ]
  },
  {
   "cell_type": "code",
   "execution_count": null,
   "metadata": {},
   "outputs": [],
   "source": []
  },
  {
   "cell_type": "code",
   "execution_count": null,
   "metadata": {},
   "outputs": [],
   "source": []
  },
  {
   "cell_type": "code",
   "execution_count": null,
   "metadata": {},
   "outputs": [],
   "source": []
  }
 ],
 "metadata": {
  "kernelspec": {
   "display_name": "Python 3",
   "language": "python",
   "name": "python3"
  },
  "language_info": {
   "codemirror_mode": {
    "name": "ipython",
    "version": 3
   },
   "file_extension": ".py",
   "mimetype": "text/x-python",
   "name": "python",
   "nbconvert_exporter": "python",
   "pygments_lexer": "ipython3",
   "version": "3.7.3"
  }
 },
 "nbformat": 4,
 "nbformat_minor": 4
}
