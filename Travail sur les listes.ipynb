{
 "cells": [
  {
   "cell_type": "markdown",
   "metadata": {},
   "source": [
    "## Chapitre 2  : Travail sur les listes\n",
    "\n",
    "Les listes en Python permettent d'implémenter la structure de donnée de type **tableau**. Les tableaux (Array) sont présents dans la plupart des langages de programmation, mais Python permet de par sa capacité à typer dynamiquement les variables, des souplesses dans le traitement des tableaux que l'on trouve pas par ailleurs.\n",
    "\n",
    "Un tableau permet au sein d'une seule et unique variable, de stocker **une séquence de valeurs** de manière contigue dans la mémoire de la machine. L'accès aux différentes valeurs se fera d'ailleurs de manière **séquentielle**, c'est-à-dire un élément après l'autre.\n",
    "\n",
    "Les listes Python permettent en particulier de stocker des valeurs de **types différents**\n",
    "\n",
    "On utilisera donc les listes, chaque fois que l'on veut rassembler (collectionner) des données au sein d'une même structure.\n",
    "\n",
    "Par exemple, si on veut mémoriser une liste des courses :\n",
    "* lessive\n",
    "* bananes\n",
    "* huile\n",
    "* rasoirs\n",
    "* carottes\n",
    "\n",
    "notes trimestrielles : 20, 15, 0, 12, 14\n",
    "\n",
    "des températures relevées au cours du temps : 18.5, 21.2, 15.8, 12.7\n",
    "\n",
    "Python utilise des crochets [] pour délimiter les éléments. On sépare les éléments par une virgule.\n",
    "\n",
    "**remarque** PEP8 recommande pour augmenter la lisibilité des listes de placer un seul espace vide entre la virgule et l'élément suivant.\n"
   ]
  },
  {
   "cell_type": "code",
   "execution_count": 1,
   "metadata": {},
   "outputs": [],
   "source": [
    "# Exemple de listes (tableaux)\n",
    "\n",
    "# liste des courses \n",
    "\n",
    "lst_courses = [\"lessive\", \"bananes\", \"huile\", \"rasoirs\", \"carottes\"]\n",
    "lst_notes_trimestriel = [20, 15, 0, 12, 14]\n",
    "temperatures_relevees = [18.5, 21.2, 15.8, 12.7]"
   ]
  },
  {
   "cell_type": "code",
   "execution_count": 2,
   "metadata": {},
   "outputs": [
    {
     "name": "stdout",
     "output_type": "stream",
     "text": [
      "['lessive', 'bananes', 'huile', 'rasoirs', 'carottes']\n"
     ]
    }
   ],
   "source": [
    "print(lst_courses)"
   ]
  },
  {
   "cell_type": "markdown",
   "metadata": {},
   "source": [
    "## Comment connaitre la taille d'un tableau ?"
   ]
  },
  {
   "cell_type": "code",
   "execution_count": 3,
   "metadata": {},
   "outputs": [
    {
     "data": {
      "text/plain": [
       "5"
      ]
     },
     "execution_count": 3,
     "metadata": {},
     "output_type": "execute_result"
    }
   ],
   "source": [
    "len(lst_courses)"
   ]
  },
  {
   "cell_type": "code",
   "execution_count": 4,
   "metadata": {},
   "outputs": [
    {
     "data": {
      "text/plain": [
       "5"
      ]
     },
     "execution_count": 4,
     "metadata": {},
     "output_type": "execute_result"
    }
   ],
   "source": [
    "len(lst_notes_trimestriel)"
   ]
  },
  {
   "cell_type": "code",
   "execution_count": 5,
   "metadata": {},
   "outputs": [
    {
     "data": {
      "text/plain": [
       "4"
      ]
     },
     "execution_count": 5,
     "metadata": {},
     "output_type": "execute_result"
    }
   ],
   "source": [
    "len(temperatures_relevees)"
   ]
  },
  {
   "cell_type": "markdown",
   "metadata": {},
   "source": [
    "## Rajouter un élément dans le tableau"
   ]
  },
  {
   "cell_type": "code",
   "execution_count": 6,
   "metadata": {},
   "outputs": [
    {
     "name": "stdout",
     "output_type": "stream",
     "text": [
      "['lessive', 'bananes', 'huile', 'rasoirs', 'carottes', 'Tomates']\n"
     ]
    }
   ],
   "source": [
    "lst_courses.append(\"Tomates\")\n",
    "print(lst_courses)"
   ]
  },
  {
   "cell_type": "code",
   "execution_count": 7,
   "metadata": {},
   "outputs": [],
   "source": [
    "lst_notes_trimestriel.append(16)"
   ]
  },
  {
   "cell_type": "code",
   "execution_count": 8,
   "metadata": {},
   "outputs": [
    {
     "name": "stdout",
     "output_type": "stream",
     "text": [
      "[20, 15, 0, 12, 14, 16]\n"
     ]
    }
   ],
   "source": [
    "print(lst_notes_trimestriel)"
   ]
  },
  {
   "cell_type": "markdown",
   "metadata": {},
   "source": [
    "## EXERCICE\n",
    "\n",
    "### Ecrire le code qui :\n",
    "* demande le nombre de notes à mémoriser\n",
    "* demande les notes une par une, et les stocke dans un tableau **mes_notes**"
   ]
  },
  {
   "cell_type": "code",
   "execution_count": 10,
   "metadata": {},
   "outputs": [
    {
     "name": "stdin",
     "output_type": "stream",
     "text": [
      "entrer le nombre de notes 7\n",
      "entrer une note 12\n",
      "entrer une note 10\n",
      "entrer une note 9\n",
      "entrer une note 18\n",
      "entrer une note 15\n",
      "entrer une note 7\n",
      "entrer une note 18\n"
     ]
    },
    {
     "name": "stdout",
     "output_type": "stream",
     "text": [
      "[12, 10, 9, 18, 15, 7, 18]\n"
     ]
    }
   ],
   "source": [
    "mes_notes = []\n",
    "nb_notes = int(input(\"entrer le nombre de notes\"))\n",
    "\n",
    "# on crée une boucle pour demander les notes à l'utilisateur et les mémoriser dans le tableau\n",
    "for i in range(nb_notes):\n",
    "    note = int(input(\"entrer une note\")) # On récupère la note\n",
    "    # on rajoute la note dans le tableau\n",
    "    mes_notes.append(note)\n",
    "print(mes_notes)\n"
   ]
  },
  {
   "cell_type": "code",
   "execution_count": null,
   "metadata": {},
   "outputs": [],
   "source": [
    "mes_notes"
   ]
  },
  {
   "cell_type": "markdown",
   "metadata": {},
   "source": [
    "## on a fait une erreur, on a eu 18 au lieu de 15\n",
    "## il faut modifier la deuxième note"
   ]
  },
  {
   "cell_type": "code",
   "execution_count": null,
   "metadata": {},
   "outputs": [],
   "source": [
    "mes_notes[1]=18\n",
    "print(mes_notes)"
   ]
  },
  {
   "cell_type": "markdown",
   "metadata": {},
   "source": [
    "## On veut extraire le dernier élément, et le récupérer dans une autre variable (pop)"
   ]
  },
  {
   "cell_type": "code",
   "execution_count": null,
   "metadata": {},
   "outputs": [],
   "source": [
    "ma_dernière_note = mes_notes.pop()\n",
    "print(ma_dernière_note)\n",
    "print(mes_notes)"
   ]
  },
  {
   "cell_type": "markdown",
   "metadata": {},
   "source": [
    "## Exercice : faire la moyenne des éléments de la liste"
   ]
  },
  {
   "cell_type": "code",
   "execution_count": null,
   "metadata": {},
   "outputs": [],
   "source": [
    "moyenne = sum(mes_notes)/len(mes_notes)\n",
    "print(moyenne)"
   ]
  },
  {
   "cell_type": "markdown",
   "metadata": {},
   "source": [
    "## Tester si un élément est présent dans une liste "
   ]
  },
  {
   "cell_type": "code",
   "execution_count": null,
   "metadata": {},
   "outputs": [],
   "source": [
    "\"sopalin\" in lst_courses"
   ]
  },
  {
   "cell_type": "code",
   "execution_count": null,
   "metadata": {},
   "outputs": [],
   "source": [
    "\"carottes\" in lst_courses"
   ]
  },
  {
   "cell_type": "code",
   "execution_count": null,
   "metadata": {},
   "outputs": [],
   "source": [
    "\"Carottes\" in lst_courses"
   ]
  },
  {
   "cell_type": "code",
   "execution_count": null,
   "metadata": {},
   "outputs": [],
   "source": [
    "# On peut s'en servir pour faire un test dans un IF\n",
    "if \"carottes\" in lst_courses:\n",
    "    print(\"On va faire une purée de carottes\")\n",
    "else:\n",
    "    print(\"Il va falloir se contenter des Pdt\")"
   ]
  },
  {
   "cell_type": "markdown",
   "metadata": {},
   "source": [
    "### La liste est \"mutable\" (on peut modifier les valeurs)\n",
    "### La liste est un élément **itérable**"
   ]
  },
  {
   "cell_type": "code",
   "execution_count": null,
   "metadata": {},
   "outputs": [],
   "source": [
    "for article in lst_courses:\n",
    "    print(\"jaime les\", article)"
   ]
  },
  {
   "cell_type": "markdown",
   "metadata": {},
   "source": [
    "## Exercice : Parcourir la liste mes_notes et afficher un SMILEY lorsque la note est supérieur à 13, et autre chose dans le cas contraire."
   ]
  },
  {
   "cell_type": "code",
   "execution_count": 11,
   "metadata": {},
   "outputs": [
    {
     "name": "stdout",
     "output_type": "stream",
     "text": [
      ":(\n",
      ":(\n",
      ":(\n",
      ":)\n",
      ":)\n",
      ":(\n",
      ":)\n"
     ]
    }
   ],
   "source": [
    "for note in mes_notes:\n",
    "    if note > 13:\n",
    "        print(\":)\")\n",
    "    else:\n",
    "        print(\":(\")"
   ]
  },
  {
   "cell_type": "code",
   "execution_count": 12,
   "metadata": {},
   "outputs": [
    {
     "name": "stdout",
     "output_type": "stream",
     "text": [
      "Help on class list in module builtins:\n",
      "\n",
      "class list(object)\n",
      " |  list(iterable=(), /)\n",
      " |  \n",
      " |  Built-in mutable sequence.\n",
      " |  \n",
      " |  If no argument is given, the constructor creates a new empty list.\n",
      " |  The argument must be an iterable if specified.\n",
      " |  \n",
      " |  Methods defined here:\n",
      " |  \n",
      " |  __add__(self, value, /)\n",
      " |      Return self+value.\n",
      " |  \n",
      " |  __contains__(self, key, /)\n",
      " |      Return key in self.\n",
      " |  \n",
      " |  __delitem__(self, key, /)\n",
      " |      Delete self[key].\n",
      " |  \n",
      " |  __eq__(self, value, /)\n",
      " |      Return self==value.\n",
      " |  \n",
      " |  __ge__(self, value, /)\n",
      " |      Return self>=value.\n",
      " |  \n",
      " |  __getattribute__(self, name, /)\n",
      " |      Return getattr(self, name).\n",
      " |  \n",
      " |  __getitem__(...)\n",
      " |      x.__getitem__(y) <==> x[y]\n",
      " |  \n",
      " |  __gt__(self, value, /)\n",
      " |      Return self>value.\n",
      " |  \n",
      " |  __iadd__(self, value, /)\n",
      " |      Implement self+=value.\n",
      " |  \n",
      " |  __imul__(self, value, /)\n",
      " |      Implement self*=value.\n",
      " |  \n",
      " |  __init__(self, /, *args, **kwargs)\n",
      " |      Initialize self.  See help(type(self)) for accurate signature.\n",
      " |  \n",
      " |  __iter__(self, /)\n",
      " |      Implement iter(self).\n",
      " |  \n",
      " |  __le__(self, value, /)\n",
      " |      Return self<=value.\n",
      " |  \n",
      " |  __len__(self, /)\n",
      " |      Return len(self).\n",
      " |  \n",
      " |  __lt__(self, value, /)\n",
      " |      Return self<value.\n",
      " |  \n",
      " |  __mul__(self, value, /)\n",
      " |      Return self*value.\n",
      " |  \n",
      " |  __ne__(self, value, /)\n",
      " |      Return self!=value.\n",
      " |  \n",
      " |  __repr__(self, /)\n",
      " |      Return repr(self).\n",
      " |  \n",
      " |  __reversed__(self, /)\n",
      " |      Return a reverse iterator over the list.\n",
      " |  \n",
      " |  __rmul__(self, value, /)\n",
      " |      Return value*self.\n",
      " |  \n",
      " |  __setitem__(self, key, value, /)\n",
      " |      Set self[key] to value.\n",
      " |  \n",
      " |  __sizeof__(self, /)\n",
      " |      Return the size of the list in memory, in bytes.\n",
      " |  \n",
      " |  append(self, object, /)\n",
      " |      Append object to the end of the list.\n",
      " |  \n",
      " |  clear(self, /)\n",
      " |      Remove all items from list.\n",
      " |  \n",
      " |  copy(self, /)\n",
      " |      Return a shallow copy of the list.\n",
      " |  \n",
      " |  count(self, value, /)\n",
      " |      Return number of occurrences of value.\n",
      " |  \n",
      " |  extend(self, iterable, /)\n",
      " |      Extend list by appending elements from the iterable.\n",
      " |  \n",
      " |  index(self, value, start=0, stop=9223372036854775807, /)\n",
      " |      Return first index of value.\n",
      " |      \n",
      " |      Raises ValueError if the value is not present.\n",
      " |  \n",
      " |  insert(self, index, object, /)\n",
      " |      Insert object before index.\n",
      " |  \n",
      " |  pop(self, index=-1, /)\n",
      " |      Remove and return item at index (default last).\n",
      " |      \n",
      " |      Raises IndexError if list is empty or index is out of range.\n",
      " |  \n",
      " |  remove(self, value, /)\n",
      " |      Remove first occurrence of value.\n",
      " |      \n",
      " |      Raises ValueError if the value is not present.\n",
      " |  \n",
      " |  reverse(self, /)\n",
      " |      Reverse *IN PLACE*.\n",
      " |  \n",
      " |  sort(self, /, *, key=None, reverse=False)\n",
      " |      Stable sort *IN PLACE*.\n",
      " |  \n",
      " |  ----------------------------------------------------------------------\n",
      " |  Static methods defined here:\n",
      " |  \n",
      " |  __new__(*args, **kwargs) from builtins.type\n",
      " |      Create and return a new object.  See help(type) for accurate signature.\n",
      " |  \n",
      " |  ----------------------------------------------------------------------\n",
      " |  Data and other attributes defined here:\n",
      " |  \n",
      " |  __hash__ = None\n",
      "\n"
     ]
    }
   ],
   "source": [
    "help(list)"
   ]
  },
  {
   "cell_type": "markdown",
   "metadata": {},
   "source": [
    "## Exercice : écrire un code qui prenant une valeur decimale affiche la conversion en binaire sous forme d'une liste;\n",
    "exemple : nombre = 4 renvoie [1 0 0]"
   ]
  },
  {
   "cell_type": "code",
   "execution_count": null,
   "metadata": {},
   "outputs": [],
   "source": []
  },
  {
   "cell_type": "markdown",
   "metadata": {},
   "source": [
    "## Exercice : écrire un code avec une boucle for pour construire une liste des carrées des nombres entiers pris entre 0 et 20"
   ]
  },
  {
   "cell_type": "code",
   "execution_count": null,
   "metadata": {},
   "outputs": [],
   "source": [
    "# écrire le code ici"
   ]
  },
  {
   "cell_type": "markdown",
   "metadata": {},
   "source": [
    "## Exercice : écrire un code avec une boucle for pour construire une liste des couples de nombres [x,y] dont la somme x+y = 100"
   ]
  },
  {
   "cell_type": "code",
   "execution_count": null,
   "metadata": {},
   "outputs": [],
   "source": [
    "# écrire le code ici"
   ]
  },
  {
   "cell_type": "markdown",
   "metadata": {},
   "source": [
    "## Exercice **\"le maximum\"**: écrire une fonction elt_max(l) qui parcourt une liste de nombres entiers l et renvoie le plus grand élément de cette liste\n",
    "exemple : print(elt_max(l1)) avec l1 = [5,8,1,7,3,0,4] renvoie 8"
   ]
  },
  {
   "cell_type": "code",
   "execution_count": null,
   "metadata": {},
   "outputs": [],
   "source": [
    "# Compléter le code suivant pour qu'il soit conforme au cahier des charges ci-dessus.\n",
    "def elt_max(l):\n",
    "    \"\"\"\n",
    "    renvoie le plus grand élément de la liste de nombres l\n",
    "    passée en argument\n",
    "    \"\"\"\n",
    "    return maxi\n",
    "\n",
    "l1 = [5, 8, 1, 7, 3, 0, 4]\n",
    "print(elt_max(l1))"
   ]
  },
  {
   "cell_type": "markdown",
   "metadata": {},
   "source": [
    "## Exercice : écrire une fonction chasse_doublons qui parcourt une liste de nombres entiers l et renvoie une liste débarrassée des doublons de cette liste\n",
    "exemple : chasse_doublons([1,2,2,1,2,1]) renvoie la liste [1,2]"
   ]
  },
  {
   "cell_type": "code",
   "execution_count": null,
   "metadata": {},
   "outputs": [],
   "source": [
    "def chasse_doublons(l):\n",
    "    \"\"\"\n",
    "        repère les doublons dans l et renvoie une liste sans ces doublons\n",
    "    \"\"\"\n",
    "    return lst_l_epuree"
   ]
  },
  {
   "cell_type": "markdown",
   "metadata": {},
   "source": [
    "# Exercice : écrire une fonction est_present(lst, elt) qui parcourt une liste lst et renvoie True si elt est dans la liste sinon False\n",
    "\n",
    "exemple : est_present([1,2,'a','bonjour',5,'b], 'a') renvoie True"
   ]
  },
  {
   "cell_type": "code",
   "execution_count": null,
   "metadata": {},
   "outputs": [],
   "source": [
    "def est_present(lst, elt):\n",
    "    \"\"\"\n",
    "        renvoie la présence ou non de elt dans lst\n",
    "    \"\"\"\n",
    "    return reponse"
   ]
  }
 ],
 "metadata": {
  "kernelspec": {
   "display_name": "Python 3",
   "language": "python",
   "name": "python3"
  },
  "language_info": {
   "codemirror_mode": {
    "name": "ipython",
    "version": 3
   },
   "file_extension": ".py",
   "mimetype": "text/x-python",
   "name": "python",
   "nbconvert_exporter": "python",
   "pygments_lexer": "ipython3",
   "version": "3.7.3"
  }
 },
 "nbformat": 4,
 "nbformat_minor": 4
}
