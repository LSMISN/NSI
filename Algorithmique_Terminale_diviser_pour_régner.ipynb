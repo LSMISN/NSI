{
  "nbformat": 4,
  "nbformat_minor": 0,
  "metadata": {
    "colab": {
      "name": "Algorithmique  Terminale : diviser pour régner.ipynb",
      "provenance": [],
      "authorship_tag": "ABX9TyPSouEfsUaffYVa+lPrxXO4",
      "include_colab_link": true
    },
    "kernelspec": {
      "name": "python3",
      "display_name": "Python 3"
    }
  },
  "cells": [
    {
      "cell_type": "markdown",
      "metadata": {
        "id": "view-in-github",
        "colab_type": "text"
      },
      "source": [
        "<a href=\"https://colab.research.google.com/github/LSMISN/NSI/blob/master/Algorithmique_Terminale_diviser_pour_r%C3%A9gner.ipynb\" target=\"_parent\"><img src=\"https://colab.research.google.com/assets/colab-badge.svg\" alt=\"Open In Colab\"/></a>"
      ]
    },
    {
      "cell_type": "markdown",
      "metadata": {
        "id": "DnZ95kG6Q1-H"
      },
      "source": [
        "# Le paradigme diviser pour régner\r\n",
        "\r\n",
        "La méthode **« diviser pour régner »** (**divide-and-conquer** en Anglais) consiste à découper un problème en\r\n",
        "sous-problèmes similaires (d’où l’**algorithme récursif résultant**) afin de réduire la difficulté du problème\r\n",
        "initial. On espère casser récursivement le problème en sous-problèmes de plus en plus petits jusqu’à\r\n",
        "obtenir des cas simples permettant une résolution directe.\r\n",
        "L’expression provient du latin « divide ut imperes » et désignait une stratégie militaire (ou politique).\r\n",
        "La recherche **dichotomique** dans une liste triée fournit un premier d’utilisation de cette méthode.\r\n",
        "\r\n",
        "Méthode élaborée en 1945 par John Von Neumann\r\n",
        "\r\n",
        "![JohnVonNeumann.png](https://upload.wikimedia.org/wikipedia/commons/thumb/d/d6/JohnvonNeumann-LosAlamos.jpg/185px-JohnvonNeumann-LosAlamos.jpg)\r\n",
        "\r\n",
        "[John Vonb Neumann sur Wikipedia](https://fr.wikipedia.org/wiki/John_von_Neumann)\r\n",
        "\r\n",
        "## Les trois étapes de diviser pour régner\r\n",
        "\r\n",
        "- **Diviser**\r\n",
        "\r\n",
        "    découper un problème initial en sous-problèmes\r\n",
        "- **Régner**\r\n",
        "\r\n",
        "    résoudre les sous-problème (récursivement ou directement suivant le cas)\r\n",
        "- **Combiner**\r\n",
        "\r\n",
        "    Trouver une solution au problème initial à partir des solutions trouvées dans le traitement des sous-problèmes.\r\n"
      ]
    },
    {
      "cell_type": "markdown",
      "metadata": {
        "id": "vMf3srJAaG3m"
      },
      "source": [
        "# Exemple 1 : recherche du minimum dans une liste de nombres\r\n",
        "\r\n",
        "```\r\n",
        "fonction minimum(L, indice_debut, indice_fin)\r\n",
        "  SI indice_debut == indice_fin\r\n",
        "  ALORS\r\n",
        "        renvoyer L[indice_fin]\r\n",
        "  SINON\r\n",
        "    indice_milieu = (indice_debut + indice_fin)//2\r\n",
        "    min_a_gauche = minimum(L, indice_début, m)\r\n",
        "    min_a_droite = minimum(L, m, indice_fin)\r\n",
        "    SI min_a_gauche < min_a_droite\r\n",
        "    ALORS retourner min_a_gauche\r\n",
        "    SINON retourner min_a_droite\r\n",
        "```\r\n",
        "\r\n"
      ]
    },
    {
      "cell_type": "code",
      "metadata": {
        "id": "qgR6l1s-cTcg"
      },
      "source": [
        "# Exercice : implémenter et tester la fonction "
      ],
      "execution_count": null,
      "outputs": []
    },
    {
      "cell_type": "markdown",
      "metadata": {
        "id": "vE85uBwUaTH7"
      },
      "source": [
        "# Exemple 2 : Tri fusion"
      ]
    },
    {
      "cell_type": "markdown",
      "metadata": {
        "id": "jZc5yILdcbDH"
      },
      "source": [
        "# Complexité algorithmique"
      ]
    }
  ]
}