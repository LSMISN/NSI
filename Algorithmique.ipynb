{
  "nbformat": 4,
  "nbformat_minor": 0,
  "metadata": {
    "colab": {
      "name": "Algorithmique",
      "provenance": [],
      "authorship_tag": "ABX9TyNeSwVyV13D+VJNiI7ae+/I",
      "include_colab_link": true
    },
    "kernelspec": {
      "name": "python3",
      "display_name": "Python 3"
    }
  },
  "cells": [
    {
      "cell_type": "markdown",
      "metadata": {
        "id": "view-in-github",
        "colab_type": "text"
      },
      "source": [
        "<a href=\"https://colab.research.google.com/github/LSMISN/NSI/blob/master/Algorithmique.ipynb\" target=\"_parent\"><img src=\"https://colab.research.google.com/assets/colab-badge.svg\" alt=\"Open In Colab\"/></a>"
      ]
    },
    {
      "cell_type": "markdown",
      "metadata": {
        "id": "vn_Np1W-2TrG",
        "colab_type": "text"
      },
      "source": [
        "# Introduction #\n",
        "\n",
        "**L'algorithmique** désigne l'ensemble des méthodes permettant de créer des algorithmes.\n",
        "\n",
        "**Un algorithme** apporte une solution à un problème sous la forme d'un enchaînement d'opérations à effectuer.\n",
        "\n",
        "# Un problème exemple #\n",
        "\n",
        "On considère le problème : obtenir la plus grande valeur d'une liste de n entiers naturels.\n",
        "\n",
        "Pour construire un algo, on doit enchainer des opérations qui manipulent:\n",
        "- des données (variables, constantes, listes, tableaux ...)\n",
        "- des structures de contrôle (boucles, test conditions, ...)\n",
        "\n",
        "Un algo n'est pas écrit spécialement dans un langage de programmation.\n",
        "\n",
        "Tout est organisé de manière séquentielle : une suite d'instructions.\n",
        "\n",
        "On utilisera soit le langage naturel pour le formuler, mais on utilisera plutôt un pseudo-langage (pseudo code) qui permettra un transposition facilité vers un langage de programmation.\n",
        "\n",
        "Sur le problème donné ici :\n",
        "On dispose d'une list de n entiers : [$n_0$, $n_1$, $n_2$, ..., $n_{n-1}$]\n",
        "\n",
        "On recherche le plus grand, et la méthode naturelle consiste à créer une variable max qui contient $n_0$,\n",
        "\n",
        "puis on va comparer max à chacun des $n-1$ autres termes de la liste en remplaçant par le terme comparé si celui-ci est plus grand.\n",
        "\n",
        "Si on essaie de formuler plus précisément :\n",
        "```python\n",
        "maListe [contient une liste de n nombre entiers naturels]\n",
        "\n",
        "max = maListe[0] (max contient le premier élément de cette liste)\n",
        "\n",
        "POUR i allant de 1 à n-1:\n",
        "\n",
        "  SI max < maListe[i] \n",
        "    ALORS\n",
        "      max = maListe[i]\n",
        "afficher max\n",
        "```\n",
        "Les données utilisées sont : une liste et une variable.\n",
        "\n",
        "Les structures de contrôle sont : une boucle POUR, et un test de condition.\n",
        "\n",
        "Une fois l'algo écrit, il faut vérifier que :\n",
        "- la terminaison : être certain que l'algo se termine,\n",
        "- la correction : être sûr que le résultat est la (ou une) solution du problème.\n",
        "- la complétude : être certain que l'algo reste correct si (dans notre cas) on modifie la liste d'entiers du départ.\n",
        "\n",
        "Dans notre cas présent : \n",
        "- l'algo se termine car on a une boucle POUR (boucle finie bornée),\n",
        "- il est correct puisqu'à chaque pas max contient le plus grand élément,\n",
        "- complétude vérifiée dans la mesure où la liste contient des éléments comparables.\n",
        "\n",
        "\n",
        "On va s'interesser à l'efficacité en terme de nombre d'opérations élémentaires effectuées (et eventuellement la quantité de ressource mémoire utilisée).\n",
        "\n",
        "- -1 affectation : max = maListe[0]\n",
        "- (n-1) comparaisons \n",
        "\n",
        "Dans tous les cas, on a n opérations.\n",
        "\n",
        "On dit que le côut est d'ordre n (ou linéaire).\n",
        "\n",
        "\n"
      ]
    }
  ]
}