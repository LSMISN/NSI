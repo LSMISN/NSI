{
  "nbformat": 4,
  "nbformat_minor": 0,
  "metadata": {
    "colab": {
      "name": "Algorithmique",
      "provenance": [],
      "collapsed_sections": [],
      "mount_file_id": "1TkfE2wjjc9IYeXYa6mJA6EBHmmRf-HqI",
      "authorship_tag": "ABX9TyOKFicxo5HqHCjjN4UJv+tK",
      "include_colab_link": true
    },
    "kernelspec": {
      "name": "python3",
      "display_name": "Python 3"
    }
  },
  "cells": [
    {
      "cell_type": "markdown",
      "metadata": {
        "id": "view-in-github",
        "colab_type": "text"
      },
      "source": [
        "<a href=\"https://colab.research.google.com/github/LSMISN/NSI/blob/master/Algorithmique.ipynb\" target=\"_parent\"><img src=\"https://colab.research.google.com/assets/colab-badge.svg\" alt=\"Open In Colab\"/></a>"
      ]
    },
    {
      "cell_type": "markdown",
      "metadata": {
        "id": "vn_Np1W-2TrG",
        "colab_type": "text"
      },
      "source": [
        "# Introduction #\n",
        "\n",
        "**L'algorithmique** désigne l'ensemble des méthodes permettant de créer des algorithmes.\n",
        "\n",
        "**Un algorithme** apporte une solution à un problème sous la forme d'un enchaînement d'opérations à effectuer.\n",
        "\n",
        "### Un problème exemple\n",
        "\n",
        "On considère le problème : obtenir la plus grande valeur d'une liste de n entiers naturels.\n",
        "\n",
        "Pour construire un algo, on doit enchainer des opérations qui manipulent:\n",
        "- des données (variables, constantes, listes, tableaux ...)\n",
        "- des structures de contrôle (boucles, test conditions, ...)\n",
        "\n",
        "Un algo n'est pas écrit spécialement dans un langage de programmation.\n",
        "\n",
        "Tout est organisé de manière séquentielle : une suite d'instructions.\n",
        "\n",
        "On pourra utiliser le langage naturel pour le formuler, mais on utilisera plutôt un pseudo-langage (pseudo code) qui permettra un transposition facilité vers un langage de programmation.\n"
      ]
    },
    {
      "cell_type": "markdown",
      "metadata": {
        "id": "IgFRA0S7If44",
        "colab_type": "text"
      },
      "source": [
        "Sur le problème donné ici :\n",
        "\n",
        "On dispose d'une liste de n entiers : [$n_0$, $n_1$, $n_2$, ..., $n_{n-1}$]\n",
        "\n",
        "On recherche le plus grand, et la méthode naturelle consiste à créer une variable max qui contient $n_0$ le premier terme de la liste,\n",
        "\n",
        "puis on va comparer max à chacun des $n-1$ autres termes de la liste en remplaçant la variable max par le terme comparé si celui-ci est plus grand.\n",
        "\n",
        "Si on essaie de formuler plus précisément :\n",
        "```python\n",
        "maListe [contient une liste de n nombre entiers naturels]\n",
        "\n",
        "max = maListe[0] (max contient le premier élément de cette liste)\n",
        "\n",
        "POUR i allant de 1 à n-1:\n",
        "\n",
        "  SI max < maListe[i] \n",
        "    ALORS\n",
        "      max = maListe[i]\n",
        "afficher max\n",
        "```\n",
        "Les données utilisées sont : une liste et une variable.\n",
        "\n",
        "Les structures de contrôle sont : une boucle POUR, et un test de condition.\n",
        "\n",
        "Une fois l'algo écrit, il faut vérifier que :\n",
        "- la terminaison : être certain que l'algo se termine,\n",
        "- la correction : être sûr que le résultat est la (ou une) solution du problème.\n",
        "- la complétude : être certain que l'algo reste correct si (dans notre cas) on modifie la liste d'entiers du départ.\n",
        "\n",
        "Dans notre cas présent : \n",
        "- l'algo se termine car on a une boucle POUR (boucle finie bornée),\n",
        "- il est correct puisqu'à chaque pas max contient le plus grand élément,\n",
        "- complétude vérifiée dans la mesure où la liste contient des éléments comparables.\n",
        "\n",
        "\n",
        "On va s'intéresser à l'efficacité en terme de nombre d'opérations élémentaires effectuées (et eventuellement la quantité de ressource mémoire utilisée).\n",
        "\n",
        "- -1 affectation : max = maListe[0]\n",
        "- (n-1) comparaisons \n",
        "\n",
        "Dans tous les cas, on a n opérations.\n",
        "\n",
        "On dit que le côut est d'ordre n (ou linéaire).\n",
        "\n",
        "Remarque : On parle de complexité asymptotique en O(n).\n",
        "\n",
        "Debugger : http://www.pythontutor.com/visualize.html#mode=edit"
      ]
    },
    {
      "cell_type": "code",
      "metadata": {
        "id": "Bj0USqYOIvML",
        "colab_type": "code",
        "colab": {
          "base_uri": "https://localhost:8080/",
          "height": 50
        },
        "outputId": "d896e0e2-40dd-484f-a400-f21ca5fb594b"
      },
      "source": [
        "# Exercice : implémenter l'algorithme de recherche du plus grand élément d'une liste\n",
        "\n",
        "import random\n",
        "\n",
        "# on crée une liste de nombres entiers\n",
        "maListe = [i for i in range(1,100)]\n",
        "# on melange\n",
        "random.shuffle(maListe)\n",
        "# on ne garde que les 20 premiers termes\n",
        "maListe = maListe[:21]\n",
        "print(f\"maListe = {maListe}\")\n",
        "\n",
        "def trouverMax(laListe: list):\n",
        "  max = laListe[0]\n",
        "  for valeur in laListe:\n",
        "    if valeur > max :\n",
        "      max = valeur\n",
        "  return max\n",
        "\n",
        "print(f\"la valeur la plus grande valeur de maListe est {trouverMax(maListe)}\")"
      ],
      "execution_count": null,
      "outputs": [
        {
          "output_type": "stream",
          "text": [
            "maListe = [86, 19, 67, 40, 5, 88, 4, 98, 61, 43, 21, 59, 24, 22, 14, 96, 69, 72, 18, 71, 3]\n",
            "la valeur la plus grande valeur de maListe est 98\n"
          ],
          "name": "stdout"
        }
      ]
    },
    {
      "cell_type": "markdown",
      "metadata": {
        "id": "DjQSiGKGIq2-",
        "colab_type": "text"
      },
      "source": [
        "# Les algorithmes de tris #\n",
        "\n",
        "Plusieurs algo de tri existent. Leur efficacité est variable suivant la nature des données à trier, et \n",
        "suivant comment sont positionnées les données au départ (rangement partiel, désordre total...).\n",
        "\n",
        "Dans ce cours, on va étudier le tri par insertion, et le tri par sélection."
      ]
    },
    {
      "cell_type": "markdown",
      "metadata": {
        "id": "eQWaBJY19lO0",
        "colab_type": "text"
      },
      "source": [
        "## Tri par insertion ##\n",
        "\n",
        "```python\n",
        "maListe = [contient n nombres entiers naturels en ordre aléatoire]\n",
        "\n",
        "POUR k variant de 1 à n-1:\n",
        "  POUR j variant de k à 1 : (on parcourt la partie triée par la fin):\n",
        "    SI maListe[j-1] > maListe[j]\n",
        "    ALORS on les échange\n",
        "\n",
        "afficher maListe (triée)\n",
        "```\n",
        "On va vérifier la terminaison, la correction et la complétude de cet algo:\n",
        "- La terminaison est assurée étant donné que on utilise des boucles bornées (POUR)\n",
        "\n",
        "- La correction ?\n",
        "\n",
        "Il faut trouver un invariant de boucle : c'est une propriété qui est vérifiable et valable constamment (invariance) à chaque tour de boucle\n",
        "\n",
        "Notre invariant ici est la propriété suivante : le sous-tableau de 1 à j-1 est trié.\n",
        "\n",
        "\n",
        "---\n",
        "\n",
        "\n",
        "La correction d'un algorithme se fait en 3 étapes :\n",
        "\n",
        "- initialisation : on doit montrer que l'invariant de boucle est vrai avant la première itération de boucle,\n",
        "- conservation : on doit montrer que si l'invariant de boucle est vrai avant une itération de boucle, il le reste avant l'itération suivante,\n",
        "- terminaison : une fois la boucle terminée, l'invariant fournit une propriété utile qui aide à montrer la correction de l'algorithme.\n",
        "---\n",
        "\n",
        "La correction est vérifiée grâce à notre invariant de boucle pour cet algo.\n",
        "\n",
        "- La complétude est assurée dans la mesure où la liste est faite de nombres entiers naturels comparables.\n",
        "\n",
        "\n",
        "#### Complexité asymptotique (coût) ####\n",
        "\n",
        "\n",
        "On se place dans le pire des cas (liste triée dans l'ordre décroissant), on considère pour simplifier qu'un échange coute pour 1 seule opération.\n",
        "- pour k=1, on effectue 1 échange (ou décalage)\n",
        "- pour k=2, 2 échanges\n",
        "- pour k=3, 3 échanges\n",
        "- ...\n",
        "- pour k=$n-1$, $n-1$ échanges\n",
        "\n",
        "On fait le budget du coût en faisant l'addition des différents coûts :\n",
        "\n",
        "coût = 1+2+3+...+($n-1$) = $\\frac{n(n-1)}{2}$ = $\\frac{n^2 - n}{2}$\n",
        "\n",
        "On voit que le coût varie en $n^2$ (ou quadratique). La complexité asymptotique est en O($n^2$).\n",
        "\n",
        "#### Exercice : écrire le code en Python implémentant l'algorithme de tri par insertion précédent.###\n",
        "\n",
        "Debugger : http://www.pythontutor.com/visualize.html#mode=edit"
      ]
    },
    {
      "cell_type": "code",
      "metadata": {
        "id": "ZzKZ-bTcEEq_",
        "colab_type": "code",
        "colab": {
          "base_uri": "https://localhost:8080/",
          "height": 51
        },
        "outputId": "b5979aa4-1f35-490b-b506-61a14946599d"
      },
      "source": [
        "# Codage du tri par insertion\n",
        "from random import shuffle\n",
        "# on commence par créer une liste constitué des entiers de 1 à 8\n",
        "maListe = [i for i in range(1,9)] # comprehension list\n",
        "# on les mélange\n",
        "shuffle(maListe)\n",
        "print(f\"avant : {maListe}\")\n",
        "\n",
        "def triParInsertion(uneListe:list):\n",
        "  \"\"\"\n",
        "    trie la liste passée en argument en appliquant l'algorithme de tri par insertion\n",
        "  \"\"\"\n",
        "  for k in range(1,len(uneListe)):\n",
        "    for j in range(k, 0, -1):\n",
        "      if uneListe[j] < uneListe[j-1]:\n",
        "        temp = uneListe[j-1]\n",
        "        uneListe[j-1] = uneListe[j]\n",
        "        uneListe[j] = temp\n",
        "        \n",
        "# On regarde si ça marche    \n",
        "triParInsertion(maListe)\n",
        "print(f\"après : {maListe}\")"
      ],
      "execution_count": null,
      "outputs": [
        {
          "output_type": "stream",
          "text": [
            "avant : [6, 5, 4, 8, 2, 1, 7, 3]\n",
            "après : [1, 2, 3, 4, 5, 6, 7, 8]\n"
          ],
          "name": "stdout"
        }
      ]
    },
    {
      "cell_type": "markdown",
      "metadata": {
        "id": "s7aql0GYkf6n",
        "colab_type": "text"
      },
      "source": [
        "### Remarque Pythonesque\n",
        "\n",
        "On a souvent besoin dans cette famille d'algorithme d'échanger la position des valeurs (swap en anglais), une manière très Python mais élégante de faire est d'utiliser le mecanisme d'affectation multiple.\n",
        "Voici une autre version du code. "
      ]
    },
    {
      "cell_type": "code",
      "metadata": {
        "id": "wGEg_TnklLA6",
        "colab_type": "code",
        "colab": {
          "base_uri": "https://localhost:8080/",
          "height": 51
        },
        "outputId": "3c54f628-434b-4253-e056-54bed8e1705b"
      },
      "source": [
        "# Codage du tri par insertion version Pythonesque de l'échange\n",
        "from random import shuffle\n",
        "# on commence par créer une liste constitué des entiers de 1 à 8\n",
        "maListe = [i for i in range(1,9)]\n",
        "# on les mélange\n",
        "shuffle(maListe)\n",
        "print(f\"avant : {maListe}\")\n",
        "\n",
        "def triParInsertion(uneListe:list):\n",
        "  \"\"\"\n",
        "    trie la liste passée en argument en appliquant l'algorithme de tri par insertion\n",
        "  \"\"\"\n",
        "  for k in range(1,len(uneListe)):\n",
        "    for j in range(k, 0, -1):\n",
        "      if uneListe[j] < uneListe[j-1]:\n",
        "        uneListe[j], uneListe[j-1] = uneListe[j-1], uneListe[j]  # ...et on admire la beauté du code :)\n",
        "\n",
        "# On regarde si ça marche  \n",
        "triParInsertion(maListe)\n",
        "print(f\"après : {maListe}\")"
      ],
      "execution_count": null,
      "outputs": [
        {
          "output_type": "stream",
          "text": [
            "avant : [8, 3, 1, 5, 2, 4, 7, 6]\n",
            "après : [1, 2, 3, 4, 5, 6, 7, 8]\n"
          ],
          "name": "stdout"
        }
      ]
    },
    {
      "cell_type": "markdown",
      "metadata": {
        "id": "Gpl1tnpmGK6r",
        "colab_type": "text"
      },
      "source": [
        "## Tri par sélection ##\n",
        "\n",
        "On recherche l'élément le plus grand, on le place en fin de tableau,\n",
        "on répète l'opération pour les n-1 éléments de la liste restant\n",
        "\n",
        "```python\n",
        "maListe = [contient n nombres entiers naturels en ordre aléatoire]\n",
        "\n",
        "POUR i allant de 0 à n-1\n",
        "  max = i\n",
        "\n",
        "  POUR j allant de i+1 à n-1 \n",
        "    SI maListe[j] > maListe[max] ALORS max = j \n",
        "  \n",
        "  SI max <> i ALORS échanger maListe[max] et maListe[i]\n",
        "\n",
        "afficher maListe (triée)\n",
        "```\n",
        "On a un coût asymptotique en O($n^2$).\n",
        "\n",
        "#### Exercice : écrire le code en Python implémentant l'algorithme de tri par sélection précédent.###\n",
        "\n",
        "Debugger : http://www.pythontutor.com/visualize.html#mode=edit"
      ]
    },
    {
      "cell_type": "code",
      "metadata": {
        "id": "PT-X7Op2GeNU",
        "colab_type": "code",
        "colab": {
          "base_uri": "https://localhost:8080/",
          "height": 51
        },
        "outputId": "5e07b59c-3eb1-4679-de9a-3ad536c4c5bf"
      },
      "source": [
        "# Codage du tri par sélection\n",
        "from random import shuffle\n",
        "# on commence par créer une liste constitué des entiers de 1 à 8\n",
        "maListe = [i for i in range(1,9)]\n",
        "#print(maListe)\n",
        "# on les mélange\n",
        "shuffle(maListe)\n",
        "print(f\"avant : {maListe}\")\n",
        "\n",
        "def triParSelection(uneListe:list):\n",
        "  \"\"\"\n",
        "    Tri la liste passée en argument en utilisant l'algorithme de tri par sélection\n",
        "  \"\"\"\n",
        "  for i in range(0, len(maListe)):\n",
        "    max = i\n",
        "    for j in range(i+1, len(maList)):\n",
        "      if maListe[j] > maListe[max]:\n",
        "        max = j\n",
        "    if max != i :\n",
        "       maListe[i], maListe[max] = maListe[max], maListe[i]\n",
        "\n",
        "# on teste si ça fonctionne\n",
        "triParInsertion(maListe)\n",
        "print(f\"après : {maListe}\")"
      ],
      "execution_count": null,
      "outputs": [
        {
          "output_type": "stream",
          "text": [
            "avant : [3, 1, 6, 8, 7, 2, 4, 5]\n",
            "après : [1, 2, 3, 4, 5, 6, 7, 8]\n"
          ],
          "name": "stdout"
        }
      ]
    },
    {
      "cell_type": "markdown",
      "metadata": {
        "id": "Mi3Jqz8UDCtD",
        "colab_type": "text"
      },
      "source": [
        "# Algorithme de dichotomie #\n",
        "\n",
        ">DICHOTOMIE (ch se prononce k) nom féminin\n",
        "xviiie siècle. Emprunté du grec dikhotomia, « division en deux parties égales ».\n",
        "https://www.dictionnaire-academie.fr/article/A9D2403\n",
        "\n",
        "Il est utilisé pour rechercher un élément dans une liste **triée**\n",
        "\n",
        "**Le principe**\n",
        "\n",
        "Soit une liste de n objets classés. On recherche un objet en particulier.\n",
        "\n",
        "--> On choisit dans la liste l'objet médian.\n",
        "\n",
        "--> On compare les deux objets.\n",
        "\n",
        "--> Si on a trouvé alors c'est fini.\n",
        "\n",
        "--> Si l'objet recherché est placé avant l'objet choisi alors on recommence avec cette partie de la liste.\n",
        "\n",
        "--> Si l'objet recherché est placé après l'objet choisi alors on recommence avec cette partie de la liste.\n",
        "\n",
        "--> Au bout d'un certain nombre d'essais (cela se calcule) soit on a trouvé l'objet soit il n'est pas dans la liste.\n",
        "\n",
        "On utilise par exemple cette méthode pour rechercher la solution d'une équation en mathématique ou bien encore trouvé un mot dans un dictionnaire.\n",
        "\n",
        "Voici un exemple d'algorithme qui rechercherait la valeur recherchée en parcourant toutes les valeurs de la liste\n",
        "\n",
        "```python\n",
        "\n",
        "tableau = [liste triée de n valeurs]\n",
        "\n",
        "fonction recherche(tableau, valeur) : \n",
        "  trouvé = FAUX\n",
        "  POUR i allant de 0 à n-1:\n",
        "    SI tableau[i] == valeur\n",
        "      ALORS \n",
        "        trouve = VRAI\n",
        "  retourne trouve\n",
        "```\n",
        "L'algorithme explore tous les éléments de la liste pour tester la présence de l'élément recherché.\n",
        "\n",
        "Supposons que le tableau est un annuaire qui contienne les noms, prénoms, adresses... des 7 milliards d'êtres humains vivant sur la terre.\n",
        "\n",
        "On constate que cet algorithme a un coût asymptotique linéaire O(n), ce qui le rend long et inefficace sur un tableau de taille importante.\n",
        "\n",
        "Voici une version dichotomique de la fonction de recherche\n",
        "\n",
        "```python\n",
        "tableau = [liste triée de n valeurs]\n",
        "\n",
        "fonction recherche(tableau, valeur) :\n",
        "  a = 0 (borne inférieur de l intervalle de recherche)\n",
        "  b = n-1 (borne supérieur de l intervalle de recherche)\n",
        "  TANT QUE (a <= b)\n",
        "    SI tableau[(a+b)/2] == valeur\n",
        "      retourner VRAI\n",
        "    SINON\n",
        "      SI tableau[(a+b)/2] > valeur\n",
        "        b = (a+b)/2 - 1 (on va chercher dans la partie inférieur)\n",
        "      SINON\n",
        "        a = (a+b)/2 + 1 (on va chercher dans la partie superieur)\n",
        "  retourner FAUX\n",
        "```\n",
        "Comme à chaque itération on divise le nombre de personne par 2, et, en supposant que la personne cherchée est la 1ère ou la dernière. La question revient à :\n",
        "\n",
        "Combien de fois faut-il que je divise 7 milliards par 2 pour qu'il n'en reste qu'un ?\n",
        "\n",
        "Cela revient à résoudre l'équation $2^n = 7 000 000 000$  dont la solution est : $n=\\frac{ln(7000000000)}{ln(2)} = 32,0704$ ... soit au maximum 33 itérations !\n",
        "\n",
        "On dira donc que la complexité asymptotique est en O($log_2(n)$)\n",
        "\n",
        "\n",
        "Exercice : implémenter la fonction en Python\n",
        "\n",
        "Debugger : http://www.pythontutor.com/visualize.html#mode=edit"
      ]
    },
    {
      "cell_type": "code",
      "metadata": {
        "id": "YNWD2-0zd_4J",
        "colab_type": "code",
        "colab": {
          "base_uri": "https://localhost:8080/",
          "height": 34
        },
        "outputId": "2de38501-973e-4939-c2d6-8fb95834c961"
      },
      "source": [
        "# exercice : algorithme dichotomique\n",
        "# on crée une liste triée\n",
        "\n",
        "maListe = [x for x in range(10000)]\n",
        "\n",
        "def recherche(uneListe:list, valeur:int):\n",
        "  \"\"\"\n",
        "    recherche la valeur entière dans la liste d'entiers naturels triée\n",
        "  \"\"\"\n",
        "  a=0 # borne inferieur de l'interval de recherche\n",
        "  b=len(uneListe)-1 # borne supérieur de l'interval de recherche\n",
        "  c=0 # un compteur d'itération\n",
        "  while a <= b:\n",
        "    if uneListe[(a+b)//2] == valeur:\n",
        "      c = c+1\n",
        "      return(True,c)\n",
        "    else:\n",
        "      if uneListe[(a+b)//2] > valeur:\n",
        "        b = (a+b)//2-1\n",
        "        c = c+1\n",
        "      else:\n",
        "        a = (a+b)//2+1\n",
        "        c = c+1\n",
        "  return (False, c)\n",
        "# on teste la fonction\n",
        "recherche(maListe, 4)"
      ],
      "execution_count": null,
      "outputs": [
        {
          "output_type": "execute_result",
          "data": {
            "text/plain": [
              "(True, 13)"
            ]
          },
          "metadata": {
            "tags": []
          },
          "execution_count": 4
        }
      ]
    },
    {
      "cell_type": "markdown",
      "metadata": {
        "id": "8eTBCCfOgsrs",
        "colab_type": "text"
      },
      "source": [
        "Exercice : \n",
        "\n",
        "Concevoir un programme qui illustre la situation suivante :\n",
        "\n",
        "Stéphane (S) propose à Patrice (P) le jeu suivant :\n",
        "\n",
        "\"choisis en secret un nombre compris entre 0 et 100; je vais essayer de le deviner le plus rapidement possible, en ne pouvant que te poser des questions auxquelles tu réponds par oui ou par non \".\n",
        "\n",
        "Deux cas sont envisageables :\n",
        "\n",
        "Stéphane dans le rôle de l'ordinateur\n",
        "\n",
        "Patrice dans le rôle de l'ordinateur"
      ]
    },
    {
      "cell_type": "code",
      "metadata": {
        "id": "H4YEYEZShbYw",
        "colab_type": "code",
        "colab": {}
      },
      "source": [
        "# Version 1 : c'est l'ordinateur qui essaie de deviner le nombre que l'utilisateur a choisi entre 0 et 100"
      ],
      "execution_count": null,
      "outputs": []
    },
    {
      "cell_type": "code",
      "metadata": {
        "id": "O0MPeht_hJ9-",
        "colab_type": "code",
        "colab": {}
      },
      "source": [
        "# Version 2 : c'est l'utilisateur qui essaie de deviner le nombre que l'ordinateur a choisi entre 0 et 100\n",
        "from random import randint\n",
        "# la machine choisit un nombre entre 0 et 100\n",
        "choixMachine = randint(0,100)\n",
        "\n",
        "print(\"Essaie de deviner quel nombre entier entre 0 et 100, j'ai choisi\")\n",
        "proposition = int(input(\"Quelle valeur, ai-je choisi Humain :) \"))\n"
      ],
      "execution_count": null,
      "outputs": []
    },
    {
      "cell_type": "markdown",
      "metadata": {
        "id": "usxont9RixsO",
        "colab_type": "text"
      },
      "source": [
        "### Bonus ###\n",
        "\n",
        "#### Algorithme récursif ####\n",
        "\n",
        "Une fonction récursive est une fonction qui s'appelle elle même dans la définition de son corps.\n",
        "\n",
        "Voici une version récursive de l'algorithme de recherche dichotomique\n",
        "\n",
        "```python\n",
        "tableau = [liste triée de n valeurs]\n",
        "\n",
        "fonction rechercheDichotomique(tableau, valeur, a, b) :\n",
        "  SI (a<=b) :\n",
        "      m = (a+b)/2\n",
        "      SI  tableau[m] == valeur : \n",
        "        retouner m\n",
        "      SINON :\n",
        "        SI t[m] < val :\n",
        "          retourner rechercheDichotomique(tableau, valeur, a, m-1)\n",
        "        SINON : \n",
        "          retourner rechercheDichotomique(tableau, valeur, m+1, b)\n",
        "  SINON :\n",
        "    retourner null\n"
      ]
    },
    {
      "cell_type": "code",
      "metadata": {
        "id": "JPlXKIDQodql",
        "colab_type": "code",
        "colab": {}
      },
      "source": [
        "# Exercice :  recherche dichotomique à implémenter"
      ],
      "execution_count": null,
      "outputs": []
    },
    {
      "cell_type": "markdown",
      "metadata": {
        "id": "Zk8WG8P5roDk",
        "colab_type": "text"
      },
      "source": [
        "# Algorithme des k plus proches voisins (knn : k nearest neighbors) #\n",
        "\n",
        "\n",
        "## Introduction ##\n",
        "L’algorithme des k plus proches voisins appartient à la famille des algorithmes d’apprentissage automatique (machine learning).\n",
        "\n",
        "L’idée d’apprentissage automatique ne date pas d’hier, puisque le terme de machine learning a été utilisé pour la première fois par\n",
        "l’informaticien américain Arthur Samuel en 1959.\n",
        "Les algorithmes d’apprentissage automatique ont connu un fort regain d’intérêt\n",
        "au début des années 2000 notamment grâce à la quantité de données disponibles sur internet.\n",
        "<div text-align=\"center\"\n",
        "<a align=\"center\" title=\"Xl2085 / CC BY-SA (https://creativecommons.org/licenses/by-sa/4.0)\" href=\"https://commons.wikimedia.org/wiki/File:This_is_the_photo_of_Arthur_Samuel.jpg\"><img width=\"128\" alt=\"This is the photo of Arthur Samuel\" src=\"https://upload.wikimedia.org/wikipedia/commons/f/f8/This_is_the_photo_of_Arthur_Samuel.jpg\"></a>\n",
        "</div>\n",
        "\n",
        "L’algorithme des k plus proches voisins est un algorithme d’apprentissage supervisé, il est nécessaire d’avoir des données labellisées. À partir d’un ensemble E de données labellisées, il sera possible de classer (déterminer le label) d’une nouvelle donnée (donnée n’appartenant pas à E).\n",
        "\n",
        "L'algorithme est également en regression, dans lequel la valeur prise par la donnée sera la valeur moyenne de ses k plus proches voisins. Nous ne traiterons pas ce cas là.\n",
        "\n",
        "**Remarque**\n",
        "\n",
        "De nombreuses sociétés (exemple les GAFAM) utilisent les données\n",
        "concernant leurs utilisateurs afin de ”nourrir” des algorithmes de machine learning qui permettront à ces sociétés d’en savoir toujours plus sur eux et ainsi de mieux cerné leurs ”besoins” en termes de consommation.\n",
        "\n",
        "A noter que la plupart des données transmises sont auto-labellisées par les utilisateurs eux-mêmes (like, no-like, #, et autres ...), sur les photos et les textes (instagram, WhatsApp, Twitter ...). Les utilisateurs se regroupent eux-mêmes dans les groupes d'intérêt, ce qui facilite le profilage par les machines.\n"
      ]
    },
    {
      "cell_type": "markdown",
      "metadata": {
        "id": "NAyQmaabxCi3",
        "colab_type": "text"
      },
      "source": [
        "## La problématique ##\n",
        "\n",
        "exemple : On dispose de deux populations dont on connaît la localisation (coordonnées) et une caractéristique ( Rouge ou Verte )\n",
        "\n",
        ">>>![image knn1](https://raw.githubusercontent.com/LSMISN/NSI/master/image_knn1.png)\n",
        "\n",
        "\n",
        "\n",
        "Un nouvel individu se présente avec ses coordonnées, quelle couleur lui donne-t-on ?\n",
        "\n",
        ">>>![image knn2](https://raw.githubusercontent.com/LSMISN/NSI/master/image_knn2.png)\n",
        "\n",
        "On lui donne la couleur des k plus proches voisins majoritaires.\n",
        "\n",
        "## l'algorithme ##\n",
        "\n",
        "L’algorithme de k plus proches voisins ne nécessite pas de phase d’apprentissage à proprement parler, il faut juste stocker le jeu de données d’apprentissage.\n",
        "Soit un ensemble E contenant n données labellisées : \n",
        "E = {( $y_i$, \t$\\overrightarrow{x_i}$ )} \n",
        "\n",
        "avec i compris entre 1 et n, où $y_i$ correspond à la classe\n",
        "(le label) de la donnée i et où le vecteur $\\overrightarrow{x_i}$ de dimension p ($\\overrightarrow{x_i}$ = ( $x_{1i}$, $x_{2i}$,..., $x_{pi}$, )) représente les variables prédictrices de la donnée i. Soit une donnée u qui n’appartient pas à E et qui ne possède pas de label (u est uniquement caractérisée par un vecteur\n",
        "$\\overrightarrow{x_u}$ de dimension p). Soit d une fonction qui renvoie la distance entre la donnée u et une donnée quelconque appartenant à E. Soit un entier k inférieur ou égal à n. Voici le principe de l’algorithme de k plus proches voisins :\n",
        "\n",
        "-  On calcule les distances entre la donnée u et chaque donnée appartenant à E à l’aide de la fonction d\n",
        "-  On retient les k données du jeu de données E les plus proches de u\n",
        "-  On attribue à u la classe qui est la plus fréquente parmi les k données les plus proches.\n",
        "\n",
        "**la distance utilisée est souvent la distance Euclidienne (mais on en trouve d'autres suivant le cas : distance de Manhattan, distance de Hamming ...)**\n",
        "\n",
        "\n",
        "On rappelle la formule permettant de calculer la distance entre deux données de dimensions n=2 $X_0(x_0,y_0)$ et $X_1(x_1,y_1)$\n",
        "\n",
        "$D(X_0,X_1) = \\sqrt{(x_0-x_1)^2 + (y_0-y_1)^2}$\n",
        "\n",
        "La distance Euclidienne généralisée à des vecteurs $\\overrightarrow{a}$ et $\\overrightarrow{b}$ de dimension p $\\overrightarrow{a}$ = ($a_0$, $a_1$,...,$a_p$), $\\overrightarrow{b}$ = ($b_0$, $b_1$,...,$b_p$), serait :\n",
        "\n",
        "$D(a,b) = \\sqrt{(a_0-b_0)^2 + (a_1-b_1)^2 + ... + (a_p-b_p)^2}$\n",
        "\n",
        "\n"
      ]
    },
    {
      "cell_type": "markdown",
      "metadata": {
        "id": "7F4nS8RhPX3f",
        "colab_type": "text"
      },
      "source": [
        "## Exemple 1 : Fidélité client##\n",
        "\n",
        "On a le jeu de donnée suivant :\n",
        "\n",
        "| Nom      |     Age    | Revenus (k€)   | Nombre d'achats | Fidélité |\n",
        "| ------------- |:-------------: | :---------: |:---------: |:---------: |\n",
        "|Jean      |        35        |      35 | 3 | N|\n",
        "| Louis        |        22        |      50 | 2 | O\n",
        "| Anne      |        63        |      200 | 1|N|\n",
        "|Suzanne|59|170|1|N|\n",
        "|Nicolas|25|40|4| O|\n",
        "\n",
        "Un nouveau client se présente et on souhaite estimer sa fidélité, au regard du jeu de données que l'on possède.\n",
        "\n",
        "\n",
        "| Nom      |     Age    | Revenus (k€)   | Nombre d'achats | Fidélité |\n",
        "| ------------- |:-------------: | :---------: |:---------: |:---------: |\n",
        "| David | 37 | 50 | 2 | ? |\n",
        "\n",
        "\n",
        "\n",
        "On va utiliser l'algorithme knn.\n",
        "\n",
        "**remarque**\n",
        "\n",
        "Pour faire écho à l'algorithme ci-dessus, ici on constate que chaque client est caractérisé par 3 propriétés : l'age, le revenu, le nombre d'achat. \n",
        "\n",
        "Chaque individu est donc un vecteur de dimension 3 (p=3).\n",
        "\n",
        "Le jeu de donnée est donc composé de 5 vecteurs (n=5).\n",
        "\n",
        "Le label est unique, il s'agit de la fidélité qui peut prendre ici 2 états (Oui ou Non).\n",
        "\n",
        "Notre nouvel individu se présente en entrée de l'algorithme avec ses 3 propriétés l'algorithme va déterminer suivant la valeur de k (nombre de voisins) choisi quel est son profile de fidélité à priori.\n",
        "\n",
        "***Exercice:***\n",
        "\n",
        "Appliquer l'algorithme \"à la main\" pour évaluer la fidélité de David pour k=3\n",
        "\n",
        "- calculer la distance de David avec tous les autres participant (distance Euclidienne)\n",
        "\n",
        "Exemple :\n",
        "Les deux points de départ \n",
        "David(37,50,2)\n",
        "Jean(35,35,3)\n",
        "\n",
        "d(David, Jean) = $\\sqrt{(37-35)^2+(50-35)^2+(2-3)^2} = 15,165$\n",
        "- ..."
      ]
    },
    {
      "cell_type": "code",
      "metadata": {
        "id": "Qr23hIf_ov1i",
        "colab_type": "code",
        "colab": {
          "base_uri": "https://localhost:8080/",
          "height": 103
        },
        "outputId": "30e60ca7-2718-475b-e43e-5fc7adab7914"
      },
      "source": [
        "import math\n",
        "clients = [\n",
        "           ['Jean', 35, 35, 3,'N'],\n",
        "           ['Louis', 22, 50, 2, 'O'],\n",
        "           ['Anne', 63, 200, 1, 'N'],\n",
        "           ['Suzanne', 59, 170, 1, 'N'],\n",
        "           ['Nicolas', 25, 40, 4, 'O']  \n",
        "           ]\n",
        "\n",
        "nouveau = ['David', 37, 50, 2]\n",
        "# distance avec Jean\n",
        "print(f\"Jean: {math.sqrt((37-35)**2+(50-35)**2+(2-3)**2)}\")\n",
        "# distance avec Louis\n",
        "print(f\"Louis: {math.sqrt((37-22)**2+(50-50)**2+(2-2)**2)}\")\n",
        "# distance avec Anne\n",
        "print(f\"Anne: {math.sqrt((37-63)**2+(50-200)**2+(2-1)**2)}\")\n",
        "# distance avec Suzanne\n",
        "print(f\"Suzanne: {math.sqrt((37-59)**2+(50-170)**2+(2-1)**2)}\")\n",
        "# distance avec Anne\n",
        "print(f\"Nicolas: {math.sqrt((37-25)**2+(50-40)**2+(2-4)**2)}\")\n"
      ],
      "execution_count": null,
      "outputs": [
        {
          "output_type": "stream",
          "text": [
            "Jean: 15.165750888103101\n",
            "Louis: 15.0\n",
            "Anne: 152.23994219652081\n",
            "Suzanne: 122.00409829181969\n",
            "Nicolas: 15.748015748023622\n"
          ],
          "name": "stdout"
        }
      ]
    },
    {
      "cell_type": "markdown",
      "metadata": {
        "id": "Vo5stsdPz4LI",
        "colab_type": "text"
      },
      "source": [
        "On constate que Suzanne et Anne sont à des distances éloignées. Si on prend k=3, on choisit les 3 plus proches voisins, il reste Jean, Louis et  Nicolas.\n",
        "\n",
        "On regarde la fidélité des 3 individus :\n",
        "Jean : 'N'\n",
        "Louis : 'O'\n",
        "Nicolas : 'O'\n",
        "\n",
        "On a une majorité de 'Oui' sur le voisinage (k=3), on met l'étiquette 'Oui' (bon client) à David."
      ]
    },
    {
      "cell_type": "markdown",
      "metadata": {
        "id": "N8g4r8_PTZBh",
        "colab_type": "text"
      },
      "source": [
        "\n",
        "## Exemple 2 :  Les Iris de Fisher##\n",
        "\n",
        "\n",
        "\n",
        "![Iris setosa](https://pixees.fr/informatiquelycee/n_site/img/iris_setosa.jpeg)\n",
        "![Iris virginica](https://pixees.fr/informatiquelycee/n_site/img/iris_virginica.jpeg)\n",
        "![Iris versicolor](https://pixees.fr/informatiquelycee/n_site/img/iris_versicolor.jpeg)\n",
        "\n",
        "[Activité pixees.fr](https://pixees.fr/informatiquelycee/n_site/nsi_prem_knn.html)\n",
        "\n",
        "\n",
        "[Télecharger le dataset iris.csv](https://gist.github.com/curran/a08a1080b88344b0c8a7/archive/639388c2cbc2120a14dcf466e85730eb8be498bb.zip), iris.csv doit être placé dans la racine de ce notebook pour que le code suivant puisse s'exécuter correctement."
      ]
    },
    {
      "cell_type": "code",
      "metadata": {
        "id": "_q9SwzHxRqwy",
        "colab_type": "code",
        "colab": {
          "base_uri": "https://localhost:8080/",
          "height": 265
        },
        "outputId": "0969ec04-9de9-4436-8466-6af7a5a4143a"
      },
      "source": [
        "import pandas\n",
        "import matplotlib.pyplot as plt\n",
        "\n",
        "iris=pandas.read_csv(\"iris.csv\")\n",
        "x = iris.loc[:,\"petal_length\"]\n",
        "y = iris.loc[:,\"petal_width\"]\n",
        "lab=iris.loc[:,\"species\"]\n",
        "plt.scatter(x[lab == 'setosa'], y[lab == 'setosa'], c='g', label='setosa')\n",
        "plt.scatter(x[lab == 'virginica'], y[lab=='virginica'],c='r', label='virginica')\n",
        "plt.scatter(x[lab == 'versicolor'], y[lab == 'versicolor'],c='b', label='versicolor')\n",
        "plt.legend()\n",
        "plt.show()"
      ],
      "execution_count": null,
      "outputs": [
        {
          "output_type": "display_data",
          "data": {
            "image/png": "[encoded data removed]",
            "text/plain": [
              "<Figure size 432x288 with 1 Axes>"
            ]
          },
          "metadata": {
            "tags": [],
            "needs_background": "light"
          }
        }
      ]
    },
    {
      "cell_type": "markdown",
      "metadata": {
        "id": "Q7ALRvyqmh7J",
        "colab_type": "text"
      },
      "source": [
        "## Exercice : Implémentation de l'algorithme ##\n",
        "\n",
        "\n",
        "\n",
        "1.   implémenter la fonction distance_euclidienne(point1, point2) qui calcule et renvoie la distance entre les points1 et points2 qui sont des listes de coordonnées\n",
        "2.   implémenter la fonction knn(donnees, pointCible, k) qui renvoie une liste des indices des k plus proches voisins de pointCible.\n",
        "\n",
        "On pourra tester avec le jeu de données suivant :\n",
        "```python\n",
        "exemple_donnees = [\n",
        "                [65.75, 112.99],\n",
        "                [71.52, 136.49],\n",
        "                [69.40, 153.03],\n",
        "                [68.22, 142.34],\n",
        "                [67.79, 144.30],\n",
        "                [68.70, 123.30],\n",
        "                [69.80, 141.49],\n",
        "                [70.01, 136.46],\n",
        "                [67.90, 112.37],\n",
        "                [66.49, 127.45],\n",
        "                ]\n",
        "\n",
        "nouvelleCible = [70, 140]\n",
        "```"
      ]
    },
    {
      "cell_type": "code",
      "metadata": {
        "id": "rj0M21I7PGvT",
        "colab_type": "code",
        "colab": {
          "base_uri": "https://localhost:8080/",
          "height": 68
        },
        "outputId": "788747c3-9932-4d4b-a8c1-1873583371f5"
      },
      "source": [
        "# Essayons d'implémenter l'algorithme knn\n",
        "from math import sqrt\n",
        "\n",
        "# On peut commencer par implémenter une fonction pour calculer la distance Euclidienne\n",
        "def distance_euclidienne(point1:list, point2:list):\n",
        "  \"\"\"\n",
        "      Calcule la distance euclidienne entre les point1 et point2 et renvoie cette valeur\n",
        "  \"\"\"\n",
        "  somme_carres = 0\n",
        "  for i in range(len(point1)):\n",
        "    somme_carres = somme_carres + (point1[i]-point2[i])**2\n",
        "  return sqrt(somme_carres) # on renvoie la racine carree\n",
        "\n",
        "# valeur de test pour calculer la distance\n",
        "# point1 = [35, 35, 3]\n",
        "# point2 = [37, 50, 2]\n",
        "# distance_euclidienne(point1,point2)\n",
        "\n",
        "# Puis knn \n",
        "def knn(donnees:list, NouveauPoint:list, k):\n",
        "  \"\"\"\n",
        "  renvoie la liste des indices des k plus proches voisins de Nouveaupoint\n",
        "  issu du jeu de donnees\n",
        "  \"\"\"\n",
        "  \n",
        "  # On calcule la dist_ance de NouveauPoint avec toutes les donnees et on memorise les resultats dans une liste\n",
        "  lst_distances = []\n",
        "  for indiceVoisin, pointVoisin in enumerate(donnees):\n",
        "    distance = distance_euclidienne(NouveauPoint, pointVoisin)\n",
        "    lst_distances.append((distance, indiceVoisin))\n",
        "  # on trie le résultat\n",
        "  lst_distances = sorted(lst_distances)\n",
        "  # A terminer\n",
        "  # récupérer les indices des k plus proches voisins et les stocker dans la liste indice_plus_proches_voisins\n",
        "  indice_plus_proches_voisins = [indice for distance, indice in lst_distances[:k]]\n",
        "  # on retourne le resultat\n",
        "  return indice_plus_proches_voisins\n",
        "\n",
        "# Le jeu de donnees d'entree \n",
        "exemple_donnees = [\n",
        "                [65.75, 112.99],\n",
        "                [71.52, 136.49],\n",
        "                [69.40, 153.03],\n",
        "                [68.22, 142.34],\n",
        "                [67.79, 144.30],\n",
        "                [68.70, 123.30],\n",
        "                [69.80, 141.49],\n",
        "                [70.01, 136.46],\n",
        "                [67.90, 112.37],\n",
        "                [66.49, 127.45],\n",
        "                ]\n",
        "# La valeur cible\n",
        "nouveau = [70, 140]\n",
        "# plus proches voisins\n",
        "les_k_plus_proches_voisins = knn(exemple_donnees, nouveau, 3)\n",
        "print(les_k_plus_proches_voisins)\n",
        "# on affiche les valeurs du dataset correspondantes\n",
        "les_k_valeurs_proches = [exemple_donnees[i] for i in les_k_plus_proches_voisins]\n",
        "print(les_k_valeurs_proches)\n",
        "les_k_distances = [distance_euclidienne(nouveau, voisin) for voisin in les_k_valeurs_proches]\n",
        "print(les_k_distances)"
      ],
      "execution_count": null,
      "outputs": [
        {
          "output_type": "stream",
          "text": [
            "[6, 3, 7]\n",
            "[[69.8, 141.49], [68.22, 142.34], [70.01, 136.46]]\n",
            "[1.5033628969746553, 2.940068026423882, 3.5400141242656002]\n"
          ],
          "name": "stdout"
        }
      ]
    },
    {
      "cell_type": "markdown",
      "metadata": {
        "id": "lW-r6LX25BEU",
        "colab_type": "text"
      },
      "source": [
        "La fonction knn appliquée au dataset exemple renvoie les voisins les plus proches 6, 3 et 7 "
      ]
    },
    {
      "cell_type": "code",
      "metadata": {
        "id": "vANTrFSO7MNR",
        "colab_type": "code",
        "colab": {
          "base_uri": "https://localhost:8080/",
          "height": 269
        },
        "outputId": "563224ff-1f07-463f-eec1-68a4954d42cf"
      },
      "source": [
        "import matplotlib.pyplot as plt\n",
        "\n",
        "limite = plt.Circle(nouveau, max(les_k_distances), facecolor='none',edgecolor=\"blue\")\n",
        "fig, ax = plt.subplots()\n",
        "ax.add_artist(limite)\n",
        "# On représente le dataset complet\n",
        "for x, y in exemple_donnees:\n",
        "  plt.plot(x,y,marker=\"o\", color='blue')\n",
        "# on place le nouveau\n",
        "plt.plot(nouveau[0],nouveau[1], marker=\"v\", color='green', label='Nouveau')\n",
        "# on colorie les k plus proches voisins\n",
        "for x, y in les_k_valeurs_proches:\n",
        "  plt.plot(x,y,marker=\"o\", color='red')\n",
        "\n",
        "plt.legend()\n",
        "plt.grid()\n",
        "plt.show()"
      ],
      "execution_count": null,
      "outputs": [
        {
          "output_type": "display_data",
          "data": {
            "image/png": "[encoded data removed]",
            "text/plain": [
              "<Figure size 432x288 with 1 Axes>"
            ]
          },
          "metadata": {
            "tags": [],
            "needs_background": "light"
          }
        }
      ]
    },
    {
      "cell_type": "markdown",
      "metadata": {
        "id": "ZEH6LVZiRgAG",
        "colab_type": "text"
      },
      "source": [
        "## Conclusion ##\n",
        "\n",
        "On a une complexité en O(n), linéaire.\n",
        "\n",
        "La classification des nouvelles valeurs va dépendre :\n",
        "- le choix de k\n",
        "- la population de départ influence très largement la prédiction (si il y a un déséquilibre dans la répartition des tribus, la tribu majoritaire influence trop fortement les nouveaux arrivants).\n",
        "\n"
      ]
    },
    {
      "cell_type": "markdown",
      "metadata": {
        "id": "VMldr11VKj8v",
        "colab_type": "text"
      },
      "source": [
        "# Algorithmes gloutons #\n",
        "\n",
        "Les algorithmes gloutons (greedy en anglais) est une réponse possible aux problèmes d'optimisation.\n",
        "\n",
        "Optimiser une problème, c'est trouver une solution qui valide simultanément un certain nombre de critères, avec une rendement maximum.\n",
        "\n",
        "Exemples de problème d'optimisation :\n",
        "- déterminer le maximum ou le minimun d'une fonction\n",
        "- répartir des tâches suivant des critères précis en réduisant le temps pour les faire\n",
        "- remplir le volume d'un camion avec le plus grand nombre de colis\n",
        "- trouver le plus court chemin dans un graphe ...\n",
        "\n",
        "De nombreuses techniques informatiques sont susceptibles d’apporter une solution exacte ou approchée à ces problèmes. La technique la plus basique pour résoudre ce type de problème consiste à énumérer de façon exhaustive toutes les solutions possibles, puis à choisir la meilleure. Cette approche par force brute s'implémente la plupart du temps avec des algorithmes récursifs naïfs de complexité exponentielle O($a^n$) (temps de réponse longs, moyens machine illimités).\n",
        "\n",
        "Les techniques de **programmation dynamique ou d’optimisation linéaire**, certains algorithmes numériques peuvent apporter une solution. **Les algorithmes gloutons** constituent une alternative dont le résultat n’est pas toujours optimal. Plus précisément, ces algorithmes déterminent **une solution optimale à chaque étape**, un **choix optimum local**, jamais remis en cause, dans l'espoir d'obtenir un résultat optimum global.\n",
        "\n",
        " Au cours de la construction de la solution, l’algorithme résout une partie du problème puis se focalise ensuite sur le sous-problème restant à résoudre. Une différence essentielle avec la programmation dynamique est que celle-ci peut remettre en cause des solutions déjà établies. Au lieu de se focaliser sur un sous-problème, elle explore les solutions de tous les sous-problèmes pour les combiner finalement de manière optimale.\n",
        "\n",
        "Le principal avantage des algorithmes gloutons est leur facilité de mise en œuvre. En outre, dans certaines situations dites canoniques, il arrive qu’ils renvoient réellement l‘optimum d’un problème. Nous présentons de telles situations dans la suite, en montrant les avantages mais aussi les limites de la technique.\n"
      ]
    },
    {
      "cell_type": "markdown",
      "metadata": {
        "id": "yv1yxiACR6MZ",
        "colab_type": "text"
      },
      "source": [
        "## Exemple 1 : le rendu de monnaie\n",
        "\n",
        "### Problème ###\n",
        "\n",
        "Lors d'une transaction commerciale en espèce, comment rendre une somme particulière en minimisant au maximum le nombre de pièces données.\n",
        "\n",
        "Sans le savoir, nous utilisons tous un algorithme glouton pour répondre au problème.\n",
        "\n",
        "Nous allons par souci de simplicité prendre monétaire simplifié disposant des pièces de monnaie {1 , 2, 5, 10}.\n",
        "\n",
        ">>>![système monétaire 1](https://raw.githubusercontent.com/LSMISN/NSI/master/imageGlouton1.png)\n",
        "\n",
        "Supposons que l'on veille rendre valeur 14\n",
        "\n",
        "*   On commence par trier les pièces en ordre décroissant.\n",
        "*   On donne une pièce de 10\n",
        "*   Pas de pièce de 5\n",
        "*   2 pièces de 2\n",
        "\n",
        ">>>![solution gloutonne](https://raw.githubusercontent.com/LSMISN/NSI/master/imageGlouton2.png)\n",
        "\n",
        "La solution est optimale dans le cas présent avec 3 pièces rendue.\n",
        "\n",
        "Supposons maintenant que l'on ait un autre système monétaire constitué cette fois des pièces {1, 2, 7, 10}\n",
        "\n",
        ">>>![système monétaire 2](https://raw.githubusercontent.com/LSMISN/NSI/master/imageGlouton3.png)\n",
        "\n",
        "\n",
        "On veut également rendre la valeur 14\n",
        "\n",
        "En appliquant le même algorithme glouton, on a\n",
        "*   1 pièce de 10\n",
        "*   2 pièces de 2\n",
        "\n",
        ">>>![solution gloutonne](https://raw.githubusercontent.com/LSMISN/NSI/master/imageGlouton4.png)\n",
        "\n",
        "Soit 3 pièces rendues, et cela semble être optimal.\n",
        "\n",
        "Mais il existe cependant une autre solution qui est la véritable solution optimale avec seulement 2 pièces de 7\n",
        "\n",
        "\n",
        ">>>![solution optimale](https://raw.githubusercontent.com/LSMISN/NSI/master/imageGlouton5.png)\n",
        "\n",
        "### Conclusion ###\n",
        "\n",
        "L'algorithme glouton choisit la solution maximale à chaque étape, en partant du principe que la somme des solutions intermédiaires optimales, aboutit à une solution globale optimale.\n",
        "\n",
        "Dans le cas du premier, cela fonctionne car les valeurs des pièces sont choisies de manière canonique. Cela signifie que la solution sera toujours optimale quelque soit la valeur à rendre. C'est le cas du système monétaire français.\n",
        "\n",
        "Dans le deuxième cas, on constate que cela ne fonctionne pas.\n",
        "\n"
      ]
    },
    {
      "cell_type": "code",
      "metadata": {
        "id": "hlq22OLKrbRh",
        "colab_type": "code",
        "colab": {}
      },
      "source": [
        "# Exercice implémenter le rendu de pièces\n",
        "# \n",
        "pieces = [10, 5, 2, 1]\n",
        "\n",
        "def rendreSomme(sommeARendre:int):\n",
        "  \"\"\"\n",
        "  renvoie la liste des pièces à rendre sous forme de tuple (nombre de pièces, type de pièce)\n",
        "  \"\"\"\n",
        "  pieces_a_rendre = []\n",
        "  while(SommeARendre != 0):\n",
        "    for unType in pieces:\n",
        "      # ...\n",
        "  return pieces_a_rendre\n",
        "\n",
        "# le contrat de la fonction rendreSomme est le suivant :\n",
        "assert rendreSomme(14) == [(1,10), (2,2)]\n",
        "assert rendreSomme(12) == [(1,10), (1,2)]\n",
        "assert rendreSomme(5) == [(1,5)]\n",
        "assert rendreSomme(33) == [(3,10), (1,2), (1,1)]\n",
        "\n",
        "print(\"Test passé avec succès, bravo !\")"
      ],
      "execution_count": null,
      "outputs": []
    },
    {
      "cell_type": "markdown",
      "metadata": {
        "id": "39X6lq8WiR9A",
        "colab_type": "text"
      },
      "source": [
        "## Exemple 2 : coloriage de carte ##\n",
        "\n",
        "### Problème ###\n",
        "\n",
        "Colorier une carte en faisant en sorte que deux zones limitrophes n'aient pas la même couleur, et avec le minimum de couleurs possible.\n",
        "\n",
        ">>>![solution optimale](https://raw.githubusercontent.com/LSMISN/NSI/master/imageGlouton6.png)\n",
        "\n",
        "\n",
        "*   On va commencer par répertorier chacune des zones et compter pour chacune le nombre de zones adjacentes\n",
        "\n",
        "| Zone | Adjacents |\n",
        "|:------:|:--------:|\n",
        "|0|3|\n",
        "|1|6|\n",
        "|2|4|\n",
        "|3|4|\n",
        "|4|3|\n",
        "|5|6|\n",
        "|6|4\n",
        "|7|4|\n",
        "\n",
        "*  Puis va **trier** ce tableau par nombre de zones adjacentes décroissant\n",
        "\n",
        "| Zone | Adjacents |\n",
        "|:------:|:--------:|\n",
        "|1|6|\n",
        "|5|6|\n",
        "|2|4|\n",
        "|3|3|\n",
        "|6|4|\n",
        "|7|4\n",
        "|0|3|\n",
        "|4|3|\n",
        "\n",
        "*  On applique l'algorithme glouton\n",
        "\n",
        "On colorie en jaune la zone qui a le plus d'adjacents, la zone 1,\n",
        "\n",
        "puis pour savoir quelles autres zones doivent être coloriée de cette couleur, on va parcourir le tableau dans l'ordre, en vérifiant si la zone suivante possède une zone commune avec la zone 1.\n",
        "\n",
        "La suivante est la zone 5, mais elle est mitoyenne de la zone 1, on ne peut donc pas la mettre en jaune,\n",
        "\n",
        "idem pour les zones 2, 3, 6, 7, 0,\n",
        "\n",
        "En revanche, la zone 4 n'est pas adjacente à zone 1, on peut donc la colorier en jaune.\n",
        "\n",
        ">>>![solution optimale](https://raw.githubusercontent.com/LSMISN/NSI/master/imageGlouton7.png)\n",
        "\n",
        "On procède de la même manière pour les zones suivantes en prenant la valeur suivante dans le tableau, soit la zone 5, qu'on colorie en rouge, puis la zone 2\n",
        "\n",
        ">>>![solution optimale](https://raw.githubusercontent.com/LSMISN/NSI/master/imageGlouton8.png)\n",
        "\n",
        "puis la zone 3, et la zone 6, en vert\n",
        ">>>![solution optimale](https://raw.githubusercontent.com/LSMISN/NSI/master/imageGlouton9.png)\n",
        "\n",
        "puis la zone 7, et la zone 0 en bleu\n",
        ">>>![solution optimale](https://raw.githubusercontent.com/LSMISN/NSI/master/imageGlouton10.png)\n",
        "\n",
        "\n",
        "### Conclusion ###\n",
        "\n",
        "On a réussi à répondre au problème en n'utilisant que 4 couleurs et la solution semble optimale, mais dans certains cas de figure cet algorithme n'aboutirait pas forcément sur **la solution optimale**\n",
        "\n",
        "Ce problème se pose notamment pour les opérateurs téléphoniques lorsqu'ils doivent déployer de nouvelles infrastructures de radiocommunication (antennes). en effet pour éviter qu'une antenne interfère avec une autre physiquement proche, ils attribuent des bandes de fréquences différentes à chacune. Le nombre de bandes attribuées par l'autorité publique étant limité, ils doivent les  distribuer judicieusement. La bande de fréquences représente nos couleurs, les zones de couverture, nos rectangles."
      ]
    },
    {
      "cell_type": "code",
      "metadata": {
        "id": "cdrC2M2ysnWm",
        "colab_type": "code",
        "colab": {}
      },
      "source": [
        "# Exercice : implementation de l'exemple ci-dessus\n",
        "\n",
        "configuration = [(0, 3), (1,6)]"
      ],
      "execution_count": null,
      "outputs": []
    },
    {
      "cell_type": "markdown",
      "metadata": {
        "id": "Fv4s_Qf7qEHD",
        "colab_type": "text"
      },
      "source": [
        "## Exemple 3: Le problème du sac à dos (knapsack) ##\n",
        "\n",
        ">>>![knapsack problem wikipedia](https://upload.wikimedia.org/wikipedia/commons/thumb/f/fd/Knapsack.svg/200px-Knapsack.svg.png)\n",
        "\n",
        "\n",
        "Le problème du sac à dos est l'un des 21 problèmes [NP-complets](https://fr.wikipedia.org/wiki/Probl%C3%A8me_NP-complet) de Richard Karp, exposés dans un article de 1972. La formulation du problème est fort simple, mais sa résolution est plus complexe.\n",
        "\n",
        "Voici un article permettant de comprendre les problèmes np-complet :\n",
        "\n",
        "[Quand les algorithmes prennent le métro](https://theconversation.com/quand-les-algorithmes-prennent-le-metro-85706\n",
        ")\n",
        "\n",
        "\n",
        ">>>![Richard Karp giving a talk at the EPFL on 13th of July 2009](https://upload.wikimedia.org/wikipedia/commons/thumb/3/3e/Karp_mg_7725-b.cr2.jpg/240px-Karp_mg_7725-b.cr2.jpg)\n",
        "\n",
        "\n",
        "### Le problème ###\n",
        "\n",
        "Comment remplir un sac à dos, ne pouvant supporter plus d'une certaine masse, avec tout ou partie d'un ensemble donné d'objets ayant chacun une masse et une valeur. Les objets mis dans le sac à dos doivent maximiser la valeur totale, sans dépasser la masse maximum.\n",
        "\n",
        "On a par exemple les objets suivant :\n",
        "\n",
        "|objet|Lingots d'or| Lingots de platine|des pièces d'or|Lingots d'argent|\n",
        "|:---:|:-----:|:----:|:----:|:----:|\n",
        "|masse(Kg)|13|12|8|10|\n",
        "|valeur(€)|700|400|300|300|\n",
        "\n",
        "Quels sont les objets à mettre dans le sac optimisant la valeur sachant que la masse est limitée à 30 Kg ?\n",
        "\n",
        "Essayons la stratégie gloutonne :\n",
        "\n",
        "*   On peut commencer par trier les objets par valeur massique (valeur en euro par kg)\n",
        "\n",
        "|objet|Lingots d'or|des pièces d'or|Lingots de platine|Lingots d'argent|\n",
        "|:---:|:-----:|:----:|:----:|:----:|\n",
        "|valeur massique (€/Kg)|54|38|33|30|\n",
        "|valeur(€)|700|400|300|300|\n",
        "\n",
        "*  On choisi en premier les lingots d'or :\n",
        "\n",
        "On a donc valeur = 700 € et masse = 13 Kg\n",
        "\n",
        "*  on rajoute les pièces d'or :\n",
        "valeur = 1000 € et masse = 21 Kg\n",
        "\n",
        "\n",
        "*  On ne peut pas rajouter les lingots de platine car on depasse la capacité\n",
        "\n",
        "*  On ne peut pas rajoueter les lingots d'argent car on dépasse également.\n",
        "\n",
        "finalement le butin pèse 21 kg, a pour valeur 1000€, il est constitué des lingots d'or et des pièces d'or.\n",
        "\n",
        "Cette solution est-elle optimale ?\n",
        "\n",
        "Non, dans le cas présent, on constate qu'en prenant les lingots d'or et les lingots de platine, on obtient une valeur de 1100€ pour une masse de 25kg.\n",
        "\n",
        "### d'autres exemples ###\n",
        "\n",
        "*  [Coloration de graphes et algo glouton](https://brilliant.org/wiki/greedy-algorithm/)\n",
        "\n",
        "\n",
        "*  [Comment élaborer un planning ? Avec des crayons de couleur, de la patience et… des mathématiques](https://theconversation.com/comment-elaborer-un-planning-avec-des-crayons-de-couleur-de-la-patience-et-des-mathematiques-122373)\n",
        "\n",
        "*  [Rendu de monnaie et programmation dynamique](https://tryalgo.org/fr/2016/12/11/rendudemonnaie/)\n",
        "\n",
        "*  [Knapsack problem on TutorialPoint](https://www.tutorialspoint.com/design_and_analysis_of_algorithms/design_and_analysis_of_algorithms_fractional_knapsack.htm)"
      ]
    },
    {
      "cell_type": "markdown",
      "metadata": {
        "id": "qNvky0-76JvJ",
        "colab_type": "text"
      },
      "source": [
        "## Exercice à résoudre##\n",
        "\n",
        "Un photographe de presse doit déposer des photos sur un serveur, l’espace qui lui accordé est (très) limité à 15 Mo. Il estime\n",
        "le prix qu’il pourra vendre ses photos dans le tableau ci-dessous.\n",
        "\n",
        "|Type| photo chat| photo paysage| photo sport| photo manif| photo ville| photo astronomie|\n",
        "|:------:|:------:|:------:|:------:|:------:|:------:|:------:|\n",
        "|Poids(Mo)| 4.5 |7.5 |2.5|10|8|12|\n",
        "|Prix(€)| 8|3|7|5|12|10|\n",
        "\n",
        "Question quelles photos doit-il déposer pour que cela lui rapporte le plus ?\n",
        "\n",
        "Implémenter en Python, le calcul d'une solution optimale en appliquant un algorithme glouton.\n"
      ]
    },
    {
      "cell_type": "code",
      "metadata": {
        "id": "ZgFVfTBK5Ib3",
        "colab_type": "code",
        "colab": {}
      },
      "source": [
        "# On modélise le tableau par une liste de tuple\n",
        "photos = [(4.5, 8, 'chat'), (7.5, 3, 'paysage'), (2.5 ,7 , 'sport'), (10, 5, 'manif') , (8, 12, 'ville'), (12, 10, 'astronomie')]\n"
      ],
      "execution_count": null,
      "outputs": []
    }
  ]
}