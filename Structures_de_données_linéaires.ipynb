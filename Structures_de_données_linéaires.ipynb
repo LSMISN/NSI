{
  "nbformat": 4,
  "nbformat_minor": 0,
  "metadata": {
    "colab": {
      "name": "Structures de données linéaires.ipynb",
      "provenance": [],
      "collapsed_sections": [],
      "authorship_tag": "ABX9TyO8qS8kCT2C78Nr5MZXVPkP",
      "include_colab_link": true
    },
    "kernelspec": {
      "name": "python3",
      "display_name": "Python 3"
    }
  },
  "cells": [
    {
      "cell_type": "markdown",
      "metadata": {
        "id": "view-in-github",
        "colab_type": "text"
      },
      "source": [
        "<a href=\"https://colab.research.google.com/github/LSMISN/NSI/blob/master/Structures_de_donn%C3%A9es_lin%C3%A9aires.ipynb\" target=\"_parent\"><img src=\"https://colab.research.google.com/assets/colab-badge.svg\" alt=\"Open In Colab\"/></a>"
      ]
    },
    {
      "cell_type": "markdown",
      "metadata": {
        "id": "kGYgYfNYvtjR"
      },
      "source": [
        "# Introduction : notion de TAD\n",
        "\n",
        "Les algorithmes sont décrits pour traiter informatiquement des problèmes. Les données manipulées sont de nature très différentes suivant les domaines étudiés. On s'applique à créer des algorithmes \"génériques\" capables de traiter tous les types de données. Ces types de données ne font souvent pas partis des types de bases des langages de programmation. Cela permet de rendre indépendant la description de l'algorithme de son implémentation dans un langage particulier. On parle alors de TYPE ABSTRAIT de DONNÉE (TAD). On décrit la forme de la donnée, et les traitements que l'on peut faire dessus.\n",
        "\n",
        "Un type abstrait de données (aussi appelé TAD) consiste en :\n",
        "\n",
        "- un ensemble de valeurs possibles (aussi appelé type)\n",
        "\n",
        "- un ensemble d'opérations agissant sur ces valeurs (prédicats)\n",
        "\n",
        "- Il s'agit d'un exemple classique de composant modulaire.\n",
        "\n",
        "Dans cette partie du cours, nous nous intéresserons qu'aux structures de données abstraite linéaires que sont les listes, les piles et les files.\n",
        "\n",
        "En effet, ces TAD sont identiques dans leur structure, mais possèdent des comportements différents.\n",
        "\n",
        "Ces TAD sont très utilisés dans les algorithmes de tri, d'ordonnancement, de gestion mémoire (appels de fonctions) par exemple."
      ]
    },
    {
      "cell_type": "markdown",
      "metadata": {
        "id": "Tq2_AaWxAfMT"
      },
      "source": [
        "## Type de donnée abstrait LISTE\n",
        "\n",
        "![image.png](data:image/png;base64,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)\n",
        "\n",
        "- Une liste est caractérisée par un ensemble de **cellules**\n",
        "- Chaque cellule contient une valeur et un lien vers la cellule suivante\n",
        "- Une liste peut être vide\n",
        "\n",
        "Une définition récursive d'une liste est :\n",
        "Une liste c'est :\n",
        "\n",
        "- soit une liste vide, notée ∆ ;\n",
        "- soit un couple (e, L), appelé cellule, avec :\n",
        "--  e l'étiquette de la cellule (la valeur stockée)\n",
        "-- L le reste de la liste"
      ]
    },
    {
      "cell_type": "markdown",
      "metadata": {
        "id": "u0tMCEJ5QOdX"
      },
      "source": [
        "On commence par implémenter une fonction qui permettra de génèrer une liste vide conformement à la définition du TAD."
      ]
    },
    {
      "cell_type": "code",
      "metadata": {
        "id": "V_F1Vr0svjni"
      },
      "source": [
        "def liste_vide():\n",
        "  \"\"\"\n",
        "  liste_vide: () -> Liste\n",
        "  produit la liste vide\n",
        "  \"\"\"\n",
        "  return []"
      ],
      "execution_count": null,
      "outputs": []
    },
    {
      "cell_type": "markdown",
      "metadata": {
        "id": "91RBq_HDQwBc"
      },
      "source": [
        "On écrit une fonction qui permet de créer une cellule, deuxième point de la définition du TAD"
      ]
    },
    {
      "cell_type": "code",
      "metadata": {
        "id": "KlLMhNh4RBn7"
      },
      "source": [
        "def cellule(e, l):\n",
        "    \"\"\"à partir d'une étiquette e et d'une liste l,\n",
        "    produit la liste (e,l)\n",
        "    \"\"\"\n",
        "    l=[e,l]\n",
        "    return l"
      ],
      "execution_count": null,
      "outputs": []
    },
    {
      "cell_type": "markdown",
      "metadata": {
        "id": "bDHPuknfUh25"
      },
      "source": [
        "On vient de définir ce qui correspondrait au constructeur d'un objet liste si on avait utilisé la POO. \n",
        "On va pouvoir définir 2 fonctions d'accession qui vont permettre de lire la valeur de l'étiquette d'une part, et d'obtenir le reste de la liste d'autre part."
      ]
    },
    {
      "cell_type": "code",
      "metadata": {
        "id": "1UdtTFWdVK3C"
      },
      "source": [
        "def etiquette(l):\n",
        "  \"\"\"\n",
        "  etiquette : Liste -> etiquette\n",
        "  renvoie la donnée présente (étiquette) de la liste\n",
        "  fournie en paramètre\n",
        "  \"\"\"\n",
        "  return l[0]\n",
        "\n",
        "def suite(l):\n",
        "  \"\"\"\n",
        "  suite : Liste -> Liste\n",
        "  renvoie la suite de la liste l passée en\n",
        "  paramètre de la fonction\n",
        "  \"\"\"\n",
        "  return l[1]"
      ],
      "execution_count": null,
      "outputs": []
    }
  ]
}