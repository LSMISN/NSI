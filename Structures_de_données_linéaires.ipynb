{
  "nbformat": 4,
  "nbformat_minor": 0,
  "metadata": {
    "colab": {
      "name": "Structures de données linéaires.ipynb",
      "provenance": [],
      "collapsed_sections": [],
      "authorship_tag": "ABX9TyMCb/NOmnG7JDQR0xLKXQ9o",
      "include_colab_link": true
    },
    "kernelspec": {
      "name": "python3",
      "display_name": "Python 3"
    }
  },
  "cells": [
    {
      "cell_type": "markdown",
      "metadata": {
        "id": "view-in-github",
        "colab_type": "text"
      },
      "source": [
        "<a href=\"https://colab.research.google.com/github/LSMISN/NSI/blob/master/Structures_de_donn%C3%A9es_lin%C3%A9aires.ipynb\" target=\"_parent\"><img src=\"https://colab.research.google.com/assets/colab-badge.svg\" alt=\"Open In Colab\"/></a>"
      ]
    },
    {
      "cell_type": "markdown",
      "metadata": {
        "id": "kGYgYfNYvtjR"
      },
      "source": [
        "# Introduction : notion de TAD\n",
        "\n",
        "Les algorithmes sont décrits pour traiter informatiquement des problèmes. Les données manipulées sont de nature très différentes suivant les domaines étudiés. On s'applique à créer des algorithmes \"génériques\" capables de traiter tous les types de données. Ces types de données ne font souvent pas partis des types de bases des langages de programmation. Cela permet de rendre indépendant la description de l'algorithme de son implémentation dans un langage particulier. On parle alors de TYPE ABSTRAIT de DONNÉE (TAD). On décrit la forme de la donnée, et les traitements que l'on peut faire dessus.\n",
        "\n",
        "Un type abstrait de données (aussi appelé TAD) consiste en :\n",
        "\n",
        "- un ensemble de valeurs possibles (aussi appelé type)\n",
        "\n",
        "- un ensemble d'opérations agissant sur ces valeurs (prédicats)\n",
        "\n",
        "- Il s'agit d'un exemple classique de composant modulaire.\n",
        "\n",
        "Dans cette partie du cours, nous nous intéresserons qu'aux structures de données abstraite linéaires que sont les listes, les piles et les files.\n",
        "\n",
        "En effet, ces TAD sont identiques dans leur structure, mais possèdent des comportements différents.\n",
        "\n",
        "Ces TAD sont très utilisés dans les algorithmes de tri, d'ordonnancement, de gestion mémoire (appels de fonctions) par exemple."
      ]
    },
    {
      "cell_type": "markdown",
      "metadata": {
        "id": "Tq2_AaWxAfMT"
      },
      "source": [
        "## Type de donnée abstrait LISTE\n",
        "\n",
        "![image.png](data:image/png;base64,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)\n",
        "\n",
        "- Une liste est caractérisée par un ensemble de **cellules**\n",
        "- Chaque cellule contient une valeur et un lien vers la cellule suivante\n",
        "- Une liste peut être vide\n",
        "\n",
        "Une définition récursive d'une liste est :\n",
        "Une liste c'est :\n",
        "\n",
        "- soit une liste vide, notée ∆ ;\n",
        "- soit un couple (e, L), appelé cellule, avec :\n",
        "--  e l'étiquette de la cellule (la valeur stockée)\n",
        "-- L le reste de la liste"
      ]
    },
    {
      "cell_type": "markdown",
      "metadata": {
        "id": "u0tMCEJ5QOdX"
      },
      "source": [
        "On commence par implémenter une fonction qui permettra de génèrer une liste vide conformement à la définition du TAD."
      ]
    },
    {
      "cell_type": "code",
      "metadata": {
        "id": "V_F1Vr0svjni"
      },
      "source": [
        "def liste_vide():\n",
        "  \"\"\"\n",
        "  liste_vide: () -> Liste\n",
        "  produit la liste vide\n",
        "  \"\"\"\n",
        "  return []"
      ],
      "execution_count": null,
      "outputs": []
    },
    {
      "cell_type": "markdown",
      "metadata": {
        "id": "91RBq_HDQwBc"
      },
      "source": [
        "On écrit une fonction qui permet de créer une cellule, deuxième point de la définition du TAD"
      ]
    },
    {
      "cell_type": "code",
      "metadata": {
        "id": "KlLMhNh4RBn7"
      },
      "source": [
        "def cellule(e, l):\n",
        "    \"\"\"à partir d'une étiquette e et d'une liste l,\n",
        "    produit la liste (e,l)\n",
        "    \"\"\"\n",
        "    l=[e,l]\n",
        "    return l"
      ],
      "execution_count": null,
      "outputs": []
    },
    {
      "cell_type": "markdown",
      "metadata": {
        "id": "bDHPuknfUh25"
      },
      "source": [
        "On vient de définir ce qui correspondrait au constructeur d'un objet liste si on avait utilisé la POO. \n",
        "On va pouvoir définir 2 fonctions d'accession qui vont permettre de lire la valeur de l'étiquette d'une part, et d'obtenir le reste de la liste d'autre part."
      ]
    },
    {
      "cell_type": "code",
      "metadata": {
        "id": "1UdtTFWdVK3C"
      },
      "source": [
        "def etiquette(l):\n",
        "  \"\"\"\n",
        "  etiquette : Liste -> etiquette\n",
        "  renvoie la donnée présente (étiquette) de la liste\n",
        "  fournie en paramètre\n",
        "  \"\"\"\n",
        "  return l[0]\n",
        "\n",
        "def suite(l):\n",
        "  \"\"\"\n",
        "  suite : Liste -> Liste\n",
        "  renvoie la suite de la liste l passée en\n",
        "  paramètre de la fonction\n",
        "  \"\"\"\n",
        "  return l[1]"
      ],
      "execution_count": null,
      "outputs": []
    },
    {
      "cell_type": "markdown",
      "metadata": {
        "id": "_VpAALbu_yxX"
      },
      "source": [
        "Notion de prédicat\n",
        "\n",
        "Le prédicat est une fonction qui réalise une action élémentaire sur le TAD.\n",
        "\n",
        "un prédicat utile est celui qui permet de savoir si une liste est vide, sa définition est :\n",
        "\n",
        "est_vide : Liste -> booléen\n",
        "\n",
        "Compléter le code de son implémentation"
      ]
    },
    {
      "cell_type": "code",
      "metadata": {
        "id": "7x0fLiZAFzB2"
      },
      "source": [
        "# Predicat\n",
        "def est_vide(liste):\n",
        "    \"\"\"\n",
        "    est_vide : Liste -> booléen\n",
        "    à partir d'une liste L, produit un booléen\n",
        "    indiquant si L est la liste vide\n",
        "    \"\"\"\n",
        "    return liste == liste_vide()"
      ],
      "execution_count": null,
      "outputs": []
    },
    {
      "cell_type": "markdown",
      "metadata": {
        "id": "AUIsVgY3H21E"
      },
      "source": [
        "exemples d'utilisation"
      ]
    },
    {
      "cell_type": "code",
      "metadata": {
        "id": "pa3Hj1H1IYaq",
        "outputId": "ff1c51cf-46e1-42db-a342-92ecd15b226a",
        "colab": {
          "base_uri": "https://localhost:8080/"
        }
      },
      "source": [
        "# on peut commencer par créer une variable l1 qui est la liste vide\n",
        "l1 = liste_vide()\n",
        "print(l1)\n",
        "# on peut également tester le prédicat\n",
        "print(est_vide(l1))"
      ],
      "execution_count": null,
      "outputs": [
        {
          "output_type": "stream",
          "text": [
            "[]\n",
            "True\n"
          ],
          "name": "stdout"
        }
      ]
    },
    {
      "cell_type": "code",
      "metadata": {
        "id": "2Rspx0hJKLx3",
        "outputId": "5318721a-f93e-41ea-a3ac-c34073dd0754",
        "colab": {
          "base_uri": "https://localhost:8080/"
        }
      },
      "source": [
        "# on peut créer une liste l2=[5]->[3]->[7]->[]\n",
        "l2 = cellule(5, cellule(3, cellule(7,liste_vide())))\n",
        "print(l2)"
      ],
      "execution_count": null,
      "outputs": [
        {
          "output_type": "stream",
          "text": [
            "[5, [3, [7, []]]]\n"
          ],
          "name": "stdout"
        }
      ]
    },
    {
      "cell_type": "markdown",
      "metadata": {
        "id": "3xkMWWFJOxVq"
      },
      "source": [
        "Implémentation sous forme objet\n",
        "\n",
        "On crée une classe cellule"
      ]
    },
    {
      "cell_type": "code",
      "metadata": {
        "id": "yQcd_W_OO6E3"
      },
      "source": [
        "class Cellule:\n",
        "  liste_vide = None\n",
        "\n",
        "  def __init__(self, etiquette, liste):\n",
        "    self._valeur = etiquette\n",
        "    self._suivant = liste\n",
        "  # accesseurs\n",
        "  def valeur(self):\n",
        "    return self._valeur\n",
        "  \n",
        "  def suite(self):\n",
        "    return self._suivant\n",
        "  # predicat\n",
        "  def est_vide(self):\n",
        "    return self is liste_vide"
      ],
      "execution_count": null,
      "outputs": []
    },
    {
      "cell_type": "markdown",
      "metadata": {
        "id": "_l12dDd8Podz"
      },
      "source": [
        "Exemples d'utilisation de la classe"
      ]
    },
    {
      "cell_type": "code",
      "metadata": {
        "id": "QlCeeNirPtDU",
        "outputId": "61cd4129-a7c2-4b32-f3ab-13574b14b3ea",
        "colab": {
          "base_uri": "https://localhost:8080/"
        }
      },
      "source": [
        "L1 = Cellule(3, Cellule.liste_vide)\n",
        "print(L1) # cette instruction ne renvoie que la référence de l'objet en mémoire\n",
        "print(L1.valeur())\n",
        "print(L1.est_vide())"
      ],
      "execution_count": null,
      "outputs": [
        {
          "output_type": "stream",
          "text": [
            "<__main__.Cellule object at 0x7f6ca4b16160>\n",
            "3\n",
            "False\n"
          ],
          "name": "stdout"
        }
      ]
    },
    {
      "cell_type": "markdown",
      "metadata": {
        "id": "bdnCVY4JRioT"
      },
      "source": [
        "Autres exemples"
      ]
    },
    {
      "cell_type": "code",
      "metadata": {
        "id": "ZUDaAN-CRoOp",
        "outputId": "c668f69f-5e45-42de-9ed0-c20031d8f284",
        "colab": {
          "base_uri": "https://localhost:8080/"
        }
      },
      "source": [
        "c1 = Cellule(9, Cellule.liste_vide) # c1 = [9]->[]\n",
        "c2 = Cellule(6, c1) # c2 = [6]-> c1, cela donne : c2 = [6]->[9]->[]\n",
        "L2 = Cellule(3, c2) # L2 = [3]-> c2, cela donne : L2 = [3]->[6]->[9]->[] \n",
        "print(L2.valeur()) # renvoie 3\n",
        "print(L2.suite().valeur()) # renvoie 6\n",
        "print(L2.suite().suite().est_vide()) # renvoie False\n"
      ],
      "execution_count": null,
      "outputs": [
        {
          "output_type": "stream",
          "text": [
            "3\n",
            "6\n",
            "False\n"
          ],
          "name": "stdout"
        }
      ]
    },
    {
      "cell_type": "markdown",
      "metadata": {
        "id": "JHB6yAbOWOlZ"
      },
      "source": [
        "A FAIRE PAR VOUS MÊME : \n",
        "\n",
        "En utilisant la classe cellule, écrire le code pour créer la liste [4]->[3]->[2]->[1]"
      ]
    },
    {
      "cell_type": "code",
      "metadata": {
        "id": "Lh6Bbbvgybam"
      },
      "source": [
        "# créer la liste [4]->[3]->[2]->[1]->[]\n",
        "\n",
        "c1 = Cellule(1, Cellule.liste_vide) # c1 = [1]->[]\n",
        "c2 = Cellule(2, c1) # c2 = [2]-> c1, cela donne : c2 = [2]->[1]->[]\n",
        "c3 = Cellule(3, c2) # c3 = [3]-> c2, cela donne : c3 = [3]->[2]->[1]->[]\n",
        "L3 = Cellule(4, c3) # L3 = [4]-> c3, cela donne : L3 = [4]->[3]->[2]->[1]->[] \n"
      ],
      "execution_count": null,
      "outputs": []
    },
    {
      "cell_type": "markdown",
      "metadata": {
        "id": "MvSRDEusofP3"
      },
      "source": [
        "## Les Piles et les Files\n",
        "\n",
        "- Les files et piles sont comme des sacs.\n",
        "\n",
        "- Une file est dite <span style=\"color:green;\">First-In First-Out (FIFO)</span> :\n",
        "On insère un élément par la queue de la file\n",
        "On prend un élément par le devant de la file\n",
        "- Une pile est dite <span style=\"color:green;\">Last-In First-Out (LIFO)</span> :\n",
        "On insère un élément sur le dessus de la pile\n",
        "On prend un élément sur le dessus de la pile\n",
        "\n",
        "### Type abstrait\n",
        "\n",
        "Ces types abstraits de données nous permettent de :\n",
        "- Savoir si la structure est vide\n",
        "- Récupérer un élément\n",
        "- Insérer un élément\n",
        "\n",
        "Dans la majorité des cas :\n",
        "- Empiler/Enfiler un élément se dit push\n",
        "- Dépiler/Défiler un élément se dit pop\n",
        "\n",
        "Attention : Le fait de récupérer un élément l'enlève de la pile/file. Il faudra donc le réinsérer si on souhaite le garder.\n",
        "\n",
        "### Vocabulaire\n",
        "\n",
        "![image.png](data:image/png;base64,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)\n",
        "\n",
        "- Une file pop un élément de la tête et push un élément dans la queue\n",
        "- Une pile pop et push les éléments sur le sommet de la pile uniquement\n",
        "\n",
        "### Exemple de plusieurs opérations Push sur une file et une pile\n",
        "\n",
        "On peut représenter une file/pile (nommée s) comme suit :\n",
        "\n",
        "![image.png](data:image/png;base64,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)\n",
        "\n",
        "Ces structures sont le résultat du code suivant :\n",
        "\n",
        "s.push(3)\n",
        "\n",
        "s.push(6)\n",
        "\n",
        "s.push(9)\n",
        "\n",
        "\n",
        "\n",
        "\n"
      ]
    },
    {
      "cell_type": "markdown",
      "metadata": {
        "id": "G9p5Jxeyrwv4"
      },
      "source": [
        "### Exemple de plusieurs opérations Pop sur une file et une pile\n",
        "\n",
        "![image.png](data:image/png;base64,iVBORw0KGgoAAAANSUhEUgAAAN0AAAD0CAYAAAAfZyPkAAAX6UlEQVR4Ae2dC5QU1ZnHARXBg+w5rsZXNlkVkqir2bjZF0TikiNBN2dd94CPCJENB9EguCAzKINIVERAECSIDE+NgAezkacYkTcOoCCKCMgryyAbZxgYmAFmYB7/PV/Vdmzmm+mqe6vpqq7+1zlNN1/fqlv399Vvbr26bjNwIgESyCiBZhmtjZWRAAmA0nEjIIEME6B0GQbO6kiA0nEbIIEME6B0GQbO6kiA0nEbIIEME6B0GQbO6kiA0nEbIIEME6B0GQbO6kiA0nEbIIEME6B0GQbO6kiA0nEbIIEME6B0GQbO6kiA0nEbIIEME6B0GQbO6kiA0nEbIIEME6B0GQbO6kiA0nEbIIEME6B0GQbO6kgge6Ur3QusngKsnPT16+AnzCgJRJ5A9kq35S1g8BXAa72B5eOAUf8IvPyvwImyyEPnCuY2geyWrqAdsOV3QF0t8MEs4LG/AD5dBFRVuL3f+J8AL94GiKB1NcDm+UDhve5rXGdgdi+gqjK3twC2PuME4iGdYNu2BOjfBvhgJrBqMvBCB+DTxcCyF4AhfwXsWun2iPlXu0JueN2VdMmzGYfOCnObQHZLN/RaV7IjB4DC+wDp+f53B/BqN2DqPcDRg0D5IWDYd4DJ/+5KN/Lvgd1rgarjwNhO7ks+cyKBDBHIbulkd3LEje4u5IQuwBerXZlk1/H1PsCJI5QuQxsSq/FPILulSxzTJbf3zClgXn9gwk+BQ9vdXm3It4AFw9yeTno9ObaT74Zf7x7fnalKXgI/k8A5JRA/6errgL0fuDJN7Q7IyZS5/YDD+13pnvi2u+s56WfA0zcC+zacU8BcOAk0JJC90lWUAvs3AvLecKqtAUr2uLubu9e4ZWrPuNI9dwuwfiYg8WJe12uIjv8/9wSyVzpTNgnpEidSTOfP1vLblwHP/C0w6FL3Nfhyt+c/fTJbW6TXW06kPfXdr9sobZ39n4BNG+WSk2wj8n6OptyR7hwBjPxiP1no7kZvlmuVte7lFLmE8tGbAOqB6hNAZRlQedi9vikx+QN18ihw6pgblxsOonzcW/ZHIO9q4Hd5bjrWFgL53wQ+nAvUVLttkfdEu+S4XyZ5T7RdOEjb5Zru0OuAotfctp8qB+rr3fJp+pfSpQlkZBfTUDo5tn3m+8Cip4HSfcCsXu7dPM//g3tZRWJyTCw9x7h/AcbeCsilmUUjgNOyYUZwaijdn3YC0p7f9nUlSpxwS7Tr/ZeA6krgv/OBYe2BgutcDnK2W6R7/BvAmFuBETcBz/4AkOWncaJ0aYQZyUU1lG7nCleo914EFg53Nyy5j/XwPmDUPwNvDwU+/4Nb5rVfuj3c758ARv0TsK8oY02sqanBzp07/dXXULody4GnbwCWPte0dPLHR8pM+Q9g5W9cFkeK/1+6y92bKmQXU6QsmuVvPXyWiq109fX1KCoqwqFDh3yiiGkxkU7+0k/sCsz9FfDij4HJd7m92cxfuPerym1zsnslNxTIjQWy6yk9nfQIsksqu6ZypleW5WMS5sJecmA7lZeX4+GHH/Y3u0j3+BVurzTvUWCstPHfAOnxpOdqrKeTXk2E69cKGN8ZWDTc3dWU8k/8NSB3LCX3jP7WxFep2Eq3a9cudOvWDSNGjEB1dbUvGLEsJKI89T1g8Qhg1wr3rK30bLLRyQ0EciOB3JGTJumEtTAX9pID2+nw4cO47bbb/M0u0g2+0r0r6YtVgLykjXL5qCnp5DspI7cPyt1KAy5O3TP6WxNfpWIr3bRp03DhhReiTZs2KCvL4V8eNNy9TGwW0gutmAgUtAeKtwLysyind5sA7Fnnfn7u79w7eqb/3L3r58ttibmbfBfWF198scO+sLCwyXJeXxhLl3wiJXnhf/zQPTGy+hVgzavAwL90e/CDnwIjfwism+7elzusHSC73E1JmrzMgJ9jKd3+/ftx55134rzzzsMFF1yAgQMHBsSUxbPLJYPRP3J3DWVXseEkJ0jyrnRf8lmmxG6V7H7Kmc5f3+z7FPqgQYMc5sL+jjvugOTCZjKSTi4ZyEmPxPonVyiXDeTygVxGkJvgRS6RT85kioh5V7nfvXS7e/Y2+ZKBCCvHslI+jVPspKurq8P8+fNx/vnno1mzZs6rZcuWOHjwYBqxxXxRCenkmM5gEsbCOsFdciC5kJyYTkbSmS485PKxk+748ePo1KkTWrdu7Ygnu5itWrVCjx49QkadRdXLmb0lz7i7XQar3bNnT4e1MBfhJAe33norJCemE6UzJRZi+Y0bN+Kaa65BQUEBOnfujPz8fPTt2xdXX301Dhw4EOKaxbvq4uJih7GwFubCXnIgudiwwfz+VkqXRduLJGvz5s2oqKjAo48+ilWrVqG0tNRJvMQ4nRsCwlYuEwhrYS7sJSa5kJjpROlMiUWkfEK6iKxOzqxGQrogDaZ0QeiFOC+lCwc+pUvNPXYnUpKbS+mSaWTuM6VLzZrSpebDby0IULrU0Chdaj781oIApUsNjdKl5sNvLQhQutTQKF1qPvzWggClSw2N0qXmw28tCFC61NAoXWo+/NaCAKVLDY3SpebDby0IULrU0Chdaj781oIApUsNjdKl5sNvLQhQutTQKF1qPvzWggClSw2N0qXmw28tCFC61NAoXWo+/NaCAKVLDY3SpebDby0IULrU0Chdaj781oIApUsNjdKl5sNvLQhQutTQKF1qPvzWggClSw2N0qXmw28tCNhKt3v3bnTo0AFjxoyBfO7YsaPzbJsuXbrg5ZdfxpkzZyzWJnqzULro5STr18hWOmm4PMZPnsrdtm1b5zF+8rToq666Cps2bcp6LokGULoECb6njUAQ6T766CNcdtllf35grTwpesCAATh69Gja1i/sBVG6sDMQw/qDSCc4HnzwQeeR+M2bN0e7du2wdOnSWFGidLFKZzQaE1Q6eTy7PCW6RYsW6N27t/P8zGi0LD1rQenSw5FLSSIQVDpZ1ODBg3Httddi8eLFSUuOx8fISnfs2DHIA0eDvOSv5IIFCwItQ+qvqqqKR7bT1IojR46kZCrMhX2Q3O3ZswdDhw7FV199lXI52XhGM7LSyYCAcspY3sN8tW/fHpMmTUrT5hqPxVx66aWh5iSxPcj4FNKrZtsUaenkL2XYkwhH6c7OgkgXhSlbHyZM6Ty2HkqnAVE6zcQkQuk8aFE6DYjSaSYmEUrnQYvSaUCUTjMxiVA6D1qUTgOidJqJSYTSedCidBoQpdNMTCKUzoMWpdOAKJ1mYhKhdB60KJ0GROk0E5MIpfOgRek0IEqnmZhEKJ0HLUqnAVE6zcQkQuk8aFE6DYjSaSYmEUrnQYvSaUCUTjMxicRSuoqKCucnISLMhg0bUFtba8LkrLKU7iwczn+CSFdeXo6FCxc697MWFRXphRtEeO+lASw/ReVOcpsbnkUwSebo0aMxbtw45OXlYfv27X6qbLQMpdNYbKU7deoU3nzzTQwcONB5+JDk5uOPP9YV+IxQOp+g/Bazla6+vh5lZWWQ33yJgJMnT3YS7bfehuUoXUMigK10paWlzlO93n//fdTU1Dh7IyNGjLB+yhel07kJFLGVLrnSkydPOr9Afvfdd5PDRp8pncZlK538IPWVV17Bhx9+6CxUnvB1zz334Pjx47oSHxFK5wOSSZGg0u3duxfdunVzknrgwAFID2gzUTpNzVY6kWvs2LHOrmVxcbHzTuk039AiQaVLrPiaNWvQp08fnDhxIhEyeqd0GpetdLKknTt34pFHHnF+eT5y5Eg8+eST3L3UiMOJ2Eonx3Gff/45pHeTaeXKlXjooYcgu5o2E6XT1GylO336NHbs2AHp5aqrq/H8889jzpw5ugKfEe5e+gTlt1gQ6datW+f8BZWkyJmyIM/RoHQ6Y0GkW7ZsmfPwWNn7KCgocB48pGvwF6F0/jj5LmUrnVQgT+/atm2bI9tnn31mvfsiy6J0OmW20smS5Brqli1bnNwcOnRIL9wgQukMYPkpGkQ6P8v3W4bSaVJBpNNLs49QOnt2jc5J6RrFEokgpQuWhljeBhYMydlzs6c7m4f8j9JpJiYRSudBi9JpQJROMzGJUDoPWpROA6J0molJhNJ50KJ0GhCl00xMIpTOgxal04AonWZiEqF0HrQonQZE6TQTkwil86BF6TQgSqeZmEQonQctSqcBUTrNxCRC6TxoUToNiNJpJiYRSudBi9JpQJROMzGJRFq6Sy65xLn7QZIc1qtNmzYcFLLBFhVWLhrW26pVq0C/IGnQrIz9N9LS2TyYKN3k2NNporLxR2HiDc9pzgJveE4z0DQujtIFg8mezoMfezoNiNJpJiYRSudBi9JpQJROMzGJUDoPWpROA6J0molJhNJ50KJ0GhCl00xMIpTOgxal04AonWZiEqF0HrQonQZE6TQTkwil86BF6TQgSqeZmEQonQctSqcBUTrNxCRC6TxoUToNiNJpJiYRSudBi9JpQJROMzGJxFI6GaFHBiCUMepk5M+6ujoTJmeVpXRn4XD+E0Q6yY0M5iJjCB47dsx6NCVZEd57qXMTKBLk3suSkhJnSKauXbvi3nvvxcaNG63XhdJpdLbSiXD79u3DU089hdtvvx09evRwBnvRNfiLUDp/nHyXspVORu2RkT5lBFYZD23Xrl3goJC+sfsqaCud7H3MmzfPGRlXPsvQx5Ir24nS2ZJrYj5b6WQ4Jkns+PHjnb+oY8aMcXYzm6jGM8yeTiOylU52KWfPno0JEyYgPz8fEydOtB7CTNaK0uncBIrYSifjno0bNw4yiPx7773njIE2depU63WhdBqdrXQy/LHsWsq4dNLDyYCQb7zxhq7AZ4TS+QTlt1gQ6QoLC7Fo0SLnIH3r1q3o3r27c0LFb93J5ShdMg33cxDphGdRUZGTm/Xr1+O+++5zhs/StXhHKJ03I6MSttLV1NTg7bffxuuvv+6MSydjocnY43IW02aidJqarXRyjD1z5kznGFuOvdeuXUvpNN7wIrbSyRkyGQjypZdewpIlS5zRPqdNm2bdEEqn0dlKJ38QZTjqKVOm4J133kH//v0xd+5cXYHPCHs6n6D8FrOVTpYvJ1NkyOMhQ4bg1VdfRWVlpd9qVTlKp5AEGipLxn5fsGABBg0a9Oe9EV2Dvwil88fJd6kg0vmuxEdBSqch2fZ0eknBIpQuGD81N6VTSCIToHTBUhHL28CCITl7bvZ0Z/OQ/1E6zcQkQuk8aFE6DYjSaSYmEUrnQYvSaUCUTjMxiVA6D1qUTgOidJqJSYTSedCidBoQpdNMTCKUzoMWpdOAKJ1mYhKhdB60KJ0GROk0E5MIpfOgRek0IEqnmZhEKJ0HLUqnAVE6zcQkQuk8aFE6DYjSaSYmkUhL17t3b+fXwXKPXVivTp06cSTWBluUSBdWPpLrvemmmzgSa4PcBPqv3Hspd6PLrwXCfD322GOUrkEmRbowc5Ko++6776Z0DXIT6L+84TkQvnM6M3cvg+GN9O4lxxwPltxzNTelC0aW0nnw44kUDYjSaSYmEUrnQYvSaUCUTjMxiVA6D1qUTgOidJqJSYTSedCidBoQpdNMTCKUzoMWpdOAKJ1mYhKhdB60KJ0GROk0E5MIpfOgRek0IEqnmZhEKJ0HLUqnAVE6zcQkQuk8aFE6DYjSaSYmEUrnQYvSaUCUTjMxicRSutLSUvTr1895PuOAAQOcoZBNoCSXpXTJNNzPQaSTgSC7dOni5GbWrFl64QYR+cWB3PycbVPspDtz5owzMkxBQQHk3k0ZgFAGEJGBRWwmSqep2Uono/bIiEoiXkVFhTNijwybZTtROltyTcxn+ysDGRRSJFu2bJmzZBnBp2/fvs7g8k1UlTJM6TQeW+mSlyQj+AwfPtwZRzA5bvKZ0pnQ8lHWVjoZsWfGjBmYPn06REAZmumuu+6yHgKZ0ulkBZWupKTEyc/999+PvXv36gp8RiidT1B+i9lKV1dXBxnhs2fPnujTpw+GDRvmfLYdLovS6YylQ7o5c+Zg7NixmD9/PqTXs5konQ21FPPYSieLrKqqwrZt25yDbBnTWnZjREabidJpakGlSyxxzZo1eOCBB6zHD6R0CZJpereVTv5qLl682PkLKgfu+fn5zqiftqtF6TQ5W+nkrLIMfywnUmSaOHEiRo0aZX2Si9Lp3ASK2EonlRYXF0OOF2TjGDlypHNsZ7sylE6Ts5VOlpR8yUAu68heie1E6WzJNTFfEOmaWKRVmNJpbEGk00uzj1A6e3aNzknpGsUSiSClC5aG2F0cD4ZDz82eTjOhdJqJSYTSedCidBoQpdNMTCKUzoMWpdOAKJ1mYhKhdB60KJ0GROk0E5MIpfOgRek0IEqnmZhEKJ0HLUqnAVE6zcQkQuk8aFE6DYjSaSYmEUrnQYvSaUCUTjMxiVA6D1qUTgOidJqJSYTSedCidBoQpdNMTCKRlo6DQpqkMnNlRbrEwIxhvnNQyDTnXJ5tIje02r5k6OTOnTs7P2C1XUZiPvndF6evCQwZMsQ6Lwmm6XrfvXv31yuWJZ8i29MF5bdp0yZ0797deVaK7Q9Yg64D5yeBxgjEUrpTp045jwJo27Ytunbt6jx5qrHGM0YCYRCIpXTyBLCbb74ZzZs3R5s2bbB27dow2LJOEmiUQOykk+deTpkyBRdddBGaNWvmvG655Rbrh980So1BEghAIHbSffnll7jhhhvQsmVLtG7dGi1atHDe5SGnnEggCgRiJ508+Ob6669Hr169nMd3y6P4OnTogI4dOwZ6vHoUksV1iAeB2Em3fPlyLF26FDt27EBeXh62bt2KzZs3Q56zKCdYOJFA2ARiJ11tba3DVHYzE9KFDZn1k0AygdhJl2gcpUuQ4HvUCFC6qGWE6xN7ApQu9ilmA6NGgNJFLSNcn9gToHSxTzEbGDUClC5qGeH6xJ4ApYt9itnAqBGgdFHLCNcn9gQoXexTzAZGjQCli1pGuD6xJ0DpYp9iNjBqBChd1DLC9Yk9AUoX+xSzgVEjQOmilhGuT+wJULrYp5gNjBoBShe1jHB9Yk+A0sU+xWxg1AhQuqhlhOsTewKULvYpZgOjRoDSRS0jXJ/YE6B0sU8xGxg1ApQuahnh+sSeAKWLfYrZwKgRoHRRywjXJ/YEKF3sU8wGRo1AbKWrrKzE6tWrUVJSEjXmXJ8cJxBb6XI8r2x+hAlQuggnh6sWTwKULp55ZasiTIDSRTg5XLV4Esgu6dbPAIa1AwZd6r6e+Dbw7migptosO6dPAnP7AS/+GDh1zGxeliaBgASyS7pVk4Gh1wEHtriivT0UeOb7wK5VQFUFcLIcqK9zvzt5FKg57eKR7yoPAyfKABGu+gQw8xfAr28GDu8HKsuA6kqgvj4gTs5OAt4Eslc6EWTnCle6lZOA6T93P4tAm98Cnr4R+GShK9r4nwDDvwuM+BtgXn+g7H9c6Z74FjChCzD8e8CMnkD5IW9iLEECAQlkr3R1NcAHs1zRNvwWmNGjcem2LQH6twFm9wI+mAn8YQxw8FNXuv+6BNi/EVhbCDz7A2DH8oA4OTsJeBPIPunyrgQK7wHmPAyM7gjM+RVQsseVSHY1G/Z0f9oFDL8eeOQC4Dc/A1ZMBEr3uuWHfcft3ZJ7Rm9mLEECgQhkn3Ry8mTtVOCLVcCe9UD5l+5xmhyjNSZdXS1QvBXYvgwY2wkYfAWw4mVg2n2Nlw+EkzOTgDeB7JMucSLlrLbVA289DuR/E/jqC+D3TwIipxzTrZsGDGsP7F4DbFvqHtdJb9fUMeBZy+V/SCD9BLJLOrlkMPKH7jFZQxbSm8nJk8GXAy90AEb/yO3dpNxrvd1LDI9/A5j9S6Bk99eXDE4cceVMLt9w2fw/CaSRQHZJl8aGc1EkEBYBShcWedabswQoXc6mng0PiwClC4s8681ZApQuZ1PPhodFgNKFRZ715iwBSpezqWfDwyJA6cIiz3pzlgCly9nUs+FhEaB0YZFnvTlLgNLlbOrZ8LAIULqwyLPenCVA6XI29Wx4WAQoXVjkWW/OEqB0OZt6NjwsApQuLPKsN2cJULqcTT0bHhYBShcWedabswQoXc6mng0PiwClC4s8681ZApQuZ1PPhodFgNKFRZ715iwBSpezqWfDwyJA6cIiz3pzlgCly9nUs+FhEaB0YZFnvTlLgNLlbOrZ8LAI/B/DFsoJFRYI7QAAAABJRU5ErkJggg==)\n",
        "\n",
        "file.pop() -> 3\n",
        "pile.pop() -> 9\n"
      ]
    },
    {
      "cell_type": "markdown",
      "metadata": {
        "id": "YcEyffzZrwlw"
      },
      "source": [
        "### FILES\n",
        "Les files sont largement utilisées lorsque l'on veut modéliser une file d'attente.\n",
        "\n",
        "Par exemple :\n",
        "- Les impressions sont gérées par une file.\n",
        "- Dans une simulation de guichet, on modélisera généralement l'arrivée des clients par une file."
      ]
    },
    {
      "cell_type": "markdown",
      "metadata": {
        "id": "V7N80cyB4PBs"
      },
      "source": [
        "### TAD FILE\n",
        "\n",
        "Le constructeur sera :\n",
        "- file_vide() renvoie la file_vide\n",
        "- file(valeur, file f) renvoie une file\n",
        "\n",
        "Des fonctions : \n",
        "\n",
        "- push(valeur, file f) renvoie une file en ajoutant la valeur dans la file f \n",
        "- pop(file f) renvoie l'élément en tête de la file f et la nouvelle file sans l'élément.\n",
        "\n",
        "Prédicat :\n",
        "- est_vide(file f) renvoie un booléen indiquant si la file f est vide ou pas."
      ]
    },
    {
      "cell_type": "markdown",
      "metadata": {
        "id": "K0EXtZMdKKDQ"
      },
      "source": [
        "Voici une première implémentation en utilisant les fonctions intégrées des lists Python pop() et append().\n",
        "\n",
        "Remarque: on a inséré des assertions en fin de code pour tester les fonctions."
      ]
    },
    {
      "cell_type": "code",
      "metadata": {
        "id": "Axv66X4ktk3f"
      },
      "source": [
        "\"\"\" Implémentation fonctionnelle utilisant les fonctions\n",
        "Python pop et append \"\"\"\n",
        "\n",
        "# constructeur\n",
        "def file_vide():\n",
        "  \"\"\" renvoie la file vide \"\"\"\n",
        "  return []\n",
        "\n",
        "# les fonctions\n",
        "def push(valeur, file):\n",
        "  \"\"\"\n",
        "  renvoie une file qui est la file\n",
        "  passée en argument dans laquelle\n",
        "  on a enfilé la valeur\n",
        "  \"\"\"\n",
        "  if est_vide(file):\n",
        "    return file_vide().append(valeur)\n",
        "  file.append(valeur)\n",
        "  return file\n",
        "\n",
        "def pop(file):\n",
        "  \"\"\"\n",
        "  renvoie la valeur présente en tête\n",
        "  de file et le reste de la file sans\n",
        "  cette valeur.\n",
        "  \"\"\"\n",
        "  val = file.pop(0)\n",
        "  return (val, file)\n",
        "\n",
        "# predicat\n",
        "def est_vide(file):\n",
        "  \"\"\"\n",
        "  renvoie un booléen qui indique\n",
        "  si la file passée en argument\n",
        "  est vide ou pas\n",
        "  \"\"\"\n",
        "  return file is file_vide()\n",
        "\n",
        "# Test de nos fonctions sous forme d'assertion\n",
        "L1 = file_vide() # L1 : []\n",
        "assert L1 == []\n",
        "assert push(3, L1) == [3] # L1 : [3]\n",
        "assert est_vide(L1) == False\n",
        "assert push(2, L1) == [3,2] # L1 : [3,2]\n",
        "assert push(4,L1)  == [3, 2, 4] # L1 : [3, 2, 4]\n",
        "assert push(1, L1) == [3, 2, 4, 1] # L1: [3, 2, 4, 1]\n",
        "assert pop(L1) == (3, [2, 4, 1])\n",
        "\n",
        "for i in range(10, 40, 10):\n",
        "  push(i, L1)\n",
        "assert L1 == [2, 4, 1, 10, 20, 30]"
      ],
      "execution_count": null,
      "outputs": []
    },
    {
      "cell_type": "markdown",
      "metadata": {
        "id": "0JtSKdHqudHa"
      },
      "source": [
        "Dans l'implémentation qui suit on utilise la récursivité. La structure résultante est une list de list imbriquée. Elle reste cependant conforme au TAD File."
      ]
    },
    {
      "cell_type": "code",
      "metadata": {
        "id": "rh8GRaMp72-d"
      },
      "source": [
        "\"\"\" Implémentation fonctionnelle récursive \"\"\"\n",
        "\n",
        "# constructeur\n",
        "def file_vide():\n",
        "  \"\"\" renvoie la file vide \"\"\"\n",
        "  return []\n",
        "\n",
        "def file(valeur, file):\n",
        "  \"\"\"\n",
        "  renvoie une file correspondant à la \n",
        "  file passée en argument à laquelle\n",
        "  on a rajouté la valeur.\n",
        "  \"\"\"\n",
        "  return [valeur, file]\n",
        "\n",
        "# les fonctions\n",
        "def push(valeur, file):\n",
        "  \"\"\"\n",
        "  renvoie une file qui est la file\n",
        "  passée en argument dans laquelle\n",
        "  on a enfilé la valeur\n",
        "  \"\"\"\n",
        "  if est_vide(file):\n",
        "    return [valeur, file_vide()]\n",
        "  return [file[0], push(valeur, file[1])]\n",
        "\n",
        "def pop(file):\n",
        "  \"\"\"\n",
        "  renvoie la valeur présente en tête\n",
        "  de file et le reste de la file sans\n",
        "  cette valeur.\n",
        "  \"\"\"\n",
        "  return (file[0], file[1])\n",
        "# predicat\n",
        "def est_vide(file):\n",
        "  \"\"\"\n",
        "  renvoie un booléen qui indique\n",
        "  si la file passée en argument\n",
        "  est vide ou pas\n",
        "  \"\"\"\n",
        "  return file == file_vide()"
      ],
      "execution_count": null,
      "outputs": []
    },
    {
      "cell_type": "markdown",
      "metadata": {
        "id": "tVd_5vKeGKiA"
      },
      "source": [
        "Exemples d'application de l'implémentation"
      ]
    },
    {
      "cell_type": "code",
      "metadata": {
        "id": "e54-QlP5m8dF",
        "outputId": "004a8ee9-ff35-4292-e91a-20a93f7b9ae5",
        "colab": {
          "base_uri": "https://localhost:8080/"
        }
      },
      "source": [
        "F1 = file_vide()\n",
        "F1 = push(3,F1)\n",
        "print(F1) # [3,[]]\n",
        "\n",
        "F1 = push(6, F1)\n",
        "print(F1) # [3,[6, []]]\n",
        "\n",
        "resultat = pop(push(9,F1))\n",
        "print(resultat)"
      ],
      "execution_count": null,
      "outputs": [
        {
          "output_type": "stream",
          "text": [
            "[3, []]\n",
            "[3, [6, []]]\n",
            "(3, [6, [9, []]])\n"
          ],
          "name": "stdout"
        }
      ]
    },
    {
      "cell_type": "markdown",
      "metadata": {
        "id": "GluiC0aPr88t"
      },
      "source": [
        "### Implémentation objet"
      ]
    },
    {
      "cell_type": "code",
      "metadata": {
        "id": "OoMGYOncqQwD"
      },
      "source": [
        "class File:\n",
        "  file_vide = None\n",
        "  \n",
        "  def __init__(self, valeur, file):\n",
        "    self._valeur = valeur\n",
        "    self._suite = file\n",
        "  \n",
        "  def push(self,valeur):\n",
        "    if File.est_vide(self._suite):\n",
        "      self._suite = File(valeur, File.file_vide)\n",
        "    else:\n",
        "      self._suite.push(valeur)\n",
        "    return self\n",
        "  \n",
        "  def pop(self):\n",
        "    return (self._valeur, self._suite)\n",
        "  \n",
        "  def est_vide(file):\n",
        "    return file is File.file_vide"
      ],
      "execution_count": null,
      "outputs": []
    },
    {
      "cell_type": "markdown",
      "metadata": {
        "id": "oyLTSPi3rDgx"
      },
      "source": [
        "### exemple d'utilisation"
      ]
    },
    {
      "cell_type": "code",
      "metadata": {
        "id": "I-qZrtEFrECc",
        "outputId": "9335f886-fc87-4c2f-a359-ded222a0f8de",
        "colab": {
          "base_uri": "https://localhost:8080/"
        }
      },
      "source": [
        "F1 = File(3, File.file_vide)\n",
        "print(F1.pop())\n",
        "\n",
        "F2 = File(3, File.file_vide)\n",
        "F2.push(6).push(9)\n",
        "# F2: <--[2]<--[6]<--[9]<--\n",
        "(val, F2) = F2.pop()\n",
        "F3 = File(val, File.file_vide)\n",
        "while not File.est_vide(F2):\n",
        "  (val, F2) = F2.pop()\n",
        "  F3.push(val)\n",
        "# F3: <--[3]<--[6]<--[9]<--"
      ],
      "execution_count": null,
      "outputs": [
        {
          "output_type": "stream",
          "text": [
            "(3, None)\n"
          ],
          "name": "stdout"
        }
      ]
    },
    {
      "cell_type": "markdown",
      "metadata": {
        "id": "HqsJ6z9hQbtl"
      },
      "source": [
        "### PILES\n",
        "\n",
        "Les piles sont omniprésentes en informatique :\n",
        "\n",
        "Par exemple :\n",
        "\n",
        "- L'annulation de commande (CTRL-Z) est gérée par une pile.\n",
        "- Vérifier si une expression est bien parenthésée nécessite une pile.\n",
        "- Évaluer une expression arithmétique peut être fait avec une pile.\n",
        "\n",
        "## TAD Pile\n",
        "\n",
        "Le constructeur sera :\n",
        "- pile_vide() renvoie la pile_vide\n",
        "- pile(valeur, pile p) renvoie la pile p avec valeur au sommet\n",
        "\n",
        "Des fonctions : \n",
        "\n",
        "- push(valeur, pile p) ajoute une valeur à la pile p\n",
        "- pop(pile p) renvoie l'élément au sommet de p et p sans l'élément extrait.\n",
        "\n",
        "Prédicat :\n",
        "- est_vide(pile p) renvoie un booléen indiquant si la pile p est vide ou pas.\n"
      ]
    },
    {
      "cell_type": "markdown",
      "metadata": {
        "id": "5pmrQiEtSmmH"
      },
      "source": [
        "Voici une première implémentation en utilisant les fonctions intégrées des lists Python pop() et append().\n",
        "\n",
        "Remarque: on a inséré des assertions en fin de code pour tester les fonctions."
      ]
    },
    {
      "cell_type": "code",
      "metadata": {
        "id": "i1lBIzzISrTd"
      },
      "source": [
        "\"\"\" Implémentation fonctionnelle utilisant les fonctions\n",
        "Python pop et append \"\"\"\n",
        "\n",
        "# constructeur\n",
        "def pile_vide():\n",
        "  \"\"\" renvoie la pile vide \"\"\"\n",
        "  return []\n",
        "\n",
        "# les fonctions\n",
        "def push(valeur, pile):\n",
        "  \"\"\"\n",
        "  renvoie une pile qui est la pile\n",
        "  passée en argument dans laquelle\n",
        "  on a empilé la valeur\n",
        "  \"\"\"\n",
        "  if est_vide(pile):\n",
        "    return pile_vide().append(valeur)\n",
        "  pile.append(valeur)\n",
        "  return pile\n",
        "\n",
        "def pop(pile):\n",
        "  \"\"\"\n",
        "  renvoie la valeur au sommet\n",
        "  de pile et le reste de la pile sans\n",
        "  cette valeur.\n",
        "  \"\"\"\n",
        "  val = pile.pop()\n",
        "  return (val, pile)\n",
        "\n",
        "# predicat\n",
        "def est_vide(pile):\n",
        "  \"\"\"\n",
        "  renvoie un booléen qui indique\n",
        "  si la file passée en argument\n",
        "  est vide ou pas\n",
        "  \"\"\"\n",
        "  return pile is pile_vide()\n",
        "\n",
        "# Test de nos fonctions sous forme d'assertion\n",
        "P1 = pile_vide() # P1 : []\n",
        "assert P1 == []\n",
        "assert push(3, P1) == [3] # P1 : [3]\n",
        "assert est_vide(P1) == False\n",
        "assert push(2, P1) == [3,2] # P1 : [3,2]\n",
        "assert push(4,P1)  == [3, 2, 4] # P1 : [3, 2, 4]\n",
        "assert push(1, P1) == [3, 2, 4, 1] # P1: [3, 2, 4, 1]\n",
        "assert pop(P1) == (1, [3, 2, 4])\n",
        "\n",
        "for i in range(10, 40, 10):\n",
        "  push(i, P1)\n",
        "assert P1 == [3, 2, 4, 10, 20, 30]"
      ],
      "execution_count": null,
      "outputs": []
    },
    {
      "cell_type": "markdown",
      "metadata": {
        "id": "gdF__S1VUs8j"
      },
      "source": [
        "Dans l'implémentation qui suit on utilise la récursivité. La structure résultante est une list de list imbriquée. Elle reste cependant conforme au TAD File."
      ]
    },
    {
      "cell_type": "code",
      "metadata": {
        "id": "mJlu6K0GUwRr"
      },
      "source": [
        "def pile_vide():\n",
        "  return []\n",
        "\n",
        "def pile(valeur, pile):\n",
        "  return [valeur, pile]\n",
        "\n",
        "# Fonctions on considère que le sommet est la première case\n",
        "def push(valeur, pile):\n",
        "  return[valeur, pile]\n",
        "\n",
        "def pop(pile):\n",
        "  return (pile[0], pile[1])\n",
        "\n",
        "# predicat\n",
        "def est_vide(pile):\n",
        "  return pile == pile_vide()\n"
      ],
      "execution_count": null,
      "outputs": []
    },
    {
      "cell_type": "markdown",
      "metadata": {
        "id": "57yZ7vc9mS_B"
      },
      "source": [
        "#### Exemple d'utilisation de cette implémentation"
      ]
    },
    {
      "cell_type": "code",
      "metadata": {
        "id": "PXnITs0PVqx6"
      },
      "source": [
        "P1 = pile_vide()\n",
        "P1 = push(3,P1)\n",
        "assert P1 == [3,[]]\n",
        "\n",
        "P1 = push(6,P1)\n",
        "assert P1 == [6, [3, []]]\n",
        "\n",
        "resultat = pop(push(9,P1))\n",
        "assert resultat == (9,[6, [3, []]])"
      ],
      "execution_count": null,
      "outputs": []
    },
    {
      "cell_type": "markdown",
      "metadata": {
        "id": "vgwpDYgCWWuN"
      },
      "source": [
        "#### implémentation objet"
      ]
    },
    {
      "cell_type": "code",
      "metadata": {
        "id": "7cKbrfNAWivS",
        "outputId": "ae986d8c-6b1e-4163-b368-afd6d06aabcc",
        "colab": {
          "base_uri": "https://localhost:8080/"
        }
      },
      "source": [
        "class Pile:\n",
        "  pile_vide = None\n",
        "\n",
        "  def __init__(self, valeur, pile):\n",
        "    self._valeur = valeur\n",
        "    self._suite = pile\n",
        "  \n",
        "  def push(self, valeur):\n",
        "    return Pile(valeur, self)\n",
        "  \n",
        "  def pop(self):\n",
        "    return (self._valeur, self._suite)\n",
        "  \n",
        "  def est_vide(pile):\n",
        "    return pile is Pile.pile_vide\n",
        "\n",
        "# application\n",
        "\n",
        "P1 = Pile(3, Pile.pile_vide)\n",
        "assert P1.pop() == (3, None)\n",
        "\n",
        "P2 = Pile(3, Pile.pile_vide)\n",
        "P2.push(6).push(9)"
      ],
      "execution_count": null,
      "outputs": [
        {
          "output_type": "execute_result",
          "data": {
            "text/plain": [
              "<__main__.Pile at 0x7fb44735e1d0>"
            ]
          },
          "metadata": {
            "tags": []
          },
          "execution_count": 12
        }
      ]
    },
    {
      "cell_type": "markdown",
      "metadata": {
        "id": "SubIwAZqiwXx"
      },
      "source": [
        "## Exercice : vérificateur syntaxique\n",
        "\n",
        "Implémenter en Python, en utilisant une pile, une fonction permettant de vérifier l’appariement de parenthèses ( [] , ()  ou {}) dans une chaîne de caractères."
      ]
    },
    {
      "cell_type": "markdown",
      "metadata": {
        "id": "AY9cdWb6mNGg"
      },
      "source": [
        "![image.png](data:image/png;base64,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)"
      ]
    },
    {
      "cell_type": "markdown",
      "metadata": {
        "id": "LpmgcFSejd5R"
      },
      "source": [
        "L'analyse de l'expression par la fonction de la chaine \"{ ( 5 * 4 ) / 2 }\" renvoie True alors \"{ ( ( 3 + 7 ) / 2 ) x 3 ] )}\" renvoie false \n"
      ]
    },
    {
      "cell_type": "code",
      "metadata": {
        "id": "h8Zoui0akT_Y"
      },
      "source": [
        "def syntaxeCorrecte(expression : str)->bool:\n",
        "  \"\"\"\n",
        "  balaye l'expression expression fournie sous forme d'une chaine de\n",
        "  caractères, et renvoie False si les parenthèses (), [], {} ne \n",
        "  sont pas refermées correctement.\n",
        "  On utilisera le TAD Pile implémenté dans un autre fichier pour \n",
        "  traiter l'expression\n",
        "  \"\"\"\n",
        "  pass\n",
        "\n",
        "# assertions de test\n",
        "assert syntaxeCorrecte(\"{([5*4])/2}\") == True\n",
        "assert syntaxeCorrecte(\"{((3+7)/2)x3])}\") == False"
      ],
      "execution_count": null,
      "outputs": []
    },
    {
      "cell_type": "markdown",
      "metadata": {
        "id": "-tJh7JFahGQ0"
      },
      "source": [
        "## Compléments\n",
        "\n",
        "- ### [Piles et Files en Python dans la documentation officielle paragraphes 5.1.1 et 5.1.2](https://docs.python.org/fr/3/tutorial/datastructures.html)\n",
        "\n",
        "- ### [Une fiche de synthèse du site pixees](https://pixees.fr/informatiquelycee/n_site/fiches/T/05_liste_pile_file.pdf)"
      ]
    }
  ]
}