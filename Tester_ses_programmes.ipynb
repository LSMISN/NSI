{
  "nbformat": 4,
  "nbformat_minor": 0,
  "metadata": {
    "colab": {
      "name": "Tester ses programmes.ipynb",
      "provenance": [],
      "collapsed_sections": [],
      "authorship_tag": "ABX9TyNIb/b3KPtM/i7IRSUow8Pv",
      "include_colab_link": true
    },
    "kernelspec": {
      "name": "python3",
      "display_name": "Python 3"
    }
  },
  "cells": [
    {
      "cell_type": "markdown",
      "metadata": {
        "id": "view-in-github",
        "colab_type": "text"
      },
      "source": [
        "<a href=\"https://colab.research.google.com/github/LSMISN/NSI/blob/master/Tester_ses_programmes.ipynb\" target=\"_parent\"><img src=\"https://colab.research.google.com/assets/colab-badge.svg\" alt=\"Open In Colab\"/></a>"
      ]
    },
    {
      "cell_type": "markdown",
      "metadata": {
        "id": "PlFMFx73X7up",
        "colab_type": "text"
      },
      "source": [
        "# Introduction\n",
        "\n",
        "La plupart des projets informatiques mobilisent le travail en équipe, et nécessitent donc une coordination du développement.\n",
        "\n",
        "Le nombre de lignes de code, même sur de très petits projets, peut rapidement augmenter, et le nombre de bogues également.\n",
        "\n",
        "Pour éviter de passer des heures a repassé au peigne fin plusieurs milier de lignes de code en fin de développement, il est préférable de mettre en place une stratégie qui permet de traiter les erreurs dans le flux de développement, et de les corriger en conséquence.\n",
        "\n",
        "La méthode TDD (Test-Driven Development ou Développement Pilotés par les Tests) est une méthode du génie logiciel qui apporte une solution à ce problème.\n",
        "\n",
        "[page wikipedia Test Driven Development](https://fr.wikipedia.org/wiki/Test_driven_development)\n",
        "\n",
        "Dans les grandes lignes, cette méthode consiste à **écrire les tests de code permettant de valider les fonctions avant d'écrire le code de ces dernières**. Ainsi, le cahier des charges est intégré au sein des tests, et la fonction ne pourra être validée que si elle ne les valide pas.\n",
        "\n",
        "La méthode TDD est si elle est appliquée strictement un peu complexe pour nous besoin, nous en garderons dans ce cours que les idées principales :\n",
        "- consolider la validité du code en intégrant des tests dans les fonctions lorsque cela est possible,\n",
        "- documenter le code afin d'améliorer la lisibilité et réutilisabilité de cette partie du code (refactoring)\n",
        "\n",
        "# Solution 1 : les assertions\n",
        "\n",
        "Python prévoit un mécanisme qui permet de \"lever une exception\" (arrêter l'exécution du code), lorsqu'un test n'est pas valide. On utilise le mot clé **assert**\n",
        "\n",
        "On veut tester une assertion : cette assertions est vraie ou fausse.\n",
        "\n",
        "La syntaxe est la suivante :\n",
        "\n",
        "```\n",
        "assert untest\n",
        "```\n",
        "\n",
        "Par exemple\n",
        "\n",
        "```\n",
        "assert 0 == 0\n",
        "```\n",
        "ne provoquera pas d'exception, alors que\n",
        "```\n",
        "assert 5 == 3\n",
        "```\n",
        "le fera.\n",
        "\n",
        "Exercice : essayez dans une cellule de code les assertions ci-dessus et observez les résultats d'exécution.\n"
      ]
    },
    {
      "cell_type": "code",
      "metadata": {
        "id": "cprRtucygrqY",
        "colab_type": "code",
        "colab": {}
      },
      "source": [
        "# test assertions"
      ],
      "execution_count": 0,
      "outputs": []
    },
    {
      "cell_type": "markdown",
      "metadata": {
        "id": "AIr4qNaNgxui",
        "colab_type": "text"
      },
      "source": [
        "Prenons un exemple ave une fonction qui renvoie les n premiers termes de la suite de Fibonacci\n",
        "\n",
        "![Leonardo Fibonacci](https://upload.wikimedia.org/wikipedia/commons/thumb/3/35/Fibonacci2.jpg/210px-Fibonacci2.jpg?uselang=fr)\n",
        "\n"
      ]
    },
    {
      "cell_type": "code",
      "metadata": {
        "id": "thbIe91kheTf",
        "colab_type": "code",
        "colab": {}
      },
      "source": [
        "def fibonacci(n):\n",
        "  \"\"\"\n",
        "  calcule et renvoie la liste ordonnée des n premiers termes \n",
        "  de la suite de Fibonacci\n",
        "  \"\"\"\n",
        "  lst = []\n",
        "  return lst"
      ],
      "execution_count": 0,
      "outputs": []
    },
    {
      "cell_type": "markdown",
      "metadata": {
        "id": "MZ7gFfUch9jx",
        "colab_type": "text"
      },
      "source": [
        "Cette fonction devra valider un certain nombre de critère :\n",
        "-  La taille de la liste doit être égale à n+1,\n",
        "- différents résultats : 0, 1, 5 etc.,\n",
        "- les éléments de la liste sont des entiers,\n",
        "- la propriété de Fibonacci : $u_{n}$+$u_{n+1}$ = $u_{n+2}$,\n",
        "- la sortie dans les cas impossibles : paramètre négatif, paramètre non entier\n",
        "\n",
        "Pour cela, on écrit une fonction qui intègre la série de tests à effectuer sur la fonction."
      ]
    },
    {
      "cell_type": "code",
      "metadata": {
        "id": "F-is2BAfjdTd",
        "colab_type": "code",
        "colab": {}
      },
      "source": [
        "# Ecrire le corps de la fonction qui permet\n",
        "# de valider la liste des tests proposés ci-dessus\n",
        "# pour la fonction fibonacci(n)\n",
        "\n",
        "def tester_fibonacci():\n",
        "    \"\"\"\n",
        "    Teste certaines propriétés de la fonction fibonacci(n)\n",
        "    lève une exception AssertionError si la fonction est mal programmée\n",
        "    \"\"\"\n",
        "\n",
        "    # tester la longueur de la liste\n",
        "    fib_10 = fibonacci(10)  # On créer une liste de 10 termes par exemple\n",
        "    # la longueur de cette liste doit être de 11\n",
        "\n",
        "    # On teste les résultats de la fonction pour n=0, n=1, n=5\n",
        "\n",
        "    # On teste que les termes d'une suite sont des entiers\n",
        "\n",
        "    # On teste la propriété de récurrence\n",
        "\n",
        "    # On teste la valeur de retour dans les cas impossible"
      ],
      "execution_count": 0,
      "outputs": []
    },
    {
      "cell_type": "markdown",
      "metadata": {
        "id": "XEalft2zmCwB",
        "colab_type": "text"
      },
      "source": [
        "# Solution 2 : Doctest #\n",
        "\n"
      ]
    },
    {
      "cell_type": "code",
      "metadata": {
        "id": "UnqsAt8vsfaW",
        "colab_type": "code",
        "colab": {}
      },
      "source": [
        "import doctest"
      ],
      "execution_count": 0,
      "outputs": []
    }
  ]
}