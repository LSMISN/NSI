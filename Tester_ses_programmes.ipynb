{
  "nbformat": 4,
  "nbformat_minor": 0,
  "metadata": {
    "colab": {
      "name": "Tester ses programmes.ipynb",
      "provenance": [],
      "collapsed_sections": [],
      "authorship_tag": "ABX9TyNj0c4C4aFOz3kQS30SbsNs",
      "include_colab_link": true
    },
    "kernelspec": {
      "name": "python3",
      "display_name": "Python 3"
    }
  },
  "cells": [
    {
      "cell_type": "markdown",
      "metadata": {
        "id": "view-in-github",
        "colab_type": "text"
      },
      "source": [
        "<a href=\"https://colab.research.google.com/github/LSMISN/NSI/blob/master/Tester_ses_programmes.ipynb\" target=\"_parent\"><img src=\"https://colab.research.google.com/assets/colab-badge.svg\" alt=\"Open In Colab\"/></a>"
      ]
    },
    {
      "cell_type": "markdown",
      "metadata": {
        "id": "PlFMFx73X7up",
        "colab_type": "text"
      },
      "source": [
        "# Introduction\n",
        "\n",
        "La plupart des projets informatiques mobilisent le travail en équipe, et nécessitent donc une coordination du développement.\n",
        "\n",
        "Le nombre de lignes de code, même sur de très petits projets, peut rapidement augmenter, et le nombre de bogues également.\n",
        "\n",
        "Pour éviter de passer des heures a repassé au peigne fin plusieurs milier de lignes de code en fin de développement, il est préférable de mettre en place une stratégie qui permet de traiter les erreurs dans le flux de développement, et de les corriger en conséquence.\n",
        "\n",
        "La méthode TDD (Test-Driven Development ou Développement Pilotés par les Tests) est une méthode du génie logiciel qui apporte une solution à ce problème.\n",
        "\n",
        "[page wikipedia Test Driven Development](https://fr.wikipedia.org/wiki/Test_driven_development)\n",
        "\n",
        "Dans les grandes lignes, cette méthode consiste à **écrire les tests de code permettant de valider les fonctions avant d'écrire le code de ces dernières**. Ainsi, le cahier des charges est intégré au sein des tests, et la fonction ne pourra être validée que si elle ne les valide pas.\n",
        "\n",
        "La méthode TDD est si elle est appliquée strictement un peu complexe pour nous besoin, nous en garderons dans ce cours que les idées principales :\n",
        "- consolider la validité du code en intégrant des tests dans les fonctions lorsque cela est possible,\n",
        "- documenter le code afin d'améliorer la lisibilité et réutilisabilité de cette partie du code (refactoring)\n",
        "\n",
        "# Solution 1 : les assertions\n",
        "\n",
        "Python prévoit un mécanisme qui permet de \"lever une exception\" (arrêter l'exécution du code), lorsqu'un test n'est pas valide. On utilise le mot clé **assert**\n",
        "\n",
        "On veut tester une assertion : cette assertions est vraie ou fausse.\n",
        "\n",
        "La syntaxe est la suivante :\n",
        "\n",
        "```\n",
        "assert untest\n",
        "```\n",
        "\n",
        "Par exemple\n",
        "\n",
        "```\n",
        "assert 0 == 0\n",
        "```\n",
        "ne provoquera pas d'exception, alors que\n",
        "```\n",
        "assert 5 == 3\n",
        "```\n",
        "le fera.\n",
        "\n",
        "Exercice : essayez dans une cellule de code les assertions ci-dessus et observez les résultats d'exécution.\n"
      ]
    },
    {
      "cell_type": "code",
      "metadata": {
        "id": "cprRtucygrqY",
        "colab_type": "code",
        "colab": {
          "base_uri": "https://localhost:8080/",
          "height": 203
        },
        "outputId": "ee64afe1-0620-4f6b-b090-165398135cb4"
      },
      "source": [
        "# test assertions\n",
        "assert 0 == 0\n",
        "assert 10 == 1"
      ],
      "execution_count": 3,
      "outputs": [
        {
          "output_type": "error",
          "ename": "AssertionError",
          "evalue": "ignored",
          "traceback": [
            "\u001b[0;31m---------------------------------------------------------------------------\u001b[0m",
            "\u001b[0;31mAssertionError\u001b[0m                            Traceback (most recent call last)",
            "\u001b[0;32m<ipython-input-3-861636821113>\u001b[0m in \u001b[0;36m<module>\u001b[0;34m()\u001b[0m\n\u001b[1;32m      1\u001b[0m \u001b[0;31m# test assertions\u001b[0m\u001b[0;34m\u001b[0m\u001b[0;34m\u001b[0m\u001b[0;34m\u001b[0m\u001b[0m\n\u001b[1;32m      2\u001b[0m \u001b[0;32massert\u001b[0m \u001b[0;36m0\u001b[0m \u001b[0;34m==\u001b[0m \u001b[0;36m0\u001b[0m\u001b[0;34m\u001b[0m\u001b[0;34m\u001b[0m\u001b[0m\n\u001b[0;32m----> 3\u001b[0;31m \u001b[0;32massert\u001b[0m \u001b[0;36m10\u001b[0m \u001b[0;34m==\u001b[0m \u001b[0;36m1\u001b[0m\u001b[0;34m\u001b[0m\u001b[0;34m\u001b[0m\u001b[0m\n\u001b[0m",
            "\u001b[0;31mAssertionError\u001b[0m: "
          ]
        }
      ]
    },
    {
      "cell_type": "markdown",
      "metadata": {
        "id": "AIr4qNaNgxui",
        "colab_type": "text"
      },
      "source": [
        "Prenons un exemple ave une fonction qui renvoie les n premiers termes de la suite de Fibonacci\n",
        "\n",
        "![Leonardo Fibonacci](https://upload.wikimedia.org/wikipedia/commons/thumb/3/35/Fibonacci2.jpg/210px-Fibonacci2.jpg?uselang=fr)\n",
        "\n"
      ]
    },
    {
      "cell_type": "code",
      "metadata": {
        "id": "thbIe91kheTf",
        "colab_type": "code",
        "colab": {
          "base_uri": "https://localhost:8080/",
          "height": 35
        },
        "outputId": "226daa7a-9554-40db-8963-75b4d38abd74"
      },
      "source": [
        "def fibonacci(n):\n",
        "  \"\"\"\n",
        "  calcule et renvoie la liste ordonnée des n premiers termes \n",
        "  de la suite de Fibonacci\n",
        "  fibo(0) = 0 ; fibo(1) = 1; fibo(2) = 1; fibo(3) = 2\n",
        "  fibo(4) = 3\n",
        "  fibonacci(7) => [0, 1, 1, 2, 3, 5, 8]\n",
        "  \"\"\"\n",
        "  # On écarte les valeurs de n qui posent problème\n",
        "  if type(n) != int or n < 0 :\n",
        "    return None\n",
        "  # sinon  on calcul les termes de la suite\n",
        "  x = 1\n",
        "  y = 1\n",
        "  lst = [x]\n",
        "  indice = 0\n",
        "  while indice < n :\n",
        "    x, y = y , x + y\n",
        "    lst.append(x)\n",
        "    indice+=1\n",
        "  return lst\n",
        "\n",
        "print(fibonacci(0))"
      ],
      "execution_count": 18,
      "outputs": [
        {
          "output_type": "stream",
          "text": [
            "[1]\n"
          ],
          "name": "stdout"
        }
      ]
    },
    {
      "cell_type": "markdown",
      "metadata": {
        "id": "MZ7gFfUch9jx",
        "colab_type": "text"
      },
      "source": [
        "Cette fonction devra valider un certain nombre de critère :\n",
        "\n",
        "-  La taille de la liste doit être égale à n+1,\n",
        "- différents résultats : 0, 1, 5 etc.,\n",
        "- les éléments de la liste sont des entiers,\n",
        "- la propriété de Fibonacci : $u_{n}$+$u_{n+1}$ = $u_{n+2}$,\n",
        "- la sortie dans les cas impossibles : paramètre négatif, paramètre non entier\n",
        "\n",
        "Pour cela, on écrit une fonction qui intègre la série de tests à effectuer sur la fonction."
      ]
    },
    {
      "cell_type": "code",
      "metadata": {
        "id": "F-is2BAfjdTd",
        "colab_type": "code",
        "colab": {
          "base_uri": "https://localhost:8080/",
          "height": 326
        },
        "outputId": "e9db008c-ea7d-4924-d55e-e1cfa3280586"
      },
      "source": [
        "# Ecrire le corps de la fonction qui permet\n",
        "# de valider la liste des tests proposés ci-dessus\n",
        "# pour la fonction fibonacci(n)\n",
        "\n",
        "def tester_fibonacci():\n",
        "    \"\"\"\n",
        "    Teste certaines propriétés de la fonction fibonacci(n)\n",
        "    lève une exception AssertionError si la fonction est mal programmée\n",
        "    \"\"\"\n",
        "\n",
        "    # tester la longueur de la liste\n",
        "    fib_10 = fibonacci(10)  # On créer une liste de 10 termes par exemple\n",
        "    #fib_10 = [0, 1, 1, 2, 3, 5, 8, 13, 21, 34, 55]\n",
        "    # la longueur de cette liste doit être de 11\n",
        "    assert len(fib_10) == 11\n",
        "    # On teste les résultats de la fonction pour n=0, n=1, n=5\n",
        "    assert fibonacci(0) == [0]\n",
        "    assert fibonacci(1) == [0,1]\n",
        "    assert fibonacci(5) == [0, 1, 1, 2, 3, 5]\n",
        "\n",
        "    # On teste que les termes d'une suite sont des entiers\n",
        "    for terme in fib_10:\n",
        "      assert type(terme) == int\n",
        "    # On teste la propriété de récurrence\n",
        "    assert fib_10[-3] + fib_10[-2] == fib_10[-1]\n",
        "    # On teste la valeur de retour dans les cas impossible\n",
        "    assert fibonacci(-1) == None\n",
        "    assert fibonacci('a') == None\n",
        "    assert fibonacci(3.14) == None\n",
        "  \n",
        "tester_fibonacci()"
      ],
      "execution_count": 17,
      "outputs": [
        {
          "output_type": "error",
          "ename": "AssertionError",
          "evalue": "ignored",
          "traceback": [
            "\u001b[0;31m---------------------------------------------------------------------------\u001b[0m",
            "\u001b[0;31mAssertionError\u001b[0m                            Traceback (most recent call last)",
            "\u001b[0;32m<ipython-input-17-b3ea4f1c7fe5>\u001b[0m in \u001b[0;36m<module>\u001b[0;34m()\u001b[0m\n\u001b[1;32m     29\u001b[0m     \u001b[0;32massert\u001b[0m \u001b[0mfibonacci\u001b[0m\u001b[0;34m(\u001b[0m\u001b[0;36m3.14\u001b[0m\u001b[0;34m)\u001b[0m \u001b[0;34m==\u001b[0m \u001b[0;32mNone\u001b[0m\u001b[0;34m\u001b[0m\u001b[0;34m\u001b[0m\u001b[0m\n\u001b[1;32m     30\u001b[0m \u001b[0;34m\u001b[0m\u001b[0m\n\u001b[0;32m---> 31\u001b[0;31m \u001b[0mtester_fibonacci\u001b[0m\u001b[0;34m(\u001b[0m\u001b[0;34m)\u001b[0m\u001b[0;34m\u001b[0m\u001b[0;34m\u001b[0m\u001b[0m\n\u001b[0m",
            "\u001b[0;32m<ipython-input-17-b3ea4f1c7fe5>\u001b[0m in \u001b[0;36mtester_fibonacci\u001b[0;34m()\u001b[0m\n\u001b[1;32m     15\u001b[0m     \u001b[0;32massert\u001b[0m \u001b[0mlen\u001b[0m\u001b[0;34m(\u001b[0m\u001b[0mfib_10\u001b[0m\u001b[0;34m)\u001b[0m \u001b[0;34m==\u001b[0m \u001b[0;36m11\u001b[0m\u001b[0;34m\u001b[0m\u001b[0;34m\u001b[0m\u001b[0m\n\u001b[1;32m     16\u001b[0m     \u001b[0;31m# On teste les résultats de la fonction pour n=0, n=1, n=5\u001b[0m\u001b[0;34m\u001b[0m\u001b[0;34m\u001b[0m\u001b[0;34m\u001b[0m\u001b[0m\n\u001b[0;32m---> 17\u001b[0;31m     \u001b[0;32massert\u001b[0m \u001b[0mfibonacci\u001b[0m\u001b[0;34m(\u001b[0m\u001b[0;36m0\u001b[0m\u001b[0;34m)\u001b[0m \u001b[0;34m==\u001b[0m \u001b[0;34m[\u001b[0m\u001b[0;36m0\u001b[0m\u001b[0;34m]\u001b[0m\u001b[0;34m\u001b[0m\u001b[0;34m\u001b[0m\u001b[0m\n\u001b[0m\u001b[1;32m     18\u001b[0m     \u001b[0;32massert\u001b[0m \u001b[0mfibonacci\u001b[0m\u001b[0;34m(\u001b[0m\u001b[0;36m1\u001b[0m\u001b[0;34m)\u001b[0m \u001b[0;34m==\u001b[0m \u001b[0;34m[\u001b[0m\u001b[0;36m0\u001b[0m\u001b[0;34m,\u001b[0m\u001b[0;36m1\u001b[0m\u001b[0;34m]\u001b[0m\u001b[0;34m\u001b[0m\u001b[0;34m\u001b[0m\u001b[0m\n\u001b[1;32m     19\u001b[0m     \u001b[0;32massert\u001b[0m \u001b[0mfibonacci\u001b[0m\u001b[0;34m(\u001b[0m\u001b[0;36m5\u001b[0m\u001b[0;34m)\u001b[0m \u001b[0;34m==\u001b[0m \u001b[0;34m[\u001b[0m\u001b[0;36m0\u001b[0m\u001b[0;34m,\u001b[0m \u001b[0;36m1\u001b[0m\u001b[0;34m,\u001b[0m \u001b[0;36m1\u001b[0m\u001b[0;34m,\u001b[0m \u001b[0;36m2\u001b[0m\u001b[0;34m,\u001b[0m \u001b[0;36m3\u001b[0m\u001b[0;34m,\u001b[0m \u001b[0;36m5\u001b[0m\u001b[0;34m]\u001b[0m\u001b[0;34m\u001b[0m\u001b[0;34m\u001b[0m\u001b[0m\n",
            "\u001b[0;31mAssertionError\u001b[0m: "
          ]
        }
      ]
    },
    {
      "cell_type": "markdown",
      "metadata": {
        "id": "XEalft2zmCwB",
        "colab_type": "text"
      },
      "source": [
        "# Solution 2 : Doctest #\n",
        "\n",
        "Python permet grâce au module doctest d'intégrer les tests dans la documentation des fonctions (docString). Cela est pratique pour les fonctions de calculs.\n",
        "\n",
        "Voici un exemple avec une fonction chargée de multiplier 2 paramètres a et b\n"
      ]
    },
    {
      "cell_type": "code",
      "metadata": {
        "id": "UnqsAt8vsfaW",
        "colab_type": "code",
        "colab": {
          "base_uri": "https://localhost:8080/",
          "height": 387
        },
        "outputId": "8ff7eff5-f26f-4718-d46f-1a0d90da8f8c"
      },
      "source": [
        "import doctest\n",
        "\n",
        "def multiplier(a, b):\n",
        "  \"\"\"\n",
        "  Calcul le produit de a et b\n",
        "  @param a: (number, str, list) premier paramètre\n",
        "  @param b: (number, str, list) second paramètre\n",
        "  @return: (number, str, list) le produit des paramètres\n",
        "\n",
        "  >>> multiplier(4,3)\n",
        "  12\n",
        "  >>> multiplier('a', 3)\n",
        "  'aaa'\n",
        "  \"\"\"\n",
        "  return a*10\n",
        "\n",
        "doctest.testmod()"
      ],
      "execution_count": 22,
      "outputs": [
        {
          "output_type": "stream",
          "text": [
            "**********************************************************************\n",
            "File \"__main__\", line 10, in __main__.multiplier\n",
            "Failed example:\n",
            "    multiplier(4,3)\n",
            "Expected:\n",
            "    12\n",
            "Got:\n",
            "    40\n",
            "**********************************************************************\n",
            "File \"__main__\", line 12, in __main__.multiplier\n",
            "Failed example:\n",
            "    multiplier('a', 3)\n",
            "Expected:\n",
            "    'aaa'\n",
            "Got:\n",
            "    'aaaaaaaaaa'\n",
            "**********************************************************************\n",
            "1 items had failures:\n",
            "   2 of   2 in __main__.multiplier\n",
            "***Test Failed*** 2 failures.\n"
          ],
          "name": "stdout"
        },
        {
          "output_type": "execute_result",
          "data": {
            "text/plain": [
              "TestResults(failed=2, attempted=2)"
            ]
          },
          "metadata": {
            "tags": []
          },
          "execution_count": 22
        }
      ]
    }
  ]
}