{
 "cells": [
  {
   "cell_type": "code",
   "execution_count": null,
   "metadata": {},
   "outputs": [],
   "source": [
    "a = 12\n",
    "print(a)"
   ]
  },
  {
   "cell_type": "code",
   "execution_count": null,
   "metadata": {},
   "outputs": [],
   "source": []
  },
  {
   "cell_type": "markdown",
   "metadata": {},
   "source": [
    "# Chapitre 1 : Les Boucles"
   ]
  },
  {
   "cell_type": "markdown",
   "metadata": {},
   "source": [
    "Les boucles en python sont de deux types :\n",
    "\n",
    "- FOR\n",
    "- WHILE"
   ]
  },
  {
   "cell_type": "markdown",
   "metadata": {},
   "source": [
    "## La boucle FOR \n",
    "\n",
    "Elle est de la forme :\n",
    "```python\n",
    "for i in range(a, b):\n",
    "    p\n",
    "```\n",
    "\n",
    "On execute la boucle pour les valeurs de i allant de a à b (b n'étant pas compris)\n",
    "\n",
    "**Exercice : Ecrire le code pour faire imprimer 10 fois \"Hello\"**"
   ]
  },
  {
   "cell_type": "code",
   "execution_count": null,
   "metadata": {},
   "outputs": [],
   "source": [
    "# Ce code va afficher 10 fois la chaine \"Hello\"\n",
    "for i in range(0,10,2):\n",
    "    print(\"Hello \", i)"
   ]
  },
  {
   "cell_type": "code",
   "execution_count": null,
   "metadata": {},
   "outputs": [],
   "source": [
    " # Ce code va afficher 10 fois la chaine \"Hello\" en entrant un seul argument dans range()\n",
    "for i in range(10):\n",
    "    print(\"Hello \", i)"
   ]
  },
  {
   "cell_type": "markdown",
   "metadata": {},
   "source": [
    "**Exercice**\n",
    "\n",
    "Écrire un programme qui recueille au clavier les températures de 7 jours successifs et calcule\n",
    "la température moyenne de la semaine."
   ]
  },
  {
   "cell_type": "markdown",
   "metadata": {},
   "source": [
    "<span style=\"color:green\">\n",
    "    <h1>Elements de solutions</h1>\n",
    "La formule à appliquer est la suivante :\n",
    "\n",
    "$$valeur\\,moyenne = \\frac{somme\\,des\\,valeurs}{nombre\\,de\\,valeurs}$$\n",
    "\n",
    "Mais l'utilisateur va rentrer les valeurs de température nécessaires au calcul de la somme les unes après les autres.\n",
    "\n",
    "S'offre alors deux stratégies :\n",
    "- soit stocker toutes les valeurs de température dans des variables séparées puis faire le calcul à la fin\n",
    "- soit calculer la somme petit à petit en mettant à jour la somme à chaque nouvelle saisie de valeur, puis calculer la moyenne en divisant la sommme par le nombre de valeurs.\n",
    "   \n",
    "    On crée une variable somme qu'on initialise à 0, avant la boucle\n",
    "    ```python\n",
    "    somme = 0\n",
    "    ```\n",
    "    \n",
    "    On mettra à jour cette variable somme à chaque incrément (tour) de boucle:\n",
    "    \n",
    "   ```python\n",
    "    somme = somme + temperature\n",
    "    ```\n",
    "    \n",
    "    <b>remarque</b>\n",
    "    \n",
    "    la valeur de somme à droite du signe égale correspond à l'ancienne valeur de \"somme\"\n",
    "    alors que \"somme\" à gauche correspond à la nouvelle valeur (valeur actualisée) de la variable \"somme\"\n",
    "    \n",
    "    L'acquisition de la valeur de la température est stockée à chaque tour dans la variable du même nom. Elle se fait par l'intermédiaire de la fonction input() qui renvoie une chaîne de caractère (string).\n",
    "    Il est donc nécessaire de convertir la valeur obtenue en nombre réel de type float.\n",
    "   \n",
    "</span>"
   ]
  },
  {
   "cell_type": "code",
   "execution_count": null,
   "metadata": {},
   "outputs": [],
   "source": [
    "somme = 0  # On initialise la variable de la somme\n",
    "for nb_jours in range(0,7):\n",
    "    temperature = float(input(\"Taper une temperature : \"))  # on demande à l'utilisateur de rentrer une valeur\n",
    "    somme = somme + temperature  # on calcule la nouvelle somme et on met à jour la variable somme\n",
    "print(\"la moyenne des temperatures est : \", somme / 7)  # On calcule affiche la valeur moyenne\n",
    "    "
   ]
  },
  {
   "cell_type": "markdown",
   "metadata": {},
   "source": [
    "## Exercice\n",
    "\n",
    "Ecrire un code qui permet d'afficher dans la console le calendrier des jours des 12 mois de l'année 2019."
   ]
  },
  {
   "cell_type": "markdown",
   "metadata": {},
   "source": [
    "### Version 1 : on néglige les exceptions en considérant que tous les mois possèdent 31 jours"
   ]
  },
  {
   "cell_type": "code",
   "execution_count": null,
   "metadata": {},
   "outputs": [],
   "source": [
    "for mois in range(1,13):\n",
    "    for jour in range(1,32):\n",
    "        print(jour)"
   ]
  },
  {
   "cell_type": "markdown",
   "metadata": {},
   "source": [
    "### Version 2 : \n",
    "\n",
    "Les exceptions au code précédent sont :\n",
    "\n",
    "- le mois 2 est à 28 jours\n",
    "- les mois 4, 6, 9, 11 sont des mois à 30 jours\n",
    "\n",
    "La valeur constante 32 qui apparait dans la deuxième boucle (range(1,32)) doit être remplacée par une variable qui permettra\n",
    "de tenir compte des exceptions."
   ]
  },
  {
   "cell_type": "code",
   "execution_count": null,
   "metadata": {},
   "outputs": [],
   "source": [
    "for mois in range(1,13):\n",
    "    fin_de_mois = 32\n",
    "    if (mois == 2):\n",
    "        fin_de_mois = 29\n",
    "    else:\n",
    "        if (mois == 4) or (mois == 6) or (mois == 9) or (mois == 11):\n",
    "            fin_de_mois = 31\n",
    "        \n",
    "    for jour in range(1, fin_de_mois):\n",
    "        print(jour)"
   ]
  },
  {
   "cell_type": "markdown",
   "metadata": {},
   "source": [
    "## Exercice\n",
    "\n",
    "Compléter le code précédent pour insérer les noms des mois \"janvier\", \"février\", ... (on n'utilise pas les listes)"
   ]
  },
  {
   "cell_type": "markdown",
   "metadata": {},
   "source": [
    "## Exercice\n",
    "\n",
    "Ecrire un code qui affiche un tableau de valeurs pour la fonction \n",
    "\n",
    "f(x) = x²-2x-2\n",
    "\n",
    "L'utilisateur choisit les bornes de l'intervalle sur lequel on calcule ces valeurs, ainsi que le pas entre deux valeurs."
   ]
  },
  {
   "cell_type": "markdown",
   "metadata": {},
   "source": [
    "## Exercice\n",
    "\n",
    "Ecrire un code qui demande un nombre entier à l'utilisateur, et qui renvoie en sortie la valeur convertie en binaire sous forme d'une chaine de caractères (String)"
   ]
  },
  {
   "cell_type": "markdown",
   "metadata": {},
   "source": [
    "### La boucle WHILE\n",
    "\n",
    "Elle correspond à la structure algorithmique itérative\n",
    "```algo\n",
    "TANT QUE (cette_condition_est_vraie) FAIRE :\n",
    "    (instructions)\n",
    "\n",
    "La syntaxe est la suivante :\n",
    "```\n",
    "```python\n",
    "while e:\n",
    "    instruction1\n",
    "    instruction2\n",
    "    ...\n",
    "```\n",
    "\n",
    "Execute en boucle les instructions 1, 2 ,..., TANT QUE la condition **e** est vrai (True)"
   ]
  },
  {
   "cell_type": "markdown",
   "metadata": {},
   "source": [
    "### Exercice:\n",
    "\n",
    "Ecrire un code qui écrit la table de multiplication d'un nombre entier saisi par l'utilisateur dont la valeur limite est également donnée par l'utilisateur. "
   ]
  },
  {
   "cell_type": "markdown",
   "metadata": {},
   "source": [
    "### Exercice:\n",
    "Ecrire le code qui demande à l'utilisateur un nombre entier compris entre 1 et 10 et le stocke dans une variable, et qui garantie que le résultat sera correct (saisie filtrée)"
   ]
  },
  {
   "cell_type": "markdown",
   "metadata": {},
   "source": [
    "### Exercice\n",
    "\n",
    "Initialisez deux entiers : a = 0 et b = 10 .\n",
    "Écrire une boucle affichant et incrémentant la valeur de a tant qu’elle reste inférieure\n",
    "à celle de b .\n",
    "Écrire une autre boucle décrémentant la valeur de b et affichant sa valeur si elle est\n",
    "impaire. Boucler tant que b n’est pas nul."
   ]
  }
 ],
 "metadata": {
  "kernelspec": {
   "display_name": "Python 3",
   "language": "python",
   "name": "python3"
  },
  "language_info": {
   "codemirror_mode": {
    "name": "ipython",
    "version": 3
   },
   "file_extension": ".py",
   "mimetype": "text/x-python",
   "name": "python",
   "nbconvert_exporter": "python",
   "pygments_lexer": "ipython3",
   "version": "3.7.3"
  }
 },
 "nbformat": 4,
 "nbformat_minor": 4
}
