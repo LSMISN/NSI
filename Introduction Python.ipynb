{
 "cells": [
  {
   "cell_type": "markdown",
   "metadata": {},
   "source": [
    "# Des variables et des données\n",
    "\n",
    "Les programmes informatiques traitent et manipulent des données numériques.Pour pouvoir accéder à ces données, les programmes font abondamment usage d'un grand nombre de variables de différents types.\n",
    "\n",
    "Une variable apparaît dans un langage de programmation sous un nom de variable à peu près quelconque, mais pour l’ordinateur, il s’agit d’une référence désignant une **adresse mémoire**, c ’ est-à-dire **un emplacement précis dans la mémoire vive**.\n",
    "À cet emplacement est stockée une valeur bien déterminée. C’est la donnée proprement dite, qui est donc stockée sous la forme d’une suite de nombres binaires (octets), mais qui n’est pas nécessairement un nombre aux yeux du langage de programmation utilisé. Cela peut être en fait à peu près n’importe quel « objet » susceptible d’être placé dans la mémoire d ’ un ordinateur, par exemple : un nombre entier, un nombre réel, un nombre complexe, un vecteur, une chaîne de caractères typographiques, un tableau, une fonction, etc.\n",
    "\n",
    "Le langage Python tout comme les autres langages de programmation impose des règles dans le choix du **nom des variables*.\n",
    "\n",
    "Les noms de variables sont des noms que vous choisissez vous-même assez librement. Efforcez-vous cependant de bien les choisir : de préférence assez courts, mais aussi explicites que possible, de manière à exprimer clairement ce que la variable est censée contenir. Par exemple, des noms de variables tels que altitude, altit ou alt conviennent mieux que x pour exprimer une altitude.\n",
    "\n",
    "**Un bon programmeur doit veiller à ce que ses lignes d’instructions soient faciles à lire.** Le nom des variables contribue à **DOCUMENTER LE CODE**\n",
    "\n",
    "Sous Python, les noms de variables doivent en outre obéir à quelques règles simples :\n",
    "\n",
    "* un nom de variable est une séquence de lettres (a → z , A → Z) et de chiffres (0 → 9), qui doit toujours commencer par une lettre.\n",
    "\n",
    "* Seules les lettres ordinaires sont autorisées. Les lettres accentuées, les cédilles, les espaces, les caractères spéciaux tels que $, #, @, etc. sont interdits, à l’exception du caractère _ (souligné).\n",
    "\n",
    "* La casse est significative (les caractères majuscules et minuscules sont distingués).\n",
    "\n",
    "Attention : Joseph, joseph, JOSEPH sont donc des variables différentes. Soyez attentifs !\n",
    "Prenez l’habitude d’écrire l’essentiel des noms de variables en caractères minuscules (y compris la première lettre 7). Il s’agit d’une simple convention, mais elle est largement respectée. N’utilisez les majuscules qu’à l’intérieur même du nom, pour en augmenter éventuellement la lisibilité, comme par exemple dans prixUnitaireDunKiloDePommes.\n",
    "\n",
    "Une variable est donc un identificateur associé à une valeur. L'opération qui permet d'associer les deux se nomme **une affectation**, elle est réalisée par l'opérateur =\n",
    "\n",
    "Dans une affectation, **le membre de gauche reçoit le membre de droite** ce qui nécessite d’évaluer la valeur correspondant au membre de droite avant de l’affecter au membre de gauche."
   ]
  },
  {
   "cell_type": "code",
   "execution_count": 3,
   "metadata": {},
   "outputs": [],
   "source": [
    "prix_d_un_kilo_de_pomme = 2.99"
   ]
  },
  {
   "cell_type": "markdown",
   "metadata": {},
   "source": [
    "**Affectation multiples**\n",
    "\n",
    "C'est une particularité du langage Python, il est possible d'affecter plusieurs variables sur une seule ligne de code"
   ]
  },
  {
   "cell_type": "code",
   "execution_count": 4,
   "metadata": {},
   "outputs": [],
   "source": [
    "a, b, c = 1, 1, -1"
   ]
  },
  {
   "cell_type": "markdown",
   "metadata": {},
   "source": [
    "On peut également faire des affectations multiples en écrivant"
   ]
  },
  {
   "cell_type": "code",
   "execution_count": null,
   "metadata": {},
   "outputs": [],
   "source": [
    "x = y = z = 0"
   ]
  },
  {
   "cell_type": "markdown",
   "metadata": {},
   "source": [
    "## Types de données ##\n",
    "\n",
    "Python fournit un certain nombre de types de base. Les \"structures de données\" plus complexes ne sont qu'un assemblage construction logique de ces types de base, nécessaire à un traitement efficace de certains problèmes.\n",
    "\n",
    "### Le type int ###\n",
    "\n",
    "Le type int (integer) est le type utilisé pour représenter les nombres entiers. La taille (format) d'un entier en Python ne dépend que de la taille de la mémoire : Python adopte un format particulier qui adapte la mémoire RAM utilisée en fonction des besoins du programme."
   ]
  },
  {
   "cell_type": "code",
   "execution_count": null,
   "metadata": {},
   "outputs": [],
   "source": [
    "# Ceci est un commentaire Python un '#' suivie d'un seul espace\n",
    "# Taper sur Ctrl et Entree pour exécuter la cellule\n",
    "2019  # Entier écrit décimal\n",
    "0b11110000  # Entier écrit en binaire\n",
    "0xEE  # Entier écrit en hexadécimal\n"
   ]
  },
  {
   "cell_type": "markdown",
   "metadata": {},
   "source": [
    "**Exercice**\n",
    "Créez trois variables **aux noms bien choisis** auquelles vous affecterez les 3 valeurs ci-dessus."
   ]
  },
  {
   "cell_type": "code",
   "execution_count": null,
   "metadata": {},
   "outputs": [],
   "source": [
    "# écrire votre code ici"
   ]
  },
  {
   "cell_type": "markdown",
   "metadata": {},
   "source": [
    "**Le type bool**\n",
    "\n",
    "Le type bool (booleen) ne peut prendre que 2 valeurs :\n",
    "* True (vrai)\n",
    "* False (faux)\n",
    "\n",
    "On l'utilise par exemple pour toute information modélisable par une réponse binaire."
   ]
  },
  {
   "cell_type": "code",
   "execution_count": null,
   "metadata": {},
   "outputs": [],
   "source": [
    "# Exemples de variable de type booléen\n",
    "jeux_fini = False\n",
    "identifiant_ok = True\n",
    "annee_saisie_ok = False\n",
    "annee_bissextile = True"
   ]
  },
  {
   "cell_type": "markdown",
   "metadata": {},
   "source": [
    "C'est également le type renvoyé par une expression utilisant les opérateurs de comparaison <,>, <=, >=, ==, !="
   ]
  },
  {
   "cell_type": "code",
   "execution_count": null,
   "metadata": {},
   "outputs": [],
   "source": [
    "# tester les comparaisons suivantes\n",
    "8 < 2"
   ]
  },
  {
   "cell_type": "code",
   "execution_count": null,
   "metadata": {},
   "outputs": [],
   "source": [
    "jeux_fini == True"
   ]
  },
  {
   "cell_type": "code",
   "execution_count": null,
   "metadata": {},
   "outputs": [],
   "source": [
    "2 == 11"
   ]
  },
  {
   "cell_type": "markdown",
   "metadata": {},
   "source": [
    "**Le type Float**\n",
    "\n",
    "Il est utilisé pour représenter les nombres réels qui elle-même est une notion mathématique idéale. Ce graal est impossible à atteindre en informatique. On utilise une représentation interne (normalisée) permettant de déplacer la virgule grâce à une valeur d’exposant variable. On nommera ces nombres des flottants.\n",
    "\n",
    "Un float est noté avec un point décimal (jamais avec une virgule) ou en notation exponentielle\n",
    "avec un «e» symbolisant le «10 puissance» suivi des chiffres de l’exposant. Par exemple:"
   ]
  },
  {
   "cell_type": "code",
   "execution_count": null,
   "metadata": {},
   "outputs": [],
   "source": [
    "2.78\n",
    "0.02\n",
    "1.6e-19\n",
    "6.023e23"
   ]
  }
 ],
 "metadata": {
  "kernelspec": {
   "display_name": "Python 3",
   "language": "python",
   "name": "python3"
  },
  "language_info": {
   "codemirror_mode": {
    "name": "ipython",
    "version": 3
   },
   "file_extension": ".py",
   "mimetype": "text/x-python",
   "name": "python",
   "nbconvert_exporter": "python",
   "pygments_lexer": "ipython3",
   "version": "3.7.3"
  }
 },
 "nbformat": 4,
 "nbformat_minor": 4
}
