{
 "cells": [
  {
   "cell_type": "markdown",
   "metadata": {},
   "source": [
    "### Comprehension lists\n",
    "\n",
    "\n",
    "Procédé Pythonesque pour créer des listes rapidement et de manière élégante... \n",
    "...la plupart du temps :)"
   ]
  },
  {
   "cell_type": "markdown",
   "metadata": {},
   "source": [
    "**Exercice d'introduction**\n",
    "\n",
    "écrire un code qui permet de créer une liste\n",
    "avec une boucle qui contient le carré des 10 premiers entiers."
   ]
  },
  {
   "cell_type": "code",
   "execution_count": null,
   "metadata": {},
   "outputs": [],
   "source": [
    "l_carrees = [] # On part d'une liste vide\n",
    "\n",
    "for n in range(1,11): # On boucle 10 fois pour n de 1 à 10\n",
    "    l_carrees.append(n**2) # On ajoute à chaque tour le carré de n à la liste\n",
    "\n",
    "print(l_carrees)\n"
   ]
  },
  {
   "cell_type": "markdown",
   "metadata": {},
   "source": [
    "En utilisant une comprehension list la construction est plus synthétique"
   ]
  },
  {
   "cell_type": "code",
   "execution_count": null,
   "metadata": {},
   "outputs": [],
   "source": [
    "l_carrees2 = [n**2 for n in range(1,11)]\n",
    "# On intègre ainsi dans une seule instruction l'itération de n pour les valeurs de 1 à 10, le calcul du carré, et la création de la liste\n",
    "print(l_carrees2)"
   ]
  },
  {
   "cell_type": "markdown",
   "metadata": {},
   "source": [
    "**Généralisation:**\n",
    "\n",
    "On peut remplacer la boucle for qui aurait la structure:\n",
    "\n",
    "``` python\n",
    "\n",
    "for \"element\" in \"iterable\":\n",
    "    \"expression\"\n",
    "```        \n",
    "Par une comprehension list de la forme :\n",
    "\n",
    "```python\n",
    "        [ \"expression\" for \"element\" in \"iterable\" ]\n",
    "\n",
    "```"
   ]
  },
  {
   "cell_type": "markdown",
   "metadata": {},
   "source": [
    "**Autre exercice**\n",
    "\n",
    "Ecrire un code qui donne la liste des carrées des nombres pairs pris entre 0 et 16."
   ]
  },
  {
   "cell_type": "code",
   "execution_count": null,
   "metadata": {},
   "outputs": [],
   "source": [
    "lst_carresPairs = [] # On part d'une liste vide\n",
    "for i in range(16): # on itère sur le paramètre i de 0 à 15\n",
    "    if i%2 == 0: # On teste le reste de la division par 2 pour tester la parité\n",
    "        lst_carresPairs.append(i**2) # On ajoute le carré de i dans la liste\n",
    "print(lst_carresPairs)    "
   ]
  },
  {
   "cell_type": "markdown",
   "metadata": {},
   "source": [
    "On peut obtenir le même résultat en utilisant une comprehension list en insérant le test if à l'intérieur"
   ]
  },
  {
   "cell_type": "code",
   "execution_count": null,
   "metadata": {},
   "outputs": [],
   "source": [
    "lst_carresPairs2 = [i**2 for i in range(16) if i%2==0] # On a rajouté le test (if) en bout d'instruction"
   ]
  },
  {
   "cell_type": "markdown",
   "metadata": {},
   "source": [
    "On utilise donc\n",
    "\n",
    "```python\n",
    "\n",
    "[\"expression\" for \"element\" in \"iterable\" if \"condition\"]\n",
    "\n",
    "```\n",
    "à la place de :\n",
    "```python\n",
    "for \"element\" in \"iterable\":\n",
    "    if \"condition\":\n",
    "        \"expression\"\n",
    "```"
   ]
  },
  {
   "cell_type": "markdown",
   "metadata": {},
   "source": [
    "## Application : Filtrage de liste\n",
    "\n",
    "écrire un code avec une boucle for classique qui extrait une sous-liste lst_supCinq de la liste lst_a donnée"
   ]
  },
  {
   "cell_type": "code",
   "execution_count": 1,
   "metadata": {},
   "outputs": [
    {
     "name": "stdout",
     "output_type": "stream",
     "text": [
      "[7, 9, 6, 6, 6, 8]\n"
     ]
    }
   ],
   "source": [
    "lst_a = [1,4,2,7,1,9,0,3,4,6,6,6,8,3]\n",
    "\n",
    "lst_supCinq = []\n",
    "for elt in lst_a:\n",
    "    if elt > 5 :\n",
    "        lst_supCinq.append(elt)\n",
    "print(lst_supCinq)"
   ]
  },
  {
   "cell_type": "markdown",
   "metadata": {},
   "source": [
    "Faire la même chose avec une comprehension list"
   ]
  },
  {
   "cell_type": "code",
   "execution_count": 6,
   "metadata": {},
   "outputs": [
    {
     "name": "stdout",
     "output_type": "stream",
     "text": [
      "[7, 9, 6, 6, 6, 8]\n"
     ]
    }
   ],
   "source": [
    "lstsupCinq2 = [n for n in lst_a if n > 5]\n",
    "print(lstsupCinq2)"
   ]
  },
  {
   "cell_type": "markdown",
   "metadata": {},
   "source": [
    "On peut par également appliquer une fonction sur tous les éléments d'une liste"
   ]
  },
  {
   "cell_type": "code",
   "execution_count": 7,
   "metadata": {},
   "outputs": [
    {
     "name": "stdout",
     "output_type": "stream",
     "text": [
      "[5, 10, 15, 32, 44, 20]\n"
     ]
    }
   ],
   "source": [
    "\"\"\"\n",
    "soit une liste de nombres entiers récupérés sous forme de string\n",
    "(dans un fichier au format csv par exemple), on veut tous les\n",
    "transformer en int pour un traitement numérique ultérieur\n",
    "\"\"\"\n",
    "nbres_csv = [\"5\", \"10\", \"15\", \"32\", \"44\", \"20\"]\n",
    "\n",
    "nbres_exploitables = [int(nbre) for nbre in nbres_csv]\n",
    "print(nbres_exploitables)"
   ]
  }
 ],
 "metadata": {
  "kernelspec": {
   "display_name": "Python 3",
   "language": "python",
   "name": "python3"
  },
  "language_info": {
   "codemirror_mode": {
    "name": "ipython",
    "version": 3
   },
   "file_extension": ".py",
   "mimetype": "text/x-python",
   "name": "python",
   "nbconvert_exporter": "python",
   "pygments_lexer": "ipython3",
   "version": "3.7.3"
  }
 },
 "nbformat": 4,
 "nbformat_minor": 4
}
