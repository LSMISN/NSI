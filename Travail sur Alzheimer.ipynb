{
 "cells": [
  {
   "cell_type": "code",
   "execution_count": 3,
   "metadata": {},
   "outputs": [
    {
     "name": "stdout",
     "output_type": "stream",
     "text": [
      "[['AD', 'female', 70, 26, 4.4277, 0.3], ['AD', 'female', 72, 24, 5.7284, 0.4], ['AD', 'female', 71, 23, 4.8818, 0.0], ['AD', 'female', 80, 26, 6.4118, 0.4], ['AD', 'female', 85, 22, 4.6191, 0.3], ['AD', 'female', 75, 25, 8.7221, 0.6], ['AD', 'female', 69, 25, 5.2362, 0.4], ['AD', 'male', 80, 21, 6.6303, 0.4], ['AD', 'female', 72, 26, 6.2357, 0.0], ['AD', 'female', 57, 23, 6.6308, 0.5], ['AD', 'female', 70, 20, 5.7168, 0.4], ['AD', 'female', 71, 26, 5.5373, 0.0], ['AD', 'female', 75, 22, 6.3964, 0.4], ['AD', 'female', 77, 21, 5.0654, 0.4], ['AD', 'female', 84, 21, 4.5637, 0.4], ['AD', 'male', 71, 25, 4.959, 0.3], ['AD', 'female', 77, 20, 4.7303, 0.3], ['AD', 'female', 66, 25, 5.7958, 0.4], ['AD', 'male', 81, 20, 5.974, 0.3], ['AD', 'male', 88, 20, 6.3453, 0.4], ['AD', 'female', 82, 22, 4.8669, 0.3], ['AD', 'female', 81, 24, 5.316, 0.4], ['AD', 'female', 75, 24, 4.9371, 0.4], ['AD', 'female', 55, 24, 7.3497, 0.5], ['AD', 'female', 80, 23, 4.6577, 0.3], ['AD', 'female', 80, 25, 5.9876, 0.0], ['AD', 'female', 78, 21, 5.1595, 0.0], ['AD', 'male', 63, 24, 7.927, 0.5], ['AD', 'female', 88, 20, 4.4018, 0.3], ['AD', 'female', 73, 21, 5.4319, 0.4], ['AD', 'male', 87, 26, 6.1248, 0.4], ['AD', 'female', 71, 21, 5.006, 0.4], ['AD', 'male', 82, 25, 6.0843, 0.4], ['AD', 'male', 80, 23, 6.4207, 0.4], ['AD', 'male', 80, 23, 7.1123, 0.4], ['AD', 'female', 72, 25, 5.7673, 0.0], ['AD', 'female', 69, 23, 5.0688, 0.3], ['AD', 'female', 59, 20, 4.526, 0.3], ['AD', 'female', 75, 20, 5.5281, 0.4], ['AD', 'female', 71, 23, 6.1974, 0.4], ['AD', 'female', 74, 20, 6.734, 0.5], ['AD', 'female', 85, 21, 4.5542, 0.3], ['AD', 'male', 77, 22, 4.9667, 0.3], ['AD', 'female', 78, 25, 4.6796, 0.3], ['AD', 'female', 83, 25, 3.4243, 0.0], ['AD', 'male', 87, 26, 5.1345, 0.3], ['AD', 'female', 87, 21, 6.1581, 0.4], ['AD', 'female', 59, 23, 6.0119, 0.4], ['AD', 'male', 56, 23, 7.2257, 0.4], ['AD', 'female', 77, 26, 6.2829, 0.4], ['AD', 'male', 85, 21, 6.3525, 0.4], ['AD', 'male', 80, 24, 7.6463, 0.4], ['AD', 'female', 91, 26, 6.0859, 0.4], ['AD', 'male', 62, 25, 9.0464, 0.6], ['AD', 'female', 72, 24, 4.495, 0.3], ['AD', 'female', 71, 23, 6.4085, 0.4], ['AD', 'female', 74, 24, 5.7518, 0.4], ['AD', 'female', 79, 25, 5.882, 0.4], ['AD', 'male', 83, 23, 5.6443, 0.4], ['AD', 'female', 65, 24, 4.552, 0.3], ['AD', 'female', 75, 24, 6.5591, 0.4], ['AD', 'male', 75, 20, 7.5046, 0.5], ['AD', 'female', 65, 26, 5.2201, 0.0], ['AD', 'male', 86, 21, 5.0288, 0.3], ['AD', 'male', 79, 26, 5.7084, 0.4], ['AD', 'male', 79, 23, 4.2223, 0.2], ['AD', 'female', 72, 22, 5.4678, 0.3], ['AD', 'female', 72, 21, 5.8108, 0.4], ['AD', 'female', 80, 22, 5.1312, 0.0], ['AD', 'female', 77, 23, 6.8025, 0.5], ['AD', 'male', 78, 25, 5.3286, 0.3], ['AD', 'female', 78, 21, 5.4612, 0.3], ['AD', 'female', 83, 26, 6.7384, 0.5], ['AD', 'male', 84, 25, 7.1599, 0.4], ['AD', 'female', 84, 24, 4.1738, 0.3], ['AD', 'male', 62, 20, 5.7654, 0.3], ['AD', 'male', 72, 24, 8.126, 0.0], ['AD', 'male', 72, 22, 6.3488, 0.4], ['AD', 'male', 74, 25, 4.8647, 0.3], ['AD', 'male', 64, 22, 5.3281, 0.3], ['AD', 'female', 75, 25, 5.323, 0.4], ['AD', 'male', 69, 26, 7.0918, 0.4], ['AD', 'male', 83, 26, 6.0576, 0.3], ['AD', 'female', 76, 26, 5.1269, 0.3], ['AD', 'male', 78, 21, 5.8446, 0.0], ['AD', 'male', 71, 22, 7.653, 0.5], ['AD', 'female', 69, 25, 5.8286, 0.4], ['AD', 'male', 71, 24, 5.9751, 0.3], ['AD', 'female', 70, 25, 6.4722, 0.5], ['AD', 'male', 82, 27, 5.1464, 0.3], ['AD', 'female', 74, 25, 6.5347, 0.5], ['AD', 'female', 73, 26, 4.9212, 0.4], ['AD', 'male', 83, 26, 5.6474, 0.3], ['AD', 'male', 68, 26, 6.064, 0.4], ['AD', 'male', 78, 22, 5.1695, 0.3], ['AD', 'female', 64, 23, 7.6781, 0.5], ['AD', 'female', 77, 26, 6.0007, 0.4], ['AD', 'male', 86, 22, 4.4615, 0.0], ['AD', 'male', 84, 26, 6.7357, 0.4], ['AD', 'male', 81, 26, 5.4153, 0.3], ['AD', 'female', 71, 26, 6.9792, 0.5], ['AD', 'female', 60, 25, 8.3003, 0.5], ['AD', 'male', 86, 26, 5.9158, 0.3], ['AD', 'male', 80, 22, 7.8676, 0.5], ['AD', 'female', 57, 23, 6.6146, 0.5], ['AD', 'male', 66, 26, 6.8473, 0.4], ['AD', 'male', 64, 24, 7.3029, 0.4], ['AD', 'male', 75, 22, 5.2549, 0.4], ['AD', 'male', 72, 24, 7.5746, 0.4], ['AD', 'female', 79, 22, 5.4561, 0.3], ['AD', 'male', 75, 24, 4.602, 0.3], ['AD', 'male', 85, 26, 5.9072, 0.3], ['AD', 'male', 88, 24, 3.5278, 0.2], ['AD', 'female', 79, 22, 6.4932, 0.4], ['AD', 'female', 73, 26, 4.8444, 0.3], ['AD', 'male', 76, 26, 7.1266, 0.4], ['AD', 'male', 80, 25, 5.7003, 0.3], ['AD', 'male', 66, 21, 6.294, 0.4], ['AD', 'male', 68, 26, 7.3672, 0.5], ['AD', 'male', 78, 23, 6.3474, 0.4], ['AD', 'male', 79, 21, 7.7923, 0.4], ['AD', 'female', 63, 24, 8.1589, 0.5], ['AD', 'female', 82, 23, 4.4204, 0.3], ['AD', 'male', 83, 23, 4.5284, 0.3], ['AD', 'female', 84, 20, 5.3704, 0.3], ['AD', 'male', 85, 23, 5.5241, 0.3], ['AD', 'female', 85, 20, 4.6447, 0.3], ['AD', 'male', 78, 20, 5.496, 0.3], ['AD', 'male', 73, 22, 5.5422, 0.4], ['AD', 'male', 85, 20, 6.9527, 0.4], ['AD', 'male', 71, 26, 6.8981, 0.4], ['AD', 'male', 64, 24, 5.8304, 0.4], ['AD', 'male', 60, 25, 6.7386, 0.4], ['AD', 'female', 85, 25, 5.6117, 0.0], ['AD', 'female', 70, 22, 5.6098, 0.4], ['AD', 'female', 80, 25, 6.0001, 0.4], ['AD', 'male', 76, 23, 7.3111, 0.4], ['AD', 'male', 83, 20, 5.3704, 0.4], ['AD', 'female', 70, 21, 4.7283, 0.0], ['AD', 'male', 72, 20, 5.162, 0.3], ['AD', 'male', 70, 25, 4.8836, 0.3], ['AD', 'male', 77, 25, 6.5192, 0.4], ['AD', 'male', 69, 26, 6.8947, 0.4], ['AD', 'male', 84, 21, 6.1912, 0.0], ['AD', 'male', 85, 25, 6.0879, 0.0], ['AD', 'male', 66, 25, 6.6816, 0.4], ['AD', 'male', 71, 21, 5.9885, 0.3], ['AD', 'female', 68, 23, 6.7667, 0.4], ['AD', 'male', 83, 23, 6.7347, 0.3], ['AD', 'male', 69, 23, 6.8502, 0.4], ['AD', 'male', 75, 26, 6.5483, 0.4], ['AD', 'male', 64, 21, 8.0881, 0.4], ['AD', 'male', 77, 23, 5.1941, 0.3], ['AD', 'male', 73, 25, 5.8545, 0.3], ['AD', 'female', 71, 21, 5.7883, 0.0], ['AD', 'female', 78, 23, 4.6458, 0.3], ['AD', 'female', 86, 21, 3.2761, 0.2], ['AD', 'female', 76, 26, 5.5324, 0.3], ['AD', 'female', 82, 24, 5.6162, 0.4], ['AD', 'male', 84, 24, 5.8874, 0.3], ['AD', 'male', 74, 24, 7.1712, 0.4], ['AD', 'male', 76, 26, 7.6986, 0.4], ['AD', 'male', 71, 25, 6.1578, 0.4], ['AD', 'male', 82, 21, 6.0693, 0.4], ['AD', 'female', 65, 21, 5.6251, 0.4], ['AD', 'male', 66, 24, 5.7017, 0.3], ['AD', 'male', 82, 24, 6.8208, 0.4], ['AD', 'female', 89, 26, 7.2358, 0.5], ['AD', 'male', 80, 24, 5.2094, 0.3], ['AD', 'male', 69, 23, 8.8506, 0.0], ['AD', 'male', 72, 22, 6.4372, 0.0], ['AD', 'male', 82, 20, 6.7625, 0.4], ['AD', 'male', 77, 24, 8.4504, 0.5], ['AD', 'male', 80, 26, 8.3466, 0.4], ['AD', 'female', 80, 20, 4.7074, 0.3], ['AD', 'male', 77, 25, 4.9569, 0.3], ['AD', 'male', 75, 21, 4.0782, 0.3], ['AD', 'female', 71, 21, 5.0783, 0.3], ['AD', 'female', 85, 22, 5.2218, 0.3], ['AD', 'male', 78, 22, 5.8035, 0.3], ['AD', 'male', 73, 23, 5.944, 0.4], ['AD', 'female', 83, 23, 5.2156, 0.3], ['AD', 'male', 69, 22, 5.6373, 0.0], ['CN', 'female', 78, 29, 7.5976, 0.5], ['CN', 'male', 70, 29, 6.5734, 0.4], ['CN', 'female', 72, 29, 7.6294, 0.5], ['CN', 'male', 70, 30, 8.2271, 0.6], ['CN', 'male', 88, 27, 7.4625, 0.4], ['CN', 'female', 87, 29, 6.3817, 0.0], ['CN', 'female', 80, 28, 6.164, 0.4], ['CN', 'female', 78, 30, 7.2717, 0.5], ['CN', 'female', 70, 30, 6.9189, 0.5], ['CN', 'female', 77, 27, 6.9471, 0.5], ['CN', 'female', 77, 29, 5.5541, 0.4], ['CN', 'female', 74, 30, 8.0417, 0.5], ['CN', 'male', 85, 30, 8.3722, 0.5], ['CN', 'female', 78, 30, 7.59, 0.6], ['CN', 'female', 79, 29, 7.4316, 0.6], ['CN', 'female', 73, 28, 7.2712, 0.6], ['CN', 'male', 79, 29, 6.8909, 0.4], ['CN', 'female', 72, 30, 8.3772, 0.5], ['CN', 'male', 78, 29, 7.4481, 0.5], ['CN', 'female', 71, 26, 7.4515, 0.5], ['CN', 'female', 73, 30, 7.5428, 0.5], ['CN', 'female', 75, 30, 5.6271, 0.4], ['CN', 'female', 80, 30, 6.8959, 0.5], ['CN', 'female', 70, 28, 7.2641, 0.5], ['CN', 'female', 77, 29, 7.2306, 0.5], ['CN', 'female', 77, 29, 8.0056, 0.5], ['CN', 'male', 71, 28, 8.13, 0.5], ['CN', 'female', 75, 29, 5.827, 0.4], ['CN', 'female', 72, 30, 7.0346, 0.5], ['CN', 'female', 73, 30, 8.3613, 0.5], ['CN', 'female', 82, 30, 6.6896, 0.5], ['CN', 'female', 85, 30, 8.3184, 0.5], ['CN', 'female', 70, 30, 7.3387, 0.5], ['CN', 'male', 77, 30, 7.0382, 0.0], ['CN', 'female', 79, 29, 6.1452, 0.5], ['CN', 'female', 74, 28, 7.7848, 0.6], ['CN', 'male', 73, 30, 8.1916, 0.0], ['CN', 'male', 76, 30, 7.397, 0.4], ['CN', 'female', 72, 30, 6.1355, 0.4], ['CN', 'male', 73, 28, 7.7725, 0.4], ['CN', 'male', 85, 29, 7.2625, 0.4], ['CN', 'female', 71, 30, 7.0625, 0.5], ['CN', 'female', 74, 29, 7.091, 0.6], ['CN', 'female', 73, 30, 7.1051, 0.5], ['CN', 'female', 71, 30, 7.8748, 0.5], ['CN', 'female', 86, 28, 6.4763, 0.5], ['CN', 'female', 84, 29, 7.2118, 0.5], ['CN', 'male', 71, 28, 8.8304, 0.6], ['CN', 'male', 73, 29, 8.3426, 0.5], ['CN', 'female', 73, 29, 6.8891, 0.5], ['CN', 'female', 78, 29, 7.129, 0.4], ['CN', 'female', 81, 30, 6.7583, 0.0], ['CN', 'male', 83, 30, 7.0991, 0.5], ['CN', 'male', 77, 30, 7.2001, 0.5], ['CN', 'female', 77, 30, 8.1821, 0.6], ['CN', 'male', 72, 29, 9.2772, 0.5], ['CN', 'female', 80, 30, 6.3225, 0.4], ['CN', 'female', 73, 30, 7.6311, 0.5], ['CN', 'male', 83, 30, 8.9511, 0.6], ['CN', 'male', 78, 30, 8.3127, 0.5], ['CN', 'female', 80, 30, 6.629, 0.5], ['CN', 'female', 77, 30, 6.4258, 0.5], ['CN', 'female', 79, 29, 6.3439, 0.5], ['CN', 'female', 76, 29, 7.4719, 0.5], ['CN', 'male', 72, 28, 8.6116, 0.5], ['CN', 'female', 75, 29, 6.2145, 0.4], ['CN', 'male', 70, 29, 8.5525, 0.6], ['CN', 'male', 71, 29, 8.1107, 0.5], ['CN', 'male', 78, 29, 9.8889, 0.5], ['CN', 'female', 72, 29, 7.5773, 0.0], ['CN', 'female', 79, 30, 6.3909, 0.5], ['CN', 'female', 81, 30, 6.1202, 0.4], ['CN', 'female', 80, 30, 6.2209, 0.4], ['CN', 'female', 71, 29, 7.3338, 0.5], ['CN', 'female', 75, 30, 7.4596, 0.5], ['CN', 'female', 71, 29, 6.872, 0.5], ['CN', 'male', 73, 29, 8.0684, 0.5], ['CN', 'female', 76, 29, 7.7305, 0.5], ['CN', 'female', 74, 29, 7.2845, 0.5], ['CN', 'female', 74, 30, 6.218, 0.4], ['CN', 'female', 74, 29, 8.2442, 0.5], ['CN', 'female', 90, 30, 7.9218, 0.5], ['CN', 'female', 71, 30, 6.3031, 0.4], ['CN', 'male', 81, 28, 8.0806, 0.5], ['CN', 'female', 73, 30, 8.3423, 0.5], ['CN', 'female', 78, 30, 6.9206, 0.5], ['CN', 'male', 71, 26, 7.2788, 0.5], ['CN', 'female', 71, 30, 7.0234, 0.5], ['CN', 'female', 77, 29, 7.4918, 0.5], ['CN', 'male', 74, 29, 7.7275, 0.5], ['CN', 'male', 87, 30, 7.2171, 0.4], ['CN', 'male', 73, 29, 8.9555, 0.5], ['CN', 'male', 71, 30, 9.0667, 0.6], ['CN', 'male', 63, 29, 5.8023, 0.4], ['CN', 'male', 75, 29, 8.3704, 0.5], ['CN', 'male', 83, 29, 8.5736, 0.5], ['CN', 'male', 65, 30, 7.6141, 0.5], ['CN', 'female', 85, 26, 6.3933, 0.5], ['CN', 'female', 78, 30, 7.4172, 0.0], ['CN', 'male', 72, 30, 7.7455, 0.5], ['CN', 'female', 77, 30, 7.9834, 0.5], ['CN', 'male', 84, 29, 6.4938, 0.4], ['CN', 'female', 86, 29, 6.2579, 0.5], ['CN', 'male', 71, 25, 7.6353, 0.4], ['CN', 'female', 77, 30, 6.6813, 0.4], ['CN', 'male', 60, 30, 8.5485, 0.5], ['CN', 'female', 73, 29, 5.9645, 0.4], ['CN', 'male', 75, 28, 7.0826, 0.4], ['CN', 'female', 78, 30, 6.3218, 0.4], ['CN', 'male', 66, 28, 7.0854, 0.5], ['CN', 'female', 76, 28, 6.5768, 0.4], ['CN', 'female', 78, 29, 6.6906, 0.0], ['CN', 'male', 78, 28, 7.9137, 0.5], ['CN', 'female', 78, 30, 7.2606, 0.0], ['CN', 'female', 76, 29, 7.5171, 0.5], ['CN', 'female', 76, 30, 6.4708, 0.4], ['CN', 'male', 80, 30, 7.9119, 0.5], ['CN', 'female', 72, 29, 7.3101, 0.5], ['CN', 'male', 74, 28, 8.2758, 0.5], ['CN', 'female', 76, 30, 5.377, 0.0], ['CN', 'male', 77, 30, 7.3989, 0.5], ['CN', 'male', 86, 29, 6.9118, 0.4], ['CN', 'female', 76, 30, 9.0153, 0.5], ['CN', 'female', 71, 29, 9.0981, 0.5], ['CN', 'male', 85, 28, 7.3781, 0.4], ['CN', 'female', 76, 30, 8.7288, 0.5], ['CN', 'female', 71, 30, 8.745, 0.6], ['CN', 'male', 73, 30, 8.0511, 0.5], ['CN', 'male', 73, 29, 7.2505, 0.0], ['CN', 'male', 78, 29, 8.1268, 0.5], ['CN', 'male', 72, 30, 7.6625, 0.5], ['CN', 'male', 71, 29, 8.1211, 0.4], ['CN', 'male', 73, 30, 7.3908, 0.4], ['CN', 'male', 74, 28, 8.6893, 0.5], ['CN', 'male', 76, 28, 7.1921, 0.4], ['CN', 'male', 76, 30, 8.8535, 0.5], ['CN', 'female', 73, 29, 7.1408, 0.5], ['CN', 'female', 86, 27, 7.2208, 0.5], ['CN', 'male', 70, 30, 10.2793, 0.6], ['CN', 'male', 71, 30, 7.6769, 0.5], ['CN', 'female', 72, 28, 8.0985, 0.5], ['CN', 'female', 72, 30, 8.5385, 0.5], ['CN', 'male', 76, 29, 7.357, 0.4], ['CN', 'male', 72, 30, 7.5578, 0.5], ['CN', 'male', 80, 29, 6.0978, 0.3], ['CN', 'female', 71, 29, 7.9634, 0.5], ['CN', 'male', 74, 29, 8.2272, 0.5], ['CN', 'male', 63, 28, 8.8332, 0.5], ['CN', 'female', 72, 29, 7.2133, 0.5], ['CN', 'female', 89, 30, 7.3176, 0.5], ['CN', 'female', 70, 28, 7.1183, 0.5], ['CN', 'female', 81, 30, 6.3888, 0.4], ['CN', 'female', 73, 30, 5.931, 0.4], ['CN', 'male', 85, 30, 7.6848, 0.4], ['CN', 'male', 79, 30, 8.9296, 0.5], ['CN', 'male', 76, 29, 7.89, 0.5], ['CN', 'male', 85, 28, 8.3623, 0.5], ['CN', 'male', 74, 30, 8.712, 0.5], ['CN', 'male', 71, 29, 7.2844, 0.5], ['CN', 'female', 73, 29, 5.9914, 0.4], ['CN', 'female', 74, 28, 7.7295, 0.5], ['CN', 'male', 75, 30, 6.5789, 0.5], ['CN', 'male', 73, 30, 7.1507, 0.5], ['CN', 'female', 78, 29, 7.1403, 0.5], ['CN', 'male', 71, 27, 7.2982, 0.4], ['CN', 'male', 77, 30, 7.2677, 0.4], ['CN', 'male', 78, 30, 6.9227, 0.4], ['CN', 'male', 75, 29, 7.4666, 0.4], ['CN', 'male', 76, 30, 7.6737, 0.5], ['CN', 'male', 74, 27, 8.372, 0.5], ['CN', 'female', 72, 29, 7.6204, 0.5], ['CN', 'female', 72, 30, 7.1247, 0.5], ['CN', 'male', 74, 29, 8.8885, 0.5], ['CN', 'female', 62, 30, 7.9368, 0.5], ['CN', 'male', 77, 30, 7.2965, 0.4], ['CN', 'male', 73, 30, 6.3362, 0.4], ['CN', 'male', 78, 28, 7.2749, 0.5], ['CN', 'male', 78, 29, 8.6782, 0.5], ['CN', 'male', 81, 29, 7.3922, 0.5], ['CN', 'male', 80, 28, 8.0033, 0.0], ['CN', 'male', 85, 30, 7.6672, 0.4], ['CN', 'male', 80, 29, 6.9071, 0.4], ['CN', 'female', 82, 29, 7.7841, 0.5]]\n"
     ]
    }
   ],
   "source": [
    "\"\"\"\n",
    "\n",
    "        Travail sur Alzheimer \n",
    "        1 - Charger le fichier, le \"nettoyer\", le mettre en forme exploitable\n",
    "        2 - faire des calculs sur ces données (min, max, moyenne)\n",
    "        \n",
    "\"\"\"\n",
    "fichierAlzheimer = open(\"Alzheimer.csv\",\"r\")\n",
    "donnees_csv = fichierAlzheimer.readlines()\n",
    "fichierAlzheimer.close()\n",
    "\n",
    "#print(len(donnees_csv))0\n",
    "#print(type(donnees_csv[0]))\n",
    "\n",
    "# On va séparer les chaînes de données en les mettant dans des listes\n",
    "\n",
    "donnees_exploitables = []\n",
    "for entrees in donnees_csv: # la variable entree est de type string\n",
    "    lst_donnees_eclatees = entrees.split(\";\") # on peut donc la séparer avec split(), on obtient une liste par ligne\n",
    "    donnees_exploitables.append(lst_donnees_eclatees)\n",
    "# donnees_exploitable est une liste contenant des listes, une pour chaque ligne\n",
    "\n",
    "#print(donnees_exploitables)\n",
    "\n",
    "# Une autre manière de faire avec une comprehension list\n",
    "donnees_exploitables2 = [entrees.split(\";\") for entrees in donnees_csv]\n",
    "#print(donnees_exploitables2)\n",
    "\n",
    "# on peut supprimer la première ligne\n",
    "donnees_exploitables.pop(0)\n",
    "#print(donnees_exploitables)\n",
    "\n",
    "# on peut transformer les strings correspondant aux nombres en integer et float\n",
    "for ligne in donnees_exploitables:\n",
    "    ligne[2] = int(ligne[2]) \n",
    "    ligne[3] = int(ligne[3])\n",
    "    ligne[4] = float(ligne[4])\n",
    "    ligne[5] = float(ligne[5][:-2]) # watch out ! on supprime le \\n avant de convertir en float\n",
    "#print(donnees_exploitables)\n",
    "\n",
    "# Maintenant donnees_exploitables contient vraiment les données exploitables !"
   ]
  },
  {
   "cell_type": "markdown",
   "metadata": {},
   "source": [
    "### Ecrire une fonction calcul_stat(numero_colonne) qui prend en argument le numéro d'une colonne et renvoie un tuple (min, moyenne, max) lorsque la donnée traitée est un nombre."
   ]
  },
  {
   "cell_type": "code",
   "execution_count": 1,
   "metadata": {},
   "outputs": [],
   "source": [
    "def calcul_stat(numero_colone:int):\n",
    "    \"\"\" Calcul et renvoie (min,moy, max) si la valeur est numerique sinon\"\"\"\n",
    "    return"
   ]
  }
 ],
 "metadata": {
  "kernelspec": {
   "display_name": "Python 3",
   "language": "python",
   "name": "python3"
  },
  "language_info": {
   "codemirror_mode": {
    "name": "ipython",
    "version": 3
   },
   "file_extension": ".py",
   "mimetype": "text/x-python",
   "name": "python",
   "nbconvert_exporter": "python",
   "pygments_lexer": "ipython3",
   "version": "3.7.3"
  }
 },
 "nbformat": 4,
 "nbformat_minor": 4
}
