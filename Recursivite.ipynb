{
  "nbformat": 4,
  "nbformat_minor": 0,
  "metadata": {
    "colab": {
      "name": "Recursivite.ipynb",
      "provenance": [],
      "collapsed_sections": [],
      "authorship_tag": "ABX9TyO0hXMACHvjQbMPsD7Gcz1t",
      "include_colab_link": true
    },
    "kernelspec": {
      "name": "python3",
      "display_name": "Python 3"
    }
  },
  "cells": [
    {
      "cell_type": "markdown",
      "metadata": {
        "id": "view-in-github",
        "colab_type": "text"
      },
      "source": [
        "<a href=\"https://colab.research.google.com/github/LSMISN/NSI/blob/master/Recursivite.ipynb\" target=\"_parent\"><img src=\"https://colab.research.google.com/assets/colab-badge.svg\" alt=\"Open In Colab\"/></a>"
      ]
    },
    {
      "cell_type": "markdown",
      "metadata": {
        "id": "SvzYMmIE13wK"
      },
      "source": [
        "# Notion de récursivité\n",
        "\n",
        "## Introduction\n",
        "\n",
        "### 1- Quelques exemples issues des mathématiques\n",
        "\n",
        "#### 1-1 Somme des entiers\n",
        "\n",
        "Il s'agit ici d'écrire un programme qui permette de calculer la somme des n premiers entiers :\n",
        "\n",
        "> S(n) = 0 + 1 + 2 + 3 + ... + n"
      ]
    },
    {
      "cell_type": "code",
      "metadata": {
        "id": "LeXgJ_pn1bAJ",
        "outputId": "56a4e3c8-1490-4d4c-fd0b-a89ad239f536",
        "colab": {
          "base_uri": "https://localhost:8080/"
        }
      },
      "source": [
        "\"\"\" A titre d'exercice, écrire la fonction somme(n) \n",
        "qui permette de calculer cette somme pour \n",
        "un paramètre n donné en paramètre \"\"\"\n",
        "\n",
        "def somme(n):\n",
        "  s = 0\n",
        "  for i in range(n+1):\n",
        "    s = s + i\n",
        "  return s\n",
        "\n",
        "print(somme(3)) # somme(3) = 0 + 1 + 2 + 3 = 6\n",
        "print(somme(4)) # somme(4) = 0 + 1 + 2 + 3 + 4 = 10"
      ],
      "execution_count": null,
      "outputs": [
        {
          "output_type": "stream",
          "text": [
            "6\n",
            "10\n"
          ],
          "name": "stdout"
        }
      ]
    },
    {
      "cell_type": "markdown",
      "metadata": {
        "id": "FZKwLR099YFm"
      },
      "source": [
        "Pour une personne familière avec la programmation, cette manière de décrire et coder  la fonction mathématique demandée est naturelle. Cependant, cette écriture n'a pas de relation directe avec S(n) = 0 + 1 + ... + n.\n",
        "\n",
        "Une manière de remédier à cela serait d'une part de ré-écrire la définition de la fonction somme de manière plus académique :\n",
        "\n",
        "$$\\Bigg\\{\n",
        "  \\begin{eqnarray*}\n",
        "  S(n) = 0 \\ si \\ n = 0, \\\\\n",
        "  S(n) = n + S(n-1) \\ si \\ n>0.\n",
        "  \\end{eqnarray*}\n",
        "$$\n",
        "\n",
        "La fonction S(n) est définit par récurrence c'est-à-dire que dans l'expression de S(n) on trouve la fonction elle-même mais appliquée sur un paramètre différent n-1.\n",
        "\n",
        "On peut écrire cette fonction en Python quasiment directement"
      ]
    },
    {
      "cell_type": "code",
      "metadata": {
        "id": "E-ykxn9gCwEo",
        "outputId": "f034195f-7527-4081-ef34-e170cc757025",
        "colab": {
          "base_uri": "https://localhost:8080/"
        }
      },
      "source": [
        "# écriture de la fonction somme(n)\n",
        "# à partir de sa formulation mathématique\n",
        "\n",
        "def somme2(n):\n",
        "  if n == 0 :\n",
        "    return 0\n",
        "  else:\n",
        "    return n + somme2(n-1)\n",
        "\n",
        "print(somme2(3)) # donne 6\n",
        "print(somme2(4)) # donne 10"
      ],
      "execution_count": null,
      "outputs": [
        {
          "output_type": "stream",
          "text": [
            "6\n",
            "10\n"
          ],
          "name": "stdout"
        }
      ]
    },
    {
      "cell_type": "markdown",
      "metadata": {
        "id": "blfayyWWDhZ-"
      },
      "source": [
        "On constate qu'à l'instar de la définition, le code de la fonction somme2(n) s'appelle elle-même dans le corps de sa définition.\n",
        "\n",
        "On appelle cela la <span style=\"font-size: 14px;color: red\">Récursivité</span>\n",
        "\n",
        "On peut constater sur cet exemple simple que la fonction tourne plusieurs fois en **boucle**, cependant il n'apparait pas dans le code de structure de boucle explicite (for, while)\n",
        "\n",
        "Cette opération de récursivité bien qu'elle soit élégante au niveau de l'écriture pourra dans certain algorithme amener le programme à boucler indéfiniment. C'est pour cela que la définition des fonctions qui à priori pourront être écrites de récursivement sont accompagnées très souvent :\n",
        "- d'au moins un cas de base dans la définition : ici S(0) = 0\n",
        "- suivi d'un cas récursif\n",
        "\n",
        "Remarque : On parle de récursivité terminale, lorsque le cas récursif apparait à la fin du code.\n",
        "\n",
        "Les cas de base serviront la plupart du temps de conditions d'arrêt."
      ]
    },
    {
      "cell_type": "markdown",
      "metadata": {
        "id": "dM_dXnfII4Hr"
      },
      "source": [
        "#### 1-2 Calcul de la puissance\n",
        "\n",
        "On veut calculer \n",
        "\n",
        "$puissance(x,n) = x^n = x*x*x*...$ (n fois)\n",
        "\n",
        "Comment définir par récurrence cette fonction ?\n",
        "\n",
        "On peut par exemple écrire :\n",
        "\n",
        "$$puissance(x,n) = \\Bigg\\{\n",
        "  \\begin{eqnarray*}\n",
        "  1 \\ si \\ n = 0, \\\\\n",
        "  x * puissance(x,n-1) \\ si \\ n>0.\n",
        "  \\end{eqnarray*}\n",
        "$$\n",
        "\n",
        "Exercice : écrire une version itérative de puissance, puis sa version recursive"
      ]
    },
    {
      "cell_type": "code",
      "metadata": {
        "id": "23zLWjjDJGv1",
        "outputId": "c43ea2d6-17ce-464e-bcb8-2edd43370e7b",
        "colab": {
          "base_uri": "https://localhost:8080/"
        }
      },
      "source": [
        "def puissance(x,n):\n",
        "  if n == 0:\n",
        "    return 1\n",
        "  elif n == 1:\n",
        "    return x\n",
        "  else:\n",
        "    p=1\n",
        "    for i in range(n):\n",
        "      p=p*x\n",
        "    return p\n",
        "\n",
        "def puissance_rec(x,n):\n",
        "  if n == 0:\n",
        "    return 1\n",
        "  else:\n",
        "    return x * puissance_rec(x, n-1)\n",
        "\n",
        "print(puissance(2,0))\n",
        "print(puissance(2,1))\n",
        "print(puissance(2,3))\n",
        "print(puissance_rec(2,0))\n",
        "print(puissance_rec(2,1))\n",
        "print(puissance_rec(2,3))"
      ],
      "execution_count": null,
      "outputs": [
        {
          "output_type": "stream",
          "text": [
            "1\n",
            "2\n",
            "8\n",
            "1\n",
            "2\n",
            "8\n"
          ],
          "name": "stdout"
        }
      ]
    },
    {
      "cell_type": "markdown",
      "metadata": {
        "id": "HOMoM-KnJAwh"
      },
      "source": [
        "#### 1-3 Calcul de la factorielle\n",
        "\n",
        "la fonction factorielle d'un entier naturel n est définie par :\n",
        "\n",
        "$n! = n * (n-1) * (n-2) * ...*1$ pour tout entier non nul et\n",
        "\n",
        "$0!=1$ pour n=0\n",
        "\n",
        "Écrire la relation sous forme de récurrence, implémenter et tester la fonction sous sa forme récursive."
      ]
    },
    {
      "cell_type": "code",
      "metadata": {
        "id": "RrYx5uvjJHV5",
        "outputId": "d9799db9-ce85-40e2-b947-9c16ae99e0bb",
        "colab": {
          "base_uri": "https://localhost:8080/"
        }
      },
      "source": [
        "\"\"\" Fonction factorielle recursive \"\"\"\n",
        "def factorielle(n):\n",
        "  if n == 0:\n",
        "    return 1\n",
        "  else:\n",
        "    return n*factorielle(n-1)\n",
        "\n",
        "print(factorielle(1))\n",
        "print(factorielle(3))"
      ],
      "execution_count": null,
      "outputs": [
        {
          "output_type": "stream",
          "text": [
            "1\n",
            "6\n"
          ],
          "name": "stdout"
        }
      ]
    },
    {
      "cell_type": "markdown",
      "metadata": {
        "id": "xPJP7TB8I-Z5"
      },
      "source": [
        "#### 1-4 La suite de Fibonacci\n",
        "\n",
        "En mathématiques, la suite de Fibonacci est une suite d'entiers dans laquelle chaque terme est la somme des deux termes qui le précèdent. Elle commence par les termes 0 et 1 Les termes de cette suite sont appelés nombres de Fibonacci.\n",
        "\n",
        "[Page Wikipédia sur la suite de Fibonacci](https://fr.wikipedia.org/wiki/Suite_de_Fibonacci)\n",
        "\n",
        "La fonction qui renvoie la valeur du nombre de Fibonacci de rang n est définie comme :\n",
        "\n",
        "$$fibonacci(n) = \\Bigg\\{\n",
        "  \\begin{eqnarray*}\n",
        "  0 \\ si \\ n = 0, \\\\\n",
        "  1 \\ si \\ n = 1, \\\\\n",
        "  fibonacci(n-1) + fibonacci(n-2) \\ si \\ n>1.\n",
        "  \\end{eqnarray*}\n",
        "$$\n",
        "\n",
        "Écrire la fonction fibo(n) qui renvoie le nombre de la suite de Fibonacci de rang n "
      ]
    },
    {
      "cell_type": "code",
      "metadata": {
        "id": "5Y0Sq_h5JIjo",
        "outputId": "59bc9fb7-c837-4d50-dd14-217db99d06eb",
        "colab": {
          "base_uri": "https://localhost:8080/"
        }
      },
      "source": [
        "\"\"\" Renvoye le nombre de la suite de Fibonacci de rang n\"\"\"\n",
        "def fibo(n):\n",
        "  if n == 0:\n",
        "    return 0\n",
        "  elif n == 1:\n",
        "    return 1\n",
        "  else:\n",
        "    return fibo(n-1)+fibo(n-2)\n",
        "\n",
        "print(fibo(4)) # doit renvoyer 3\n",
        "print(fibo(7)) # doit renvoyer 13"
      ],
      "execution_count": null,
      "outputs": [
        {
          "output_type": "stream",
          "text": [
            "3\n",
            "13\n"
          ],
          "name": "stdout"
        }
      ]
    },
    {
      "cell_type": "markdown",
      "metadata": {
        "id": "RTLEcx5-nnkA"
      },
      "source": [
        "L'arbre des appels de fibo(4) est le suivant :\n",
        "![image.png](data:image/png;base64,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)"
      ]
    },
    {
      "cell_type": "markdown",
      "metadata": {
        "id": "bJIcdGlSI4E6"
      },
      "source": [
        "On constate que l'implémentation par récursivité est conforme à la définition donnée mathématiquement. "
      ]
    },
    {
      "cell_type": "markdown",
      "metadata": {
        "id": "12rV-EVHnxyt"
      },
      "source": [
        "On constate que certains calculs (case de même couleurs) sont effectuées plusieurs fois, ce qui fait perdre du temps et de la performance de calcul.\n",
        "\n",
        "Une solution est de mémoriser les calculs au fur à mesure dans une table et que le code aille chercher la valeur directement dans la table si elle a été déjà stockée. On appelle cela la **Memoisation**. Il s'agit d'une technique de programmation dite dynamique : on memorise les résultats au fur à mesure pour les ré-utiliser plus tard, ce qui réduit le temps de calcul."
      ]
    },
    {
      "cell_type": "markdown",
      "metadata": {
        "id": "rTD4kVqnIKbo"
      },
      "source": [
        "### CONCLUSION\n",
        "\n",
        "Dans les principes généraux pour écrire une fonction récursivement on retiendra :\n",
        "- la fonction récursive doit contenir une condition d'arrêt\n",
        "- les paramètres passés dans les appels récursifs doivent être différents de ceux passés en argument,\n",
        "- après un nombre fini d'appels, la (ou les) valeur(s) passées en paramètres doivent satisfaires la condition d'arrêt.\n",
        "\n",
        "Tout programme codé sous forme récursive peut l'être de manière itérative.\n",
        "\n",
        "Les appels successifs de la fonction elle-même s'empile au fur à mesure dans la pile d'exécution. Ceci peut-être un désavantage dans la rapidité de traitement et dans la quantité de mémoire utilisée. En Python, tout le contexte d'exécution est sauvegardé dans la pile à chaque appel, ce qui peut occasionné des **dépassements de pile (StackOverflow)**.\n",
        "Le langage CAML utilise la récursivité de manière intensive, les appels sont alors optimisés. La complexité algorithmique doit donc être évaluée indépendamment du langage utilisé. "
      ]
    }
  ]
}