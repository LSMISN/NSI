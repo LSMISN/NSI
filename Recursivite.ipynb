{
  "nbformat": 4,
  "nbformat_minor": 0,
  "metadata": {
    "colab": {
      "name": "Recursivite.ipynb",
      "provenance": [],
      "collapsed_sections": [],
      "authorship_tag": "ABX9TyOA+X7AqXp49lRcYTf+aUKb",
      "include_colab_link": true
    },
    "kernelspec": {
      "name": "python3",
      "display_name": "Python 3"
    }
  },
  "cells": [
    {
      "cell_type": "markdown",
      "metadata": {
        "id": "view-in-github",
        "colab_type": "text"
      },
      "source": [
        "<a href=\"https://colab.research.google.com/github/LSMISN/NSI/blob/master/Recursivite.ipynb\" target=\"_parent\"><img src=\"https://colab.research.google.com/assets/colab-badge.svg\" alt=\"Open In Colab\"/></a>"
      ]
    },
    {
      "cell_type": "markdown",
      "metadata": {
        "id": "SvzYMmIE13wK"
      },
      "source": [
        "# Notion de récursivité\n",
        "\n",
        "## Introduction\n",
        "\n",
        "### 1- Quelques exemples issues des mathématiques\n",
        "\n",
        "#### 1-1 Somme des entiers\n",
        "\n",
        "Il s'agit ici d'écrire un programme qui permette de calculer la somme des n premiers entiers :\n",
        "\n",
        "> S(n) = 0 + 1 + 2 + 3 + ... + n"
      ]
    },
    {
      "cell_type": "code",
      "metadata": {
        "id": "LeXgJ_pn1bAJ",
        "outputId": "56a4e3c8-1490-4d4c-fd0b-a89ad239f536",
        "colab": {
          "base_uri": "https://localhost:8080/"
        }
      },
      "source": [
        "\"\"\" A titre d'exercice, écrire la fonction somme(n) \n",
        "qui permette de calculer cette somme pour \n",
        "un paramètre n donné en paramètre \"\"\"\n",
        "\n",
        "def somme(n):\n",
        "  s = 0\n",
        "  for i in range(n+1):\n",
        "    s = s + i\n",
        "  return s\n",
        "\n",
        "print(somme(3)) # somme(3) = 0 + 1 + 2 + 3 = 6\n",
        "print(somme(4)) # somme(4) = 0 + 1 + 2 + 3 + 4 = 10"
      ],
      "execution_count": null,
      "outputs": [
        {
          "output_type": "stream",
          "text": [
            "6\n",
            "10\n"
          ],
          "name": "stdout"
        }
      ]
    },
    {
      "cell_type": "markdown",
      "metadata": {
        "id": "FZKwLR099YFm"
      },
      "source": [
        "Pour une personne familière avec la programmation, cette manière de décrire et coder  la fonction mathématique demandée est naturelle. Cependant, cette écriture n'a pas de relation directe avec S(n) = 0 + 1 + ... + n.\n",
        "\n",
        "Une manière de remédier à cela serait d'une part de ré-écrire la définition de la fonction somme de manière plus académique :\n",
        "\n",
        "$$\\Bigg\\{\n",
        "  \\begin{eqnarray*}\n",
        "  S(n) = 0 \\ si \\ n = 0, \\\\\n",
        "  S(n) = n + S(n-1) \\ si \\ n>0.\n",
        "  \\end{eqnarray*}\n",
        "$$\n",
        "\n",
        "La fonction S(n) est définit par récurrence c'est-à-dire que dans l'expression de S(n) on trouve la fonction elle-même mais appliquée sur un paramètre différent n-1.\n",
        "\n",
        "On peut écrire cette fonction en Python quasiment directement"
      ]
    },
    {
      "cell_type": "code",
      "metadata": {
        "id": "E-ykxn9gCwEo",
        "outputId": "f034195f-7527-4081-ef34-e170cc757025",
        "colab": {
          "base_uri": "https://localhost:8080/"
        }
      },
      "source": [
        "# écriture de la fonction somme(n)\n",
        "# à partir de sa formulation mathématique\n",
        "\n",
        "def somme2(n):\n",
        "  if n == 0 :\n",
        "    return 0\n",
        "  else:\n",
        "    return n + somme2(n-1)\n",
        "\n",
        "print(somme2(3)) # donne 6\n",
        "print(somme2(4)) # donne 10"
      ],
      "execution_count": null,
      "outputs": [
        {
          "output_type": "stream",
          "text": [
            "6\n",
            "10\n"
          ],
          "name": "stdout"
        }
      ]
    },
    {
      "cell_type": "markdown",
      "metadata": {
        "id": "blfayyWWDhZ-"
      },
      "source": [
        "On constate qu'à l'instar de la définition, le code de la fonction somme2(n) s'appelle elle-même dans le corps de sa définition.\n",
        "\n",
        "On appelle cela la <span style=\"font-size: 14px;color: red\">Récursivité</span>\n",
        "\n",
        "On peut constater sur cet exemple simple que la fonction tourne plusieurs fois en **boucle**, cependant il n'apparait pas dans le code de structure de boucle explicite (for, while)\n",
        "\n",
        "Cette opération de récursivité bien qu'elle soit élégante au niveau de l'écriture pourra dans certain algorithme amener le programme à boucler indéfiniment. C'est pour cela que la définition des fonctions qui à priori pourront être écrites de récursivement sont accompagnées très souvent :\n",
        "- d'au moins un cas de base dans la définition : ici S(0) = 0\n",
        "- suivi d'un cas récursif\n",
        "\n",
        "Remarque : On parle de récursivité terminale, lorsque le cas récursif apparait à la fin du code.\n",
        "\n",
        "Les cas de base serviront la plupart du temps de conditions d'arrêt."
      ]
    },
    {
      "cell_type": "markdown",
      "metadata": {
        "id": "dM_dXnfII4Hr"
      },
      "source": [
        "#### 1-2 Calcul de la puissance\n",
        "\n",
        "On veut calculer \n",
        "\n",
        "$puissance(x,n) = x^n = x*x*x*...$ (n fois)\n",
        "\n",
        "Comment définir par récurrence cette fonction ?\n",
        "\n",
        "On peut par exemple écrire :\n",
        "\n",
        "$$puissance(x,n) = \\Bigg\\{\n",
        "  \\begin{eqnarray*}\n",
        "  1 \\ si \\ n = 0, \\\\\n",
        "  x * puissance(x,n-1) \\ si \\ n>0.\n",
        "  \\end{eqnarray*}\n",
        "$$\n",
        "\n",
        "Exercice : écrire une version itérative de puissance, puis sa version recursive"
      ]
    },
    {
      "cell_type": "code",
      "metadata": {
        "id": "23zLWjjDJGv1",
        "outputId": "c43ea2d6-17ce-464e-bcb8-2edd43370e7b",
        "colab": {
          "base_uri": "https://localhost:8080/"
        }
      },
      "source": [
        "def puissance(x,n):\n",
        "  if n == 0:\n",
        "    return 1\n",
        "  elif n == 1:\n",
        "    return x\n",
        "  else:\n",
        "    p=1\n",
        "    for i in range(n):\n",
        "      p=p*x\n",
        "    return p\n",
        "\n",
        "def puissance_rec(x,n):\n",
        "  if n == 0:\n",
        "    return 1\n",
        "  else:\n",
        "    return x * puissance_rec(x, n-1)\n",
        "\n",
        "print(puissance(2,0))\n",
        "print(puissance(2,1))\n",
        "print(puissance(2,3))\n",
        "print(puissance_rec(2,0))\n",
        "print(puissance_rec(2,1))\n",
        "print(puissance_rec(2,3))"
      ],
      "execution_count": null,
      "outputs": [
        {
          "output_type": "stream",
          "text": [
            "1\n",
            "2\n",
            "8\n",
            "1\n",
            "2\n",
            "8\n"
          ],
          "name": "stdout"
        }
      ]
    },
    {
      "cell_type": "markdown",
      "metadata": {
        "id": "HOMoM-KnJAwh"
      },
      "source": [
        "#### 1-3 Calcul de la factorielle\n",
        "\n",
        "la fonction factorielle d'un entier naturel n est définie par :\n",
        "\n",
        "$n! = n * (n-1) * (n-2) * ...*1$ pour tout entier non nul et\n",
        "\n",
        "$0!=1$ pour n=0\n",
        "\n",
        "Écrire la relation sous forme de récurrence, implémenter et tester la fonction sous sa forme récursive."
      ]
    },
    {
      "cell_type": "code",
      "metadata": {
        "id": "RrYx5uvjJHV5",
        "outputId": "d9799db9-ce85-40e2-b947-9c16ae99e0bb",
        "colab": {
          "base_uri": "https://localhost:8080/"
        }
      },
      "source": [
        "\"\"\" Fonction factorielle recursive \"\"\"\n",
        "def factorielle(n):\n",
        "  if n == 0:\n",
        "    return 1\n",
        "  else:\n",
        "    return n*factorielle(n-1)\n",
        "\n",
        "print(factorielle(1))\n",
        "print(factorielle(3))"
      ],
      "execution_count": 1,
      "outputs": [
        {
          "output_type": "stream",
          "text": [
            "1\n",
            "6\n"
          ],
          "name": "stdout"
        }
      ]
    },
    {
      "cell_type": "markdown",
      "metadata": {
        "id": "xPJP7TB8I-Z5"
      },
      "source": [
        "#### 1-4 La suite de Fibonacci\n",
        "\n",
        "En mathématiques, la suite de Fibonacci est une suite d'entiers dans laquelle chaque terme est la somme des deux termes qui le précèdent. Elle commence par les termes 0 et 1 Les termes de cette suite sont appelés nombres de Fibonacci.\n",
        "\n",
        "[Page Wikipédia sur la suite de Fibonacci](https://fr.wikipedia.org/wiki/Suite_de_Fibonacci)\n",
        "\n",
        "La fonction qui renvoie la valeur du nombre de Fibonacci de rang n est définie comme :\n",
        "\n",
        "$$fibonacci(n) = \\Bigg\\{\n",
        "  \\begin{eqnarray*}\n",
        "  0 \\ si \\ n = 0, \\\\\n",
        "  1 \\ si \\ n = 1, \\\\\n",
        "  fibonacci(n-1) + fibonacci(n-2) \\ si \\ n>1.\n",
        "  \\end{eqnarray*}\n",
        "$$\n",
        "\n",
        "Écrire la fonction fibo(n) qui renvoie le nombre de la suite de Fibonacci de rang n "
      ]
    },
    {
      "cell_type": "code",
      "metadata": {
        "id": "5Y0Sq_h5JIjo",
        "outputId": "59bc9fb7-c837-4d50-dd14-217db99d06eb",
        "colab": {
          "base_uri": "https://localhost:8080/"
        }
      },
      "source": [
        "\"\"\" Renvoye le nombre de la suite de Fibonacci de rang n\"\"\"\n",
        "def fibo(n):\n",
        "  if n == 0:\n",
        "    return 0\n",
        "  elif n == 1:\n",
        "    return 1\n",
        "  else:\n",
        "    return fibo(n-1)+fibo(n-2)\n",
        "\n",
        "print(fibo(4)) # doit renvoyer 3\n",
        "print(fibo(7)) # doit renvoyer 13"
      ],
      "execution_count": 12,
      "outputs": [
        {
          "output_type": "stream",
          "text": [
            "3\n",
            "13\n"
          ],
          "name": "stdout"
        }
      ]
    },
    {
      "cell_type": "markdown",
      "metadata": {
        "id": "bJIcdGlSI4E6"
      },
      "source": [
        ""
      ]
    },
    {
      "cell_type": "markdown",
      "metadata": {
        "id": "rTD4kVqnIKbo"
      },
      "source": [
        "Dans les principes généraux pour écrire une fonction récursivement on retiendra :\n",
        "- la fonction récursive doit contenir une condition d'arrêt\n",
        "- les paramètres passés dans les appels récursifs doivent être différents de ceux passés en argument,\n",
        "- après un nombre fini d'appels, la (ou les) valeur(s) passées en paramètres doivent satisfaires la condition d'arrêt"
      ]
    }
  ]
}