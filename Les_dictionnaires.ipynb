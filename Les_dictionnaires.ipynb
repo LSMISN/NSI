{
  "nbformat": 4,
  "nbformat_minor": 0,
  "metadata": {
    "kernelspec": {
      "display_name": "Python 3",
      "language": "python",
      "name": "python3"
    },
    "language_info": {
      "codemirror_mode": {
        "name": "ipython",
        "version": 3
      },
      "file_extension": ".py",
      "mimetype": "text/x-python",
      "name": "python",
      "nbconvert_exporter": "python",
      "pygments_lexer": "ipython3",
      "version": "3.7.3"
    },
    "colab": {
      "name": "Les dictionnaires.ipynb",
      "provenance": [],
      "include_colab_link": true
    }
  },
  "cells": [
    {
      "cell_type": "markdown",
      "metadata": {
        "id": "view-in-github",
        "colab_type": "text"
      },
      "source": [
        "<a href=\"https://colab.research.google.com/github/LSMISN/NSI/blob/master/Les_dictionnaires.ipynb\" target=\"_parent\"><img src=\"https://colab.research.google.com/assets/colab-badge.svg\" alt=\"Open In Colab\"/></a>"
      ]
    },
    {
      "cell_type": "markdown",
      "metadata": {
        "id": "U7HRvuJ8Slmg",
        "colab_type": "text"
      },
      "source": [
        "# Les dictionnaires\n",
        "\n",
        "C'est une structure de donnée qui en Python est mutable (les éléments la composant peuvent être modifiés), itérable (on pourra parcourir la structure avec une boucle for <objet> in <dictionnaire>, et même utiliser les comprehensions pour les construires).\n",
        "    \n",
        "La structure est un tableau associatif, non séquentiel : Chaque élément est une association \"clé : \"valeur\", dont l'ordre d'apparition n'a pas d'importance.\n",
        "    \n",
        "On accède à la valeur d'une donnée en utilisant sa clé comme identifiant."
      ]
    },
    {
      "cell_type": "markdown",
      "metadata": {
        "id": "n0iLGY2dSlmt",
        "colab_type": "text"
      },
      "source": [
        "On veut par exemple mémoriser le tableau des ages suivant :\n",
        "\n",
        "|Prénom|Age|\n",
        "|:-----|:------|\n",
        "|Carlos|15|\n",
        "|Angele|18|\n",
        "|Max|12|\n",
        "|Fred|24|\n",
        "|Anais|18|\n",
        "\n",
        "On va se servir du prénom comme clé d'accès à la donnée age associée. Les accolades {} sont utilisées pour créer un dictionnaire."
      ]
    },
    {
      "cell_type": "code",
      "metadata": {
        "id": "30XMrD9FSlm4",
        "colab_type": "code",
        "colab": {}
      },
      "source": [
        "ages = {\"Carlos\":15, \"Angele\":18, \"Max\":12, \"Fred\":24, \"Anais\":18}"
      ],
      "execution_count": 0,
      "outputs": []
    },
    {
      "cell_type": "markdown",
      "metadata": {
        "id": "JeczsViaSlnY",
        "colab_type": "text"
      },
      "source": [
        "On peut également utiliser la méthode dict() pour créer un dictionnaire mais la syntaxe est différente"
      ]
    },
    {
      "cell_type": "code",
      "metadata": {
        "id": "8HTzv-yFSlnd",
        "colab_type": "code",
        "colab": {}
      },
      "source": [
        "identite = dict(name = \"John\", age = 36, country = \"Norway\", job = \"devOp\")"
      ],
      "execution_count": 0,
      "outputs": []
    },
    {
      "cell_type": "markdown",
      "metadata": {
        "id": "ksFzl-30Slnv",
        "colab_type": "text"
      },
      "source": [
        "On accède à une donnée du dictionnaire ages en utilisant la clé. Ainsi si on veut accéder à l'age de Max, on tapera"
      ]
    },
    {
      "cell_type": "code",
      "metadata": {
        "id": "TdXLqVxISln1",
        "colab_type": "code",
        "colab": {},
        "outputId": "96ce8b3e-5f25-4774-f6d7-8b7df0156bf8"
      },
      "source": [
        "print(ages[\"Max\"])\n",
        "print(ages[\"Angele\"])\n",
        "print(identite[\"name\"])"
      ],
      "execution_count": 0,
      "outputs": [
        {
          "output_type": "stream",
          "text": [
            "12\n",
            "18\n",
            "John\n"
          ],
          "name": "stdout"
        }
      ]
    },
    {
      "cell_type": "markdown",
      "metadata": {
        "id": "iU2mK5QrSloK",
        "colab_type": "text"
      },
      "source": [
        "### Remarque :  l'appel d'une clé inexistante provoque une erreur"
      ]
    },
    {
      "cell_type": "code",
      "metadata": {
        "id": "GzDhxGvUSloS",
        "colab_type": "code",
        "colab": {},
        "outputId": "61136cb6-f625-492a-eb68-3eb39bcb7d07"
      },
      "source": [
        "print(ages[\"Carl\"])"
      ],
      "execution_count": 0,
      "outputs": [
        {
          "output_type": "error",
          "ename": "KeyError",
          "evalue": "'Carl'",
          "traceback": [
            "\u001b[0;31m---------------------------------------------------------------------------\u001b[0m",
            "\u001b[0;31mKeyError\u001b[0m                                  Traceback (most recent call last)",
            "\u001b[0;32m<ipython-input-9-e67fcd2ed49b>\u001b[0m in \u001b[0;36m<module>\u001b[0;34m\u001b[0m\n\u001b[0;32m----> 1\u001b[0;31m \u001b[0mprint\u001b[0m\u001b[0;34m(\u001b[0m\u001b[0mages\u001b[0m\u001b[0;34m[\u001b[0m\u001b[0;34m\"Carl\"\u001b[0m\u001b[0;34m]\u001b[0m\u001b[0;34m)\u001b[0m\u001b[0;34m\u001b[0m\u001b[0;34m\u001b[0m\u001b[0m\n\u001b[0m",
            "\u001b[0;31mKeyError\u001b[0m: 'Carl'"
          ]
        }
      ]
    },
    {
      "cell_type": "markdown",
      "metadata": {
        "id": "8SCcjZF-Sloi",
        "colab_type": "text"
      },
      "source": [
        "On peut tester la présence d'une clé avec le mot clé in"
      ]
    },
    {
      "cell_type": "code",
      "metadata": {
        "id": "l1CAZh2CSloo",
        "colab_type": "code",
        "colab": {},
        "outputId": "9fe43d68-9eae-4245-cc0d-ee5198e8abf8"
      },
      "source": [
        "if \"angele\" in ages:\n",
        "    print(ages[\"angele\"])\n",
        "else:\n",
        "    print(\"pas de cle correspondante dans ages\")"
      ],
      "execution_count": 0,
      "outputs": [
        {
          "output_type": "stream",
          "text": [
            "pas de cle correspondante dans ages\n"
          ],
          "name": "stdout"
        }
      ]
    },
    {
      "cell_type": "markdown",
      "metadata": {
        "id": "8SHMKrbDSlo3",
        "colab_type": "text"
      },
      "source": [
        "## Ajouter des éléments\n",
        "\n",
        "On peut ainsi ajouter une donnée tout simplement en affectant une valeur à une nouvelle clé dans le dictionnaire."
      ]
    },
    {
      "cell_type": "code",
      "metadata": {
        "id": "Y8zDRDIESlo8",
        "colab_type": "code",
        "colab": {},
        "outputId": "336fe2bd-a163-422e-fef8-7cce21ddbe8c"
      },
      "source": [
        "# rajoutons des entrées\n",
        "ages[\"Tom\"] = 9\n",
        "ages[\"Anna\"] = 20\n",
        "ages[\"Silvia\"] = 13\n",
        "ages[\"info_divers\"] = \"Tous et toutes à Sud-Médoc\"\n",
        "\n",
        "print(ages)"
      ],
      "execution_count": 0,
      "outputs": [
        {
          "output_type": "stream",
          "text": [
            "{'Carlos': 15, 'Angele': 18, 'Max': 12, 'Fred': 24, 'Anais': 18, 'Tom': 9, 'Anna': 20, 'Silvia': 13, 'info_divers': 'Tous et toutes à Sud-Médoc'}\n"
          ],
          "name": "stdout"
        }
      ]
    },
    {
      "cell_type": "markdown",
      "metadata": {
        "id": "vPZqtDsYSlpM",
        "colab_type": "text"
      },
      "source": [
        "### Modifier un élément\n",
        "\n",
        "Il suffit pour cela de faire une ré-affectation de la donnée, supposons par exemple que l'on veuille modifier l'age de Carlos qui n'a finalement que 14 ans"
      ]
    },
    {
      "cell_type": "code",
      "metadata": {
        "id": "gHBvw8QRSlpP",
        "colab_type": "code",
        "colab": {},
        "outputId": "7d9ebcd8-1179-406f-e9d1-02f7cc7c8d84"
      },
      "source": [
        "ages[\"Carlos\"] = 14\n",
        "\n",
        "print(ages)"
      ],
      "execution_count": 0,
      "outputs": [
        {
          "output_type": "stream",
          "text": [
            "{'Angele': 18, 'Max': 12, 'Fred': 24, 'Anais': 18, 'Tom': 9, 'Anna': 20, 'Silvia': 13, 'info_divers': 'Tous et toutes à Sud-Médoc', 'Carlos': 14}\n"
          ],
          "name": "stdout"
        }
      ]
    },
    {
      "cell_type": "markdown",
      "metadata": {
        "id": "RXonVn-CSlpg",
        "colab_type": "text"
      },
      "source": [
        "### Détruire un élément\n",
        "\n",
        "On utilise la fonction del() comme pour les listes"
      ]
    },
    {
      "cell_type": "code",
      "metadata": {
        "id": "_yy_4_d_Slpk",
        "colab_type": "code",
        "colab": {},
        "outputId": "f9ea5775-2637-4d57-dc1a-5a26b3a05b84"
      },
      "source": [
        "del(ages[\"info_divers\"])\n",
        "print(ages)"
      ],
      "execution_count": 0,
      "outputs": [
        {
          "output_type": "stream",
          "text": [
            "{'Carlos': 15, 'Angele': 18, 'Max': 12, 'Fred': 24, 'Anais': 18, 'Tom': 9, 'Anna': 20, 'Silvia': 13}\n"
          ],
          "name": "stdout"
        }
      ]
    },
    {
      "cell_type": "markdown",
      "metadata": {
        "id": "RDs_i6osSlp0",
        "colab_type": "text"
      },
      "source": [
        "## Exercice\n",
        "\n",
        "Créer une structure de donnée permettant de gérer le stock de fruits et légumes d'un maraicher.\n",
        "Vous remplirez la structure avec un stock d'une dizaine de fruits et légumes à titre d'illustration avec les quantités stockées en kilogramme."
      ]
    },
    {
      "cell_type": "markdown",
      "metadata": {
        "id": "RjJQ9SX0Slp5",
        "colab_type": "text"
      },
      "source": [
        "### Parcourir le dictionnaire\n",
        "\n",
        "### itérer sur la clé\n",
        "\n",
        "on écrit simplement : "
      ]
    },
    {
      "cell_type": "code",
      "metadata": {
        "id": "Zn3Yr7UXSlp-",
        "colab_type": "code",
        "colab": {},
        "outputId": "fd2d7bd0-1f36-4626-8714-1f8d49f41418"
      },
      "source": [
        "for prenom in ages:\n",
        "    print(prenom)"
      ],
      "execution_count": 0,
      "outputs": [
        {
          "output_type": "stream",
          "text": [
            "Carlos\n",
            "Angele\n",
            "Max\n",
            "Fred\n",
            "Anais\n",
            "Tom\n",
            "Anna\n",
            "Silvia\n"
          ],
          "name": "stdout"
        }
      ]
    },
    {
      "cell_type": "markdown",
      "metadata": {
        "id": "awmejKUmSlqN",
        "colab_type": "text"
      },
      "source": [
        "On peut également utilisé la méthode réservée .keys() pour demander un parcours explicitement par la clé"
      ]
    },
    {
      "cell_type": "code",
      "metadata": {
        "id": "TDC3VQ2gSlqS",
        "colab_type": "code",
        "colab": {},
        "outputId": "a5c229f0-d219-4fbd-f81a-1e1458c226f5"
      },
      "source": [
        "for prenoms in ages.keys():\n",
        "    print(prenoms)"
      ],
      "execution_count": 0,
      "outputs": [
        {
          "output_type": "stream",
          "text": [
            "Carlos\n",
            "Angele\n",
            "Max\n",
            "Fred\n",
            "Anais\n",
            "Tom\n",
            "Anna\n",
            "Silvia\n"
          ],
          "name": "stdout"
        }
      ]
    },
    {
      "cell_type": "markdown",
      "metadata": {
        "id": "IBAOAVXfSlqe",
        "colab_type": "text"
      },
      "source": [
        "### itérer sur la valeur\n",
        "\n",
        "On peut également parcourir le dictionnaire en itérant sur la valeur, on utilise alors la méthode **.values()**"
      ]
    },
    {
      "cell_type": "code",
      "metadata": {
        "id": "32TfeY_WSlqi",
        "colab_type": "code",
        "colab": {},
        "outputId": "bf5ce4fa-4643-438b-f13d-c812566f775c"
      },
      "source": [
        "for age in ages.values():\n",
        "    print(f\"les ages sont {age}\")"
      ],
      "execution_count": 0,
      "outputs": [
        {
          "output_type": "stream",
          "text": [
            "les ages sont 15\n",
            "les ages sont 18\n",
            "les ages sont 12\n",
            "les ages sont 24\n",
            "les ages sont 18\n",
            "les ages sont 9\n",
            "les ages sont 20\n",
            "les ages sont 13\n"
          ],
          "name": "stdout"
        }
      ]
    },
    {
      "cell_type": "markdown",
      "metadata": {
        "id": "w6u0h6kZSlqv",
        "colab_type": "text"
      },
      "source": [
        "### itérer simultanément sur les pairs clé, valeur\n",
        "\n",
        "On utilise la méthode **.items()**"
      ]
    },
    {
      "cell_type": "code",
      "metadata": {
        "id": "BfanbPv2Slqy",
        "colab_type": "code",
        "colab": {},
        "outputId": "7f49df13-c794-4ad7-981f-5c334464eaa8"
      },
      "source": [
        "for prenom, age in ages.items():\n",
        "    print(f\"{prenom} a {age} ans\")"
      ],
      "execution_count": 0,
      "outputs": [
        {
          "output_type": "stream",
          "text": [
            "Carlos a 15 ans\n",
            "Angele a 18 ans\n",
            "Max a 12 ans\n",
            "Fred a 24 ans\n",
            "Anais a 18 ans\n",
            "Tom a 9 ans\n",
            "Anna a 20 ans\n",
            "Silvia a 13 ans\n"
          ],
          "name": "stdout"
        }
      ]
    }
  ]
}