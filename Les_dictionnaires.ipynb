{
  "nbformat": 4,
  "nbformat_minor": 0,
  "metadata": {
    "kernelspec": {
      "display_name": "Python 3",
      "language": "python",
      "name": "python3"
    },
    "language_info": {
      "codemirror_mode": {
        "name": "ipython",
        "version": 3
      },
      "file_extension": ".py",
      "mimetype": "text/x-python",
      "name": "python",
      "nbconvert_exporter": "python",
      "pygments_lexer": "ipython3",
      "version": "3.7.3"
    },
    "colab": {
      "name": "Les dictionnaires.ipynb",
      "provenance": [],
      "collapsed_sections": [],
      "include_colab_link": true
    }
  },
  "cells": [
    {
      "cell_type": "markdown",
      "metadata": {
        "id": "view-in-github",
        "colab_type": "text"
      },
      "source": [
        "<a href=\"https://colab.research.google.com/github/LSMISN/NSI/blob/master/Les_dictionnaires.ipynb\" target=\"_parent\"><img src=\"https://colab.research.google.com/assets/colab-badge.svg\" alt=\"Open In Colab\"/></a>"
      ]
    },
    {
      "cell_type": "markdown",
      "metadata": {
        "id": "J37UJYY4Z37w",
        "colab_type": "text"
      },
      "source": [
        "## Les dictionnaires\n",
        "\n",
        "C'est une **structure de donnée** qui en Python est **mutable** (les éléments la composant peuvent être modifiés), **itérable** (on pourra parcourir la structure avec une boucle for <objet> in <dictionnaire>, et même utiliser les comprehensions pour les construires).\n",
        "    \n",
        "La structure est un **tableau associatif, non séquentiel** : Chaque élément est une **association \"clé\" : \"valeur\"**, dont l'ordre d'apparition n'a pas d'importance.\n",
        "    \n",
        "**On accède à la valeur d'une donnée en utilisant sa clé comme identifiant.**"
      ]
    },
    {
      "cell_type": "markdown",
      "metadata": {
        "id": "RTCSTW-dZ37-",
        "colab_type": "text"
      },
      "source": [
        "On veut par exemple mémoriser le tableau des ages suivant :\n",
        "\n",
        "|Prénom|Age|\n",
        "|:-----|:------|\n",
        "|Carlos|15|\n",
        "|Angele|18|\n",
        "|Max|12|\n",
        "|Fred|24|\n",
        "|Anais|18|\n",
        "\n",
        "On va se servir du prénom comme clé d'accès à la donnée age associée. Les accolades {} sont utilisées pour créer un dictionnaire."
      ]
    },
    {
      "cell_type": "code",
      "metadata": {
        "id": "oEAgfLZGZ38H",
        "colab_type": "code",
        "colab": {}
      },
      "source": [
        "ages = {\"Carlos\":15, \"Angele\":18, \"Max\":12, \"Fred\":24, \"Anais\":18}"
      ],
      "execution_count": 0,
      "outputs": []
    },
    {
      "cell_type": "markdown",
      "metadata": {
        "id": "oxforlZfZ38n",
        "colab_type": "text"
      },
      "source": [
        "On peut également utiliser la méthode dict() pour créer un dictionnaire mais la syntaxe est différente"
      ]
    },
    {
      "cell_type": "code",
      "metadata": {
        "id": "NrjMGFX_Z38t",
        "colab_type": "code",
        "colab": {}
      },
      "source": [
        "identite = dict(name = \"John\", age = 36, country = \"Norway\", job = \"devOp\")"
      ],
      "execution_count": 0,
      "outputs": []
    },
    {
      "cell_type": "markdown",
      "metadata": {
        "id": "1itSzQYGZ39H",
        "colab_type": "text"
      },
      "source": [
        "On accède à une donnée du dictionnaire ages en utilisant la clé. Ainsi si on veut accéder à l'age de Max, on tapera"
      ]
    },
    {
      "cell_type": "code",
      "metadata": {
        "id": "x5WwTonFZ39M",
        "colab_type": "code",
        "colab": {},
        "outputId": "e1457e51-6faa-4aeb-d643-9c7580568aa3"
      },
      "source": [
        "print(ages[\"Max\"])\n",
        "print(ages[\"Angele\"])\n",
        "print(identite[\"name\"])"
      ],
      "execution_count": 0,
      "outputs": [
        {
          "output_type": "stream",
          "text": [
            "12\n",
            "18\n",
            "John\n"
          ],
          "name": "stdout"
        }
      ]
    },
    {
      "cell_type": "markdown",
      "metadata": {
        "id": "oFmfRuleZ39q",
        "colab_type": "text"
      },
      "source": [
        "### Remarque :  l'appel d'une clé inexistante provoque une erreur"
      ]
    },
    {
      "cell_type": "code",
      "metadata": {
        "id": "o8bwEB2sZ39x",
        "colab_type": "code",
        "colab": {},
        "outputId": "184d55d1-a701-4b9c-8eeb-050b45f2fc10"
      },
      "source": [
        "print(ages[\"Carl\"])"
      ],
      "execution_count": 0,
      "outputs": [
        {
          "output_type": "error",
          "ename": "KeyError",
          "evalue": "'Carl'",
          "traceback": [
            "\u001b[0;31m---------------------------------------------------------------------------\u001b[0m",
            "\u001b[0;31mKeyError\u001b[0m                                  Traceback (most recent call last)",
            "\u001b[0;32m<ipython-input-9-e67fcd2ed49b>\u001b[0m in \u001b[0;36m<module>\u001b[0;34m\u001b[0m\n\u001b[0;32m----> 1\u001b[0;31m \u001b[0mprint\u001b[0m\u001b[0;34m(\u001b[0m\u001b[0mages\u001b[0m\u001b[0;34m[\u001b[0m\u001b[0;34m\"Carl\"\u001b[0m\u001b[0;34m]\u001b[0m\u001b[0;34m)\u001b[0m\u001b[0;34m\u001b[0m\u001b[0;34m\u001b[0m\u001b[0m\n\u001b[0m",
            "\u001b[0;31mKeyError\u001b[0m: 'Carl'"
          ]
        }
      ]
    },
    {
      "cell_type": "markdown",
      "metadata": {
        "id": "WxZlTWtDZ3-B",
        "colab_type": "text"
      },
      "source": [
        "On peut tester la présence d'une clé avec le mot clé in"
      ]
    },
    {
      "cell_type": "code",
      "metadata": {
        "id": "3QqifMztZ3-F",
        "colab_type": "code",
        "colab": {},
        "outputId": "093a9637-3b0a-49bd-b02d-fda511c1871f"
      },
      "source": [
        "if \"angele\" in ages:\n",
        "    print(ages[\"angele\"])\n",
        "else:\n",
        "    print(\"pas de cle correspondante dans ages\")"
      ],
      "execution_count": 0,
      "outputs": [
        {
          "output_type": "stream",
          "text": [
            "pas de cle correspondante dans ages\n"
          ],
          "name": "stdout"
        }
      ]
    },
    {
      "cell_type": "markdown",
      "metadata": {
        "id": "GWibnhj-Z3-T",
        "colab_type": "text"
      },
      "source": [
        "## Ajouter des éléments\n",
        "\n",
        "On peut ainsi ajouter une donnée tout simplement en affectant une valeur à une nouvelle clé dans le dictionnaire."
      ]
    },
    {
      "cell_type": "code",
      "metadata": {
        "id": "FD3Un1ZnZ3-X",
        "colab_type": "code",
        "colab": {},
        "outputId": "2813c2ed-9d2c-49ff-ae14-1f13e3b8895e"
      },
      "source": [
        "# rajoutons des entrées\n",
        "ages[\"Tom\"] = 9\n",
        "ages[\"Anna\"] = 20\n",
        "ages[\"Silvia\"] = 13\n",
        "ages[\"info_divers\"] = \"Tous et toutes à Sud-Médoc\"\n",
        "\n",
        "print(ages)"
      ],
      "execution_count": 0,
      "outputs": [
        {
          "output_type": "stream",
          "text": [
            "{'Carlos': 15, 'Angele': 18, 'Max': 12, 'Fred': 24, 'Anais': 18, 'Tom': 9, 'Anna': 20, 'Silvia': 13, 'info_divers': 'Tous et toutes à Sud-Médoc'}\n"
          ],
          "name": "stdout"
        }
      ]
    },
    {
      "cell_type": "markdown",
      "metadata": {
        "id": "Wy_ic1hAZ3-o",
        "colab_type": "text"
      },
      "source": [
        "### Modifier un élément\n",
        "\n",
        "Il suffit pour cela de faire une ré-affectation de la donnée, supposons par exemple que l'on veuille modifier l'age de Carlos qui n'a finalement que 14 ans"
      ]
    },
    {
      "cell_type": "code",
      "metadata": {
        "id": "TYW-AId6Z3-r",
        "colab_type": "code",
        "colab": {},
        "outputId": "4bf59bd5-67b2-406b-8426-3f81a5c2541a"
      },
      "source": [
        "ages[\"Carlos\"] = 14\n",
        "\n",
        "print(ages)"
      ],
      "execution_count": 0,
      "outputs": [
        {
          "output_type": "stream",
          "text": [
            "{'Angele': 18, 'Max': 12, 'Fred': 24, 'Anais': 18, 'Tom': 9, 'Anna': 20, 'Silvia': 13, 'info_divers': 'Tous et toutes à Sud-Médoc', 'Carlos': 14}\n"
          ],
          "name": "stdout"
        }
      ]
    },
    {
      "cell_type": "markdown",
      "metadata": {
        "id": "eebSDQFQZ3-4",
        "colab_type": "text"
      },
      "source": [
        "### Détruire un élément\n",
        "\n",
        "On utilise la fonction del() comme pour les listes"
      ]
    },
    {
      "cell_type": "code",
      "metadata": {
        "id": "rKY7vEbEZ3-8",
        "colab_type": "code",
        "colab": {},
        "outputId": "0d930dc9-c1af-40a5-914f-6d5de33f208f"
      },
      "source": [
        "del(ages[\"info_divers\"])\n",
        "print(ages)"
      ],
      "execution_count": 0,
      "outputs": [
        {
          "output_type": "stream",
          "text": [
            "{'Carlos': 15, 'Angele': 18, 'Max': 12, 'Fred': 24, 'Anais': 18, 'Tom': 9, 'Anna': 20, 'Silvia': 13}\n"
          ],
          "name": "stdout"
        }
      ]
    },
    {
      "cell_type": "markdown",
      "metadata": {
        "id": "HFdKoXduZ3_M",
        "colab_type": "text"
      },
      "source": [
        "## Exercice\n",
        "\n",
        "Créer une structure de donnée permettant de gérer le stock de fruits et légumes d'un maraicher.\n",
        "Vous remplirez la structure avec un stock d'une dizaine de fruits et légumes à titre d'illustration avec les quantités stockées en kilogramme."
      ]
    },
    {
      "cell_type": "markdown",
      "metadata": {
        "id": "2f6YFYaRZ3_Q",
        "colab_type": "text"
      },
      "source": [
        "### Parcourir le dictionnaire\n",
        "\n",
        "### itérer sur la clé\n",
        "\n",
        "on écrit simplement : "
      ]
    },
    {
      "cell_type": "code",
      "metadata": {
        "id": "rhLxdGQ-Z3_T",
        "colab_type": "code",
        "colab": {},
        "outputId": "308ceaf3-6410-401c-e5ad-9319db592625"
      },
      "source": [
        "for prenom in ages:\n",
        "    print(prenom)"
      ],
      "execution_count": 0,
      "outputs": [
        {
          "output_type": "stream",
          "text": [
            "Carlos\n",
            "Angele\n",
            "Max\n",
            "Fred\n",
            "Anais\n",
            "Tom\n",
            "Anna\n",
            "Silvia\n"
          ],
          "name": "stdout"
        }
      ]
    },
    {
      "cell_type": "markdown",
      "metadata": {
        "id": "ArNtcp5qZ3_h",
        "colab_type": "text"
      },
      "source": [
        "On peut également utilisé la méthode réservée .keys() pour demander un parcours explicitement par la clé"
      ]
    },
    {
      "cell_type": "code",
      "metadata": {
        "id": "AgfTJ1cUZ3_m",
        "colab_type": "code",
        "colab": {},
        "outputId": "4752d9d6-a177-4943-bfe5-a7771771b9a4"
      },
      "source": [
        "for prenoms in ages.keys():\n",
        "    print(prenoms)"
      ],
      "execution_count": 0,
      "outputs": [
        {
          "output_type": "stream",
          "text": [
            "Carlos\n",
            "Angele\n",
            "Max\n",
            "Fred\n",
            "Anais\n",
            "Tom\n",
            "Anna\n",
            "Silvia\n"
          ],
          "name": "stdout"
        }
      ]
    },
    {
      "cell_type": "markdown",
      "metadata": {
        "id": "iiS8r6TFZ3_y",
        "colab_type": "text"
      },
      "source": [
        "### itérer sur la valeur\n",
        "\n",
        "On peut également parcourir le dictionnaire en itérant sur la valeur, on utilise alors la méthode **.values()**"
      ]
    },
    {
      "cell_type": "code",
      "metadata": {
        "id": "LP9NcMLEZ3_2",
        "colab_type": "code",
        "colab": {},
        "outputId": "ec20cea8-4c6a-45a9-8424-f2f623d28642"
      },
      "source": [
        "for age in ages.values():\n",
        "    print(f\"les ages sont {age}\")"
      ],
      "execution_count": 0,
      "outputs": [
        {
          "output_type": "stream",
          "text": [
            "les ages sont 15\n",
            "les ages sont 18\n",
            "les ages sont 12\n",
            "les ages sont 24\n",
            "les ages sont 18\n",
            "les ages sont 9\n",
            "les ages sont 20\n",
            "les ages sont 13\n"
          ],
          "name": "stdout"
        }
      ]
    },
    {
      "cell_type": "markdown",
      "metadata": {
        "id": "qKJ7ZOQqZ4AD",
        "colab_type": "text"
      },
      "source": [
        "### itérer simultanément sur les pairs clé, valeur\n",
        "\n",
        "On utilise la méthode **.items()**"
      ]
    },
    {
      "cell_type": "code",
      "metadata": {
        "id": "1q9BmLeeZ4AG",
        "colab_type": "code",
        "colab": {},
        "outputId": "4a60ab81-8142-4947-db63-988688140893"
      },
      "source": [
        "for prenom, age in ages.items():\n",
        "    print(f\"{prenom} a {age} ans\")"
      ],
      "execution_count": 0,
      "outputs": [
        {
          "output_type": "stream",
          "text": [
            "Carlos a 15 ans\n",
            "Angele a 18 ans\n",
            "Max a 12 ans\n",
            "Fred a 24 ans\n",
            "Anais a 18 ans\n",
            "Tom a 9 ans\n",
            "Anna a 20 ans\n",
            "Silvia a 13 ans\n"
          ],
          "name": "stdout"
        }
      ]
    }
  ]
}